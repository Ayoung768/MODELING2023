{
  "nbformat": 4,
  "nbformat_minor": 0,
  "metadata": {
    "colab": {
      "provenance": [],
      "mount_file_id": "1hl8dYXi6IAV8Hqgmqo-rfg_Dg0KAFvVV",
      "authorship_tag": "ABX9TyPX+33l1goMtbdxfUvkJUm0",
      "include_colab_link": true
    },
    "kernelspec": {
      "name": "python3",
      "display_name": "Python 3"
    },
    "language_info": {
      "name": "python"
    }
  },
  "cells": [
    {
      "cell_type": "markdown",
      "metadata": {
        "id": "view-in-github",
        "colab_type": "text"
      },
      "source": [
        "<a href=\"https://colab.research.google.com/github/Ayoung768/MODELING2023/blob/main/KIM_AY_A3.ipynb\" target=\"_parent\"><img src=\"https://colab.research.google.com/assets/colab-badge.svg\" alt=\"Open In Colab\"/></a>"
      ]
    },
    {
      "cell_type": "code",
      "execution_count": 1,
      "metadata": {
        "id": "Z79LODiQhgwx"
      },
      "outputs": [],
      "source": [
        "import pandas as pd"
      ]
    },
    {
      "cell_type": "code",
      "source": [
        "import numpy as np"
      ],
      "metadata": {
        "id": "hZaFYUIUhs65"
      },
      "execution_count": 2,
      "outputs": []
    },
    {
      "cell_type": "code",
      "source": [
        "from google.colab import drive\n",
        "drive.mount('/content/gdrive')"
      ],
      "metadata": {
        "colab": {
          "base_uri": "https://localhost:8080/"
        },
        "id": "kVOHp45FjBE8",
        "outputId": "ed0184ee-1349-4781-d767-0de2562c0815"
      },
      "execution_count": 3,
      "outputs": [
        {
          "output_type": "stream",
          "name": "stdout",
          "text": [
            "Mounted at /content/gdrive\n"
          ]
        }
      ]
    },
    {
      "cell_type": "code",
      "source": [
        "path_gdrive='/content/gdrive/MyDrive/ENV716-F23'"
      ],
      "metadata": {
        "id": "yQfT1AsRmIqP"
      },
      "execution_count": 4,
      "outputs": []
    },
    {
      "cell_type": "code",
      "source": [
        "import os\n",
        "os.chdir(path_gdrive)"
      ],
      "metadata": {
        "id": "Z7RQO2EnmRpc"
      },
      "execution_count": 5,
      "outputs": []
    },
    {
      "cell_type": "code",
      "source": [
        "df_plant21=pd.read_excel(io=\"eGRID2021_data.xlsx\",sheet_name=\"PLNT21\")"
      ],
      "metadata": {
        "id": "ylwKN7vZmdUm"
      },
      "execution_count": 6,
      "outputs": []
    },
    {
      "cell_type": "code",
      "source": [
        "df_plant21=pd.read_excel(io=\"eGRID2021_data.xlsx\",sheet_name=\"PLNT21\",skiprows=1,keep_default_na=False)\n"
      ],
      "metadata": {
        "id": "iseY0w2nmrdP"
      },
      "execution_count": 7,
      "outputs": []
    },
    {
      "cell_type": "code",
      "source": [
        "pd.set_option('display.max_column',None)"
      ],
      "metadata": {
        "id": "xqrJ5DfI--mf"
      },
      "execution_count": 9,
      "outputs": []
    },
    {
      "cell_type": "code",
      "source": [
        "NumRows=len(df_plant21)"
      ],
      "metadata": {
        "id": "MeeRSjQ1AFiG"
      },
      "execution_count": 10,
      "outputs": []
    },
    {
      "cell_type": "code",
      "source": [
        "df_plant21.dtypes"
      ],
      "metadata": {
        "colab": {
          "base_uri": "https://localhost:8080/"
        },
        "id": "pj1YfAZPAOs_",
        "outputId": "3c861671-f257-4849-d1b8-c5b53b29fc92"
      },
      "execution_count": 11,
      "outputs": [
        {
          "output_type": "execute_result",
          "data": {
            "text/plain": [
              "SEQPLT       int64\n",
              "YEAR         int64\n",
              "PSTATABB    object\n",
              "PNAME       object\n",
              "ORISPL       int64\n",
              "             ...  \n",
              "PLTNPR      object\n",
              "PLTRPR      object\n",
              "PLTHPR      object\n",
              "PLCYPR      object\n",
              "PLCNPR      object\n",
              "Length: 141, dtype: object"
            ]
          },
          "metadata": {},
          "execution_count": 11
        }
      ]
    },
    {
      "cell_type": "code",
      "source": [
        "df_plant21.columns"
      ],
      "metadata": {
        "colab": {
          "base_uri": "https://localhost:8080/"
        },
        "id": "qYz3vtgKBZdC",
        "outputId": "086e87e9-bef9-4d92-92d0-31519d91ed20"
      },
      "execution_count": 12,
      "outputs": [
        {
          "output_type": "execute_result",
          "data": {
            "text/plain": [
              "Index(['SEQPLT', 'YEAR', 'PSTATABB', 'PNAME', 'ORISPL', 'OPRNAME', 'OPRCODE',\n",
              "       'UTLSRVNM', 'UTLSRVID', 'SECTOR',\n",
              "       ...\n",
              "       'PLWIPR', 'PLSOPR', 'PLGTPR', 'PLOFPR', 'PLOPPR', 'PLTNPR', 'PLTRPR',\n",
              "       'PLTHPR', 'PLCYPR', 'PLCNPR'],\n",
              "      dtype='object', length=141)"
            ]
          },
          "metadata": {},
          "execution_count": 12
        }
      ]
    },
    {
      "cell_type": "code",
      "source": [
        "list(df_plant21.columns.values)"
      ],
      "metadata": {
        "colab": {
          "base_uri": "https://localhost:8080/"
        },
        "id": "tr4KeSjjB1ld",
        "outputId": "9ea38dde-7b2a-422c-e4a6-7d22a57b55c9"
      },
      "execution_count": 13,
      "outputs": [
        {
          "output_type": "execute_result",
          "data": {
            "text/plain": [
              "['SEQPLT',\n",
              " 'YEAR',\n",
              " 'PSTATABB',\n",
              " 'PNAME',\n",
              " 'ORISPL',\n",
              " 'OPRNAME',\n",
              " 'OPRCODE',\n",
              " 'UTLSRVNM',\n",
              " 'UTLSRVID',\n",
              " 'SECTOR',\n",
              " 'BANAME',\n",
              " 'BACODE',\n",
              " 'NERC',\n",
              " 'SUBRGN',\n",
              " 'SRNAME',\n",
              " 'ISORTO',\n",
              " 'FIPSST',\n",
              " 'FIPSCNTY',\n",
              " 'CNTYNAME',\n",
              " 'LAT',\n",
              " 'LON',\n",
              " 'CAMDFLAG',\n",
              " 'NUMUNT',\n",
              " 'NUMGEN',\n",
              " 'PLPRMFL',\n",
              " 'PLFUELCT',\n",
              " 'COALFLAG',\n",
              " 'CAPFAC',\n",
              " 'NAMEPCAP',\n",
              " 'NBFACTOR',\n",
              " 'RMBMFLAG',\n",
              " 'CHPFLAG',\n",
              " 'USETHRMO',\n",
              " 'PWRTOHT',\n",
              " 'ELCALLOC',\n",
              " 'PSFLAG',\n",
              " 'PLHTIAN',\n",
              " 'PLHTIOZ',\n",
              " 'PLHTIANT',\n",
              " 'PLHTIOZT',\n",
              " 'PLNGENAN',\n",
              " 'PLNGENOZ',\n",
              " 'PLNOXAN',\n",
              " 'PLNOXOZ',\n",
              " 'PLSO2AN',\n",
              " 'PLCO2AN',\n",
              " 'PLCH4AN',\n",
              " 'PLN2OAN',\n",
              " 'PLCO2EQA',\n",
              " 'PLHGAN',\n",
              " 'PLNOXRTA',\n",
              " 'PLNOXRTO',\n",
              " 'PLSO2RTA',\n",
              " 'PLCO2RTA',\n",
              " 'PLCH4RTA',\n",
              " 'PLN2ORTA',\n",
              " 'PLC2ERTA',\n",
              " 'PLHGRTA',\n",
              " 'PLNOXRA',\n",
              " 'PLNOXRO',\n",
              " 'PLSO2RA',\n",
              " 'PLCO2RA',\n",
              " 'PLCH4RA',\n",
              " 'PLN2ORA',\n",
              " 'PLC2ERA',\n",
              " 'PLHGRA',\n",
              " 'PLNOXCRT',\n",
              " 'PLNOXCRO',\n",
              " 'PLSO2CRT',\n",
              " 'PLCO2CRT',\n",
              " 'PLCH4CRT',\n",
              " 'PLN2OCRT',\n",
              " 'PLC2ECRT',\n",
              " 'PLHGCRT',\n",
              " 'UNNOX',\n",
              " 'UNNOXOZ',\n",
              " 'UNSO2',\n",
              " 'UNCO2',\n",
              " 'UNCH4',\n",
              " 'UNN2O',\n",
              " 'UNHG',\n",
              " 'UNHTI',\n",
              " 'UNHTIOZ',\n",
              " 'UNHTIT',\n",
              " 'UNHTIOZT',\n",
              " 'UNNOXSRC',\n",
              " 'UNNOZSRC',\n",
              " 'UNSO2SRC',\n",
              " 'UNCO2SRC',\n",
              " 'UNCH4SRC',\n",
              " 'UNN2OSRC',\n",
              " 'UNHGSRC',\n",
              " 'UNHTISRC',\n",
              " 'UNHOZSRC',\n",
              " 'BIONOX',\n",
              " 'BIONOXOZ',\n",
              " 'BIOSO2',\n",
              " 'BIOCO2',\n",
              " 'BIOCH4',\n",
              " 'BION2O',\n",
              " 'CHPCHTI',\n",
              " 'CHPCHTIOZ',\n",
              " 'CHPNOX',\n",
              " 'CHPNOXOZ',\n",
              " 'CHPSO2',\n",
              " 'CHPCO2',\n",
              " 'CHPCH4',\n",
              " 'CHPN2O',\n",
              " 'PLHTRT',\n",
              " 'PLGENACL',\n",
              " 'PLGENAOL',\n",
              " 'PLGENAGS',\n",
              " 'PLGENANC',\n",
              " 'PLGENAHY',\n",
              " 'PLGENABM',\n",
              " 'PLGENAWI',\n",
              " 'PLGENASO',\n",
              " 'PLGENAGT',\n",
              " 'PLGENAOF',\n",
              " 'PLGENAOP',\n",
              " 'PLGENATN',\n",
              " 'PLGENATR',\n",
              " 'PLGENATH',\n",
              " 'PLGENACY',\n",
              " 'PLGENACN',\n",
              " 'PLCLPR',\n",
              " 'PLOLPR',\n",
              " 'PLGSPR',\n",
              " 'PLNCPR',\n",
              " 'PLHYPR',\n",
              " 'PLBMPR',\n",
              " 'PLWIPR',\n",
              " 'PLSOPR',\n",
              " 'PLGTPR',\n",
              " 'PLOFPR',\n",
              " 'PLOPPR',\n",
              " 'PLTNPR',\n",
              " 'PLTRPR',\n",
              " 'PLTHPR',\n",
              " 'PLCYPR',\n",
              " 'PLCNPR']"
            ]
          },
          "metadata": {},
          "execution_count": 13
        }
      ]
    },
    {
      "cell_type": "markdown",
      "source": [
        "1-a\n"
      ],
      "metadata": {
        "id": "31_bI6q4xcTt"
      }
    },
    {
      "cell_type": "code",
      "source": [
        "n_df_plant21=df_plant21[['PSTATABB','PNAME','PLPRMFL','NAMEPCAP']]\n",
        "df_plant21.head(10)\n"
      ],
      "metadata": {
        "colab": {
          "base_uri": "https://localhost:8080/",
          "height": 904
        },
        "id": "SKUxuMXqm2-m",
        "outputId": "7ae02d11-6818-46ea-b360-31621c10790c"
      },
      "execution_count": 14,
      "outputs": [
        {
          "output_type": "execute_result",
          "data": {
            "text/plain": [
              "   SEQPLT  YEAR PSTATABB                             PNAME  ORISPL  \\\n",
              "0       1  2021       AK  Agrium Kenai Nitrogen Operations   54452   \n",
              "1       2  2021       AK                          Alakanuk   57053   \n",
              "2       3  2021       AK               Allison Creek Hydro   58982   \n",
              "3       4  2021       AK                            Ambler   60243   \n",
              "4       5  2021       AK                            Angoon    7462   \n",
              "5       6  2021       AK                             Aniak    7182   \n",
              "6       7  2021       AK                       Annex Creek      62   \n",
              "7       8  2021       AK                          Auke Bay    7250   \n",
              "8       9  2021       AK           Aurora Energy LLC Chena      79   \n",
              "9      10  2021       AK                            Barrow    7173   \n",
              "\n",
              "                          OPRNAME  OPRCODE                           UTLSRVNM  \\\n",
              "0         Homer Electric Assn Inc    19558                      Agrium US Inc   \n",
              "1   Alaska Village Elec Coop, Inc      221      Alaska Village Elec Coop, Inc   \n",
              "2    Copper Valley Elec Assn, Inc     4329       Copper Valley Elec Assn, Inc   \n",
              "3   Alaska Village Elec Coop, Inc      221      Alaska Village Elec Coop, Inc   \n",
              "4   Inside Passage Elec Coop, Inc    18963      Inside Passage Elec Coop, Inc   \n",
              "5      Aniak Light & Power Co Inc     4959         Aniak Light & Power Co Inc   \n",
              "6  Alaska Electric Light&Power Co      213  Alaska Electric Light & Power Co.   \n",
              "7  Alaska Electric Light&Power Co      213  Alaska Electric Light & Power Co.   \n",
              "8     Golden Valley Elec Assn Inc     7353                  Aurora Energy LLC   \n",
              "9   Barrow Utils & Elec Coop, Inc     1276      Barrow Utils & Elec Coop, Inc   \n",
              "\n",
              "   UTLSRVID            SECTOR                  BANAME BACODE NERC SUBRGN  \\\n",
              "0       179    Industrial CHP  No balancing authority     NA   AK   AKGD   \n",
              "1       221  Electric Utility  No balancing authority     NA   AK   AKMS   \n",
              "2      4329  Electric Utility  No balancing authority     NA   AK   AKMS   \n",
              "3       221  Electric Utility  No balancing authority     NA   AK   AKMS   \n",
              "4     18963  Electric Utility  No balancing authority     NA   AK   AKMS   \n",
              "5      4959  Electric Utility  No balancing authority     NA   AK   AKMS   \n",
              "6       213  Electric Utility  No balancing authority     NA   AK   AKMS   \n",
              "7       213  Electric Utility  No balancing authority     NA   AK   AKMS   \n",
              "8       986           IPP CHP  No balancing authority     NA   AK   AKGD   \n",
              "9      1276  Electric Utility  No balancing authority     NA   AK   AKMS   \n",
              "\n",
              "               SRNAME ISORTO  FIPSST FIPSCNTY              CNTYNAME  \\\n",
              "0    ASCC Alaska Grid              2      122       Kenai Peninsula   \n",
              "1  ASCC Miscellaneous              2      270          Wade Hampton   \n",
              "2  ASCC Miscellaneous              2      261        Valdez Cordova   \n",
              "3  ASCC Miscellaneous              2      188      Northwest Arctic   \n",
              "4  ASCC Miscellaneous              2      105         Hoonah-Angoon   \n",
              "5  ASCC Miscellaneous              2      050                Bethel   \n",
              "6  ASCC Miscellaneous              2      110                Juneau   \n",
              "7  ASCC Miscellaneous              2      110                Juneau   \n",
              "8    ASCC Alaska Grid              2      090  Fairbanks North Star   \n",
              "9  ASCC Miscellaneous              2      185           North Slope   \n",
              "\n",
              "         LAT         LON CAMDFLAG  NUMUNT  NUMGEN PLPRMFL PLFUELCT COALFLAG  \\\n",
              "0  60.673200 -151.378400                5       5      NG      GAS            \n",
              "1  62.683300 -164.654400                1       1      JF      OIL            \n",
              "2  61.084444 -146.353333                1       1     WAT    HYDRO            \n",
              "3  67.087980 -157.856719                3       3     DFO      OIL            \n",
              "4  57.499166 -134.586140                3       3     DFO      OIL            \n",
              "5  61.580678 -159.535643                4       4     DFO      OIL            \n",
              "6  58.317600 -134.101000                2       2     WAT    HYDRO            \n",
              "7  58.387500 -134.644600                3       3     DFO      OIL            \n",
              "8  64.847743 -147.735063                4       3     SUB     COAL      Yes   \n",
              "9  71.292000 -156.778600                7       7      NG      GAS            \n",
              "\n",
              "    CAPFAC  NAMEPCAP  NBFACTOR RMBMFLAG CHPFLAG  USETHRMO PWRTOHT  ELCALLOC  \\\n",
              "0               12.5                        Yes                               \n",
              "1        0       0.8                        Yes       268       0         0   \n",
              "2  0.30824       6.5                                                          \n",
              "3   0.1347       1.1         1                                                \n",
              "4  0.13257       1.5         1              Yes         0                 1   \n",
              "5  0.11841       2.2         1                                                \n",
              "6  0.74152       4.0                                                          \n",
              "7        0      36.2                                                          \n",
              "8  0.73522      27.5  0.107963      Yes     Yes  698841.6   0.865  0.535602   \n",
              "9  0.26616      20.3  0.889731              Yes         0                 1   \n",
              "\n",
              "  PSFLAG      PLHTIAN     PLHTIOZ     PLHTIANT    PLHTIOZT   PLNGENAN  \\\n",
              "0                                                                       \n",
              "1                                                                   0   \n",
              "2                                       155201       64274      17551   \n",
              "3           13418.999    4885.999    13418.999    4885.999       1298   \n",
              "4               17910        6537        17910        6537   1742.001   \n",
              "5               26685        9731        26685        9731       2282   \n",
              "6                                       229770       95155      25983   \n",
              "7                2141         776         2141         776       -354   \n",
              "8         1663630.766  678346.782  1663630.766  678346.782     177115   \n",
              "9          748193.999      351133   748193.999      351133  47331.001   \n",
              "\n",
              "  PLNGENOZ  PLNOXAN  PLNOXOZ  PLSO2AN    PLCO2AN   PLCH4AN   PLN2OAN  \\\n",
              "0                                                                      \n",
              "1        0                                                             \n",
              "2     7268                                                             \n",
              "3  474.001   22.294    8.118    1.946   1095.834    88.752     17.75   \n",
              "4      636   28.779   10.503    2.597   1462.581   118.454    23.691   \n",
              "5      833    45.21   16.486    3.869   2179.174   176.491    35.298   \n",
              "6    10760                                                             \n",
              "7     -129    1.152    0.418    0.328     174.84     14.16     2.832   \n",
              "8    78454  285.189  111.296  167.348  177919.01  40344.44  5868.282   \n",
              "9    22213  119.709   56.182    1.196  43727.847  1649.566   164.969   \n",
              "\n",
              "     PLCO2EQA PLHGAN PLNOXRTA PLNOXRTO PLSO2RTA  PLCO2RTA PLCH4RTA PLN2ORTA  \\\n",
              "0                                                                             \n",
              "1                                                                             \n",
              "2                                                                             \n",
              "3    1099.588          34.351   34.253    2.998  1688.496    0.068    0.014   \n",
              "4    1467.592          33.041   33.028    2.981  1679.197    0.068    0.014   \n",
              "5     2186.64          39.623   39.582    3.391  1909.881    0.077    0.015   \n",
              "6                                                                             \n",
              "7     175.439               0        0        0         0        0        0   \n",
              "8  179297.689            3.22    2.837     1.89  2009.079    0.228    0.033   \n",
              "9   43773.047           5.058    5.058    0.051  1847.747    0.035    0.003   \n",
              "\n",
              "   PLC2ERTA PLHGRTA PLNOXRA PLNOXRO PLSO2RA  PLCO2RA PLCH4RA PLN2ORA  PLC2ERA  \\\n",
              "0                                                                               \n",
              "1                                                                               \n",
              "2                                                                               \n",
              "3  1694.281           3.323   3.323    0.29  163.326   0.007   0.001  163.885   \n",
              "4  1684.949           3.214   3.213    0.29  163.326   0.007   0.001  163.885   \n",
              "5  1916.424           3.388   3.388    0.29  163.326   0.007   0.001  163.885   \n",
              "6                                                                               \n",
              "7         0           1.076   1.077   0.306  163.326   0.007   0.001  163.885   \n",
              "8  2024.647           0.343   0.328   0.201  213.892   0.024   0.004   215.55   \n",
              "9  1849.657            0.32    0.32   0.003  116.889   0.002       0   117.01   \n",
              "\n",
              "  PLHGRA PLNOXCRT PLNOXCRO PLSO2CRT  PLCO2CRT PLCH4CRT PLN2OCRT  PLC2ECRT  \\\n",
              "0                                                                           \n",
              "1                                                                           \n",
              "2                                                                           \n",
              "3          34.351   34.253    2.998  1688.496    0.068    0.014  1694.281   \n",
              "4          33.041   33.028    2.981  1679.197    0.068    0.014   1684.95   \n",
              "5          39.623   39.582    3.391  1909.881    0.077    0.015  1916.424   \n",
              "6                                                                           \n",
              "7               0        0        0         0        0        0         0   \n",
              "8            3.22    2.837     1.89  2009.079    0.228    0.033  2024.647   \n",
              "9           5.058    5.058    0.051  1847.747    0.035    0.003  1849.657   \n",
              "\n",
              "  PLHGCRT    UNNOX  UNNOXOZ    UNSO2       UNCO2      UNCH4      UNN2O UNHG  \\\n",
              "0                                                                             \n",
              "1                                                                             \n",
              "2                                                                             \n",
              "3           22.294    8.118    1.946    1095.834     88.752      17.75        \n",
              "4           28.779   10.503    2.597    1462.581    118.454     23.691        \n",
              "5            45.21   16.486    3.869    2179.174    176.491     35.298        \n",
              "6                                                                             \n",
              "7            1.152    0.418    0.328      174.84      14.16      2.832        \n",
              "8          532.465  207.797  312.449  332185.193  75325.429  10956.426        \n",
              "9          119.709   56.182    1.196   43727.847   1649.566    164.969        \n",
              "\n",
              "        UNHTI    UNHTIOZ      UNHTIT   UNHTIOZT UNNOXSRC UNNOZSRC UNSO2SRC  \\\n",
              "0                                                                            \n",
              "1                                                                            \n",
              "2                             155201      64274                              \n",
              "3   13418.999   4885.999   13418.999   4885.999      EIA      EIA      EIA   \n",
              "4       17910       6537       17910       6537      EIA      EIA      EIA   \n",
              "5       26685       9731       26685       9731      EIA      EIA      EIA   \n",
              "6                             229770      95155                              \n",
              "7        2141        776        2141        776      EIA      EIA      EIA   \n",
              "8   3106095.9  1266513.1   3106095.9  1266513.1      EIA      EIA      EIA   \n",
              "9  748193.999     351133  748193.999     351133      EIA      EIA      EIA   \n",
              "\n",
              "  UNCO2SRC UNCH4SRC UNN2OSRC UNHGSRC UNHTISRC UNHOZSRC BIONOX BIONOXOZ BIOSO2  \\\n",
              "0                                 --                                            \n",
              "1                                 --                                            \n",
              "2                                 --      EIA      EIA                          \n",
              "3      EIA      EIA      EIA      --      EIA      EIA                          \n",
              "4      EIA      EIA      EIA      --      EIA      EIA                          \n",
              "5      EIA      EIA      EIA      --      EIA      EIA                          \n",
              "6                                 --      EIA      EIA                          \n",
              "7      EIA      EIA      EIA      --      EIA      EIA                          \n",
              "8      EIA      EIA      EIA      --      EIA      EIA                          \n",
              "9      EIA      EIA      EIA      --      EIA      EIA                          \n",
              "\n",
              "  BIOCO2 BIOCH4 BION2O      CHPCHTI   CHPCHTIOZ   CHPNOX CHPNOXOZ   CHPSO2  \\\n",
              "0                                                                            \n",
              "1                                                                            \n",
              "2                                                                            \n",
              "3                                                                            \n",
              "4                                 0           0        0        0        0   \n",
              "5                                                                            \n",
              "6                                                                            \n",
              "7                                                                            \n",
              "8      0                1442465.134  588166.318  247.276   96.501  145.101   \n",
              "9                                 0           0        0        0        0   \n",
              "\n",
              "       CHPCO2     CHPCH4    CHPN2O        PLHTRT PLGENACL PLGENAOL   PLGENAGS  \\\n",
              "0                                                                               \n",
              "1                                                       0        0          0   \n",
              "2                                                       0        0          0   \n",
              "3                                   10338.211864        0     1298          0   \n",
              "4           0          0         0  10281.285878        0     1742          0   \n",
              "5                                   11693.689746        0     2282          0   \n",
              "6                                                       0        0          0   \n",
              "7                                   -6048.022599        0     -354          0   \n",
              "8  154266.183  34980.989  5088.144    9392.94112   177115        0          0   \n",
              "9           0          0         0  15807.694724        0    1.139  47329.861   \n",
              "\n",
              "  PLGENANC PLGENAHY PLGENABM PLGENAWI PLGENASO PLGENAGT PLGENAOF PLGENAOP  \\\n",
              "0                                                                           \n",
              "1        0        0        0        0        0        0        0        0   \n",
              "2        0    17551        0        0        0        0        0        0   \n",
              "3        0        0        0        0        0        0        0        0   \n",
              "4        0        0        0        0        0        0        0        0   \n",
              "5        0        0        0        0        0        0        0        0   \n",
              "6        0    25983        0        0        0        0        0        0   \n",
              "7        0        0        0        0        0        0        0        0   \n",
              "8        0        0        0        0        0        0        0        0   \n",
              "9        0        0        0        0        0        0        0        0   \n",
              "\n",
              "  PLGENATN PLGENATR PLGENATH PLGENACY PLGENACN PLCLPR    PLOLPR    PLGSPR  \\\n",
              "0                                                                           \n",
              "1        0        0        0        0        0                              \n",
              "2        0    17551        0        0    17551      0         0         0   \n",
              "3     1298        0        0     1298        0      0         1         0   \n",
              "4     1742        0        0     1742        0      0         1         0   \n",
              "5     2282        0        0     2282        0      0         1         0   \n",
              "6        0    25983        0        0    25983      0         0         0   \n",
              "7     -354        0        0     -354        0                              \n",
              "8   177115        0        0   177115        0      1         0         0   \n",
              "9    47331        0        0    47331        0      0  0.000024  0.999976   \n",
              "\n",
              "  PLNCPR PLHYPR PLBMPR PLWIPR PLSOPR PLGTPR PLOFPR PLOPPR PLTNPR PLTRPR  \\\n",
              "0                                                                         \n",
              "1                                                                         \n",
              "2      0      1      0      0      0      0      0      0      0      1   \n",
              "3      0      0      0      0      0      0      0      0      1      0   \n",
              "4      0      0      0      0      0      0      0      0      1      0   \n",
              "5      0      0      0      0      0      0      0      0      1      0   \n",
              "6      0      1      0      0      0      0      0      0      0      1   \n",
              "7                                                                         \n",
              "8      0      0      0      0      0      0      0      0      1      0   \n",
              "9      0      0      0      0      0      0      0      0      1      0   \n",
              "\n",
              "  PLTHPR PLCYPR PLCNPR  \n",
              "0                       \n",
              "1                       \n",
              "2      0      0      1  \n",
              "3      0      1      0  \n",
              "4      0      1      0  \n",
              "5      0      1      0  \n",
              "6      0      0      1  \n",
              "7                       \n",
              "8      0      1      0  \n",
              "9      0      1      0  "
            ],
            "text/html": [
              "\n",
              "  <div id=\"df-c028dd5b-82c2-4e68-a826-1ef2ea9eef82\" class=\"colab-df-container\">\n",
              "    <div>\n",
              "<style scoped>\n",
              "    .dataframe tbody tr th:only-of-type {\n",
              "        vertical-align: middle;\n",
              "    }\n",
              "\n",
              "    .dataframe tbody tr th {\n",
              "        vertical-align: top;\n",
              "    }\n",
              "\n",
              "    .dataframe thead th {\n",
              "        text-align: right;\n",
              "    }\n",
              "</style>\n",
              "<table border=\"1\" class=\"dataframe\">\n",
              "  <thead>\n",
              "    <tr style=\"text-align: right;\">\n",
              "      <th></th>\n",
              "      <th>SEQPLT</th>\n",
              "      <th>YEAR</th>\n",
              "      <th>PSTATABB</th>\n",
              "      <th>PNAME</th>\n",
              "      <th>ORISPL</th>\n",
              "      <th>OPRNAME</th>\n",
              "      <th>OPRCODE</th>\n",
              "      <th>UTLSRVNM</th>\n",
              "      <th>UTLSRVID</th>\n",
              "      <th>SECTOR</th>\n",
              "      <th>BANAME</th>\n",
              "      <th>BACODE</th>\n",
              "      <th>NERC</th>\n",
              "      <th>SUBRGN</th>\n",
              "      <th>SRNAME</th>\n",
              "      <th>ISORTO</th>\n",
              "      <th>FIPSST</th>\n",
              "      <th>FIPSCNTY</th>\n",
              "      <th>CNTYNAME</th>\n",
              "      <th>LAT</th>\n",
              "      <th>LON</th>\n",
              "      <th>CAMDFLAG</th>\n",
              "      <th>NUMUNT</th>\n",
              "      <th>NUMGEN</th>\n",
              "      <th>PLPRMFL</th>\n",
              "      <th>PLFUELCT</th>\n",
              "      <th>COALFLAG</th>\n",
              "      <th>CAPFAC</th>\n",
              "      <th>NAMEPCAP</th>\n",
              "      <th>NBFACTOR</th>\n",
              "      <th>RMBMFLAG</th>\n",
              "      <th>CHPFLAG</th>\n",
              "      <th>USETHRMO</th>\n",
              "      <th>PWRTOHT</th>\n",
              "      <th>ELCALLOC</th>\n",
              "      <th>PSFLAG</th>\n",
              "      <th>PLHTIAN</th>\n",
              "      <th>PLHTIOZ</th>\n",
              "      <th>PLHTIANT</th>\n",
              "      <th>PLHTIOZT</th>\n",
              "      <th>PLNGENAN</th>\n",
              "      <th>PLNGENOZ</th>\n",
              "      <th>PLNOXAN</th>\n",
              "      <th>PLNOXOZ</th>\n",
              "      <th>PLSO2AN</th>\n",
              "      <th>PLCO2AN</th>\n",
              "      <th>PLCH4AN</th>\n",
              "      <th>PLN2OAN</th>\n",
              "      <th>PLCO2EQA</th>\n",
              "      <th>PLHGAN</th>\n",
              "      <th>PLNOXRTA</th>\n",
              "      <th>PLNOXRTO</th>\n",
              "      <th>PLSO2RTA</th>\n",
              "      <th>PLCO2RTA</th>\n",
              "      <th>PLCH4RTA</th>\n",
              "      <th>PLN2ORTA</th>\n",
              "      <th>PLC2ERTA</th>\n",
              "      <th>PLHGRTA</th>\n",
              "      <th>PLNOXRA</th>\n",
              "      <th>PLNOXRO</th>\n",
              "      <th>PLSO2RA</th>\n",
              "      <th>PLCO2RA</th>\n",
              "      <th>PLCH4RA</th>\n",
              "      <th>PLN2ORA</th>\n",
              "      <th>PLC2ERA</th>\n",
              "      <th>PLHGRA</th>\n",
              "      <th>PLNOXCRT</th>\n",
              "      <th>PLNOXCRO</th>\n",
              "      <th>PLSO2CRT</th>\n",
              "      <th>PLCO2CRT</th>\n",
              "      <th>PLCH4CRT</th>\n",
              "      <th>PLN2OCRT</th>\n",
              "      <th>PLC2ECRT</th>\n",
              "      <th>PLHGCRT</th>\n",
              "      <th>UNNOX</th>\n",
              "      <th>UNNOXOZ</th>\n",
              "      <th>UNSO2</th>\n",
              "      <th>UNCO2</th>\n",
              "      <th>UNCH4</th>\n",
              "      <th>UNN2O</th>\n",
              "      <th>UNHG</th>\n",
              "      <th>UNHTI</th>\n",
              "      <th>UNHTIOZ</th>\n",
              "      <th>UNHTIT</th>\n",
              "      <th>UNHTIOZT</th>\n",
              "      <th>UNNOXSRC</th>\n",
              "      <th>UNNOZSRC</th>\n",
              "      <th>UNSO2SRC</th>\n",
              "      <th>UNCO2SRC</th>\n",
              "      <th>UNCH4SRC</th>\n",
              "      <th>UNN2OSRC</th>\n",
              "      <th>UNHGSRC</th>\n",
              "      <th>UNHTISRC</th>\n",
              "      <th>UNHOZSRC</th>\n",
              "      <th>BIONOX</th>\n",
              "      <th>BIONOXOZ</th>\n",
              "      <th>BIOSO2</th>\n",
              "      <th>BIOCO2</th>\n",
              "      <th>BIOCH4</th>\n",
              "      <th>BION2O</th>\n",
              "      <th>CHPCHTI</th>\n",
              "      <th>CHPCHTIOZ</th>\n",
              "      <th>CHPNOX</th>\n",
              "      <th>CHPNOXOZ</th>\n",
              "      <th>CHPSO2</th>\n",
              "      <th>CHPCO2</th>\n",
              "      <th>CHPCH4</th>\n",
              "      <th>CHPN2O</th>\n",
              "      <th>PLHTRT</th>\n",
              "      <th>PLGENACL</th>\n",
              "      <th>PLGENAOL</th>\n",
              "      <th>PLGENAGS</th>\n",
              "      <th>PLGENANC</th>\n",
              "      <th>PLGENAHY</th>\n",
              "      <th>PLGENABM</th>\n",
              "      <th>PLGENAWI</th>\n",
              "      <th>PLGENASO</th>\n",
              "      <th>PLGENAGT</th>\n",
              "      <th>PLGENAOF</th>\n",
              "      <th>PLGENAOP</th>\n",
              "      <th>PLGENATN</th>\n",
              "      <th>PLGENATR</th>\n",
              "      <th>PLGENATH</th>\n",
              "      <th>PLGENACY</th>\n",
              "      <th>PLGENACN</th>\n",
              "      <th>PLCLPR</th>\n",
              "      <th>PLOLPR</th>\n",
              "      <th>PLGSPR</th>\n",
              "      <th>PLNCPR</th>\n",
              "      <th>PLHYPR</th>\n",
              "      <th>PLBMPR</th>\n",
              "      <th>PLWIPR</th>\n",
              "      <th>PLSOPR</th>\n",
              "      <th>PLGTPR</th>\n",
              "      <th>PLOFPR</th>\n",
              "      <th>PLOPPR</th>\n",
              "      <th>PLTNPR</th>\n",
              "      <th>PLTRPR</th>\n",
              "      <th>PLTHPR</th>\n",
              "      <th>PLCYPR</th>\n",
              "      <th>PLCNPR</th>\n",
              "    </tr>\n",
              "  </thead>\n",
              "  <tbody>\n",
              "    <tr>\n",
              "      <th>0</th>\n",
              "      <td>1</td>\n",
              "      <td>2021</td>\n",
              "      <td>AK</td>\n",
              "      <td>Agrium Kenai Nitrogen Operations</td>\n",
              "      <td>54452</td>\n",
              "      <td>Homer Electric Assn Inc</td>\n",
              "      <td>19558</td>\n",
              "      <td>Agrium US Inc</td>\n",
              "      <td>179</td>\n",
              "      <td>Industrial CHP</td>\n",
              "      <td>No balancing authority</td>\n",
              "      <td>NA</td>\n",
              "      <td>AK</td>\n",
              "      <td>AKGD</td>\n",
              "      <td>ASCC Alaska Grid</td>\n",
              "      <td></td>\n",
              "      <td>2</td>\n",
              "      <td>122</td>\n",
              "      <td>Kenai Peninsula</td>\n",
              "      <td>60.673200</td>\n",
              "      <td>-151.378400</td>\n",
              "      <td></td>\n",
              "      <td>5</td>\n",
              "      <td>5</td>\n",
              "      <td>NG</td>\n",
              "      <td>GAS</td>\n",
              "      <td></td>\n",
              "      <td></td>\n",
              "      <td>12.5</td>\n",
              "      <td></td>\n",
              "      <td></td>\n",
              "      <td>Yes</td>\n",
              "      <td></td>\n",
              "      <td></td>\n",
              "      <td></td>\n",
              "      <td></td>\n",
              "      <td></td>\n",
              "      <td></td>\n",
              "      <td></td>\n",
              "      <td></td>\n",
              "      <td></td>\n",
              "      <td></td>\n",
              "      <td></td>\n",
              "      <td></td>\n",
              "      <td></td>\n",
              "      <td></td>\n",
              "      <td></td>\n",
              "      <td></td>\n",
              "      <td></td>\n",
              "      <td></td>\n",
              "      <td></td>\n",
              "      <td></td>\n",
              "      <td></td>\n",
              "      <td></td>\n",
              "      <td></td>\n",
              "      <td></td>\n",
              "      <td></td>\n",
              "      <td></td>\n",
              "      <td></td>\n",
              "      <td></td>\n",
              "      <td></td>\n",
              "      <td></td>\n",
              "      <td></td>\n",
              "      <td></td>\n",
              "      <td></td>\n",
              "      <td></td>\n",
              "      <td></td>\n",
              "      <td></td>\n",
              "      <td></td>\n",
              "      <td></td>\n",
              "      <td></td>\n",
              "      <td></td>\n",
              "      <td></td>\n",
              "      <td></td>\n",
              "      <td></td>\n",
              "      <td></td>\n",
              "      <td></td>\n",
              "      <td></td>\n",
              "      <td></td>\n",
              "      <td></td>\n",
              "      <td></td>\n",
              "      <td></td>\n",
              "      <td></td>\n",
              "      <td></td>\n",
              "      <td></td>\n",
              "      <td></td>\n",
              "      <td></td>\n",
              "      <td></td>\n",
              "      <td></td>\n",
              "      <td></td>\n",
              "      <td></td>\n",
              "      <td>--</td>\n",
              "      <td></td>\n",
              "      <td></td>\n",
              "      <td></td>\n",
              "      <td></td>\n",
              "      <td></td>\n",
              "      <td></td>\n",
              "      <td></td>\n",
              "      <td></td>\n",
              "      <td></td>\n",
              "      <td></td>\n",
              "      <td></td>\n",
              "      <td></td>\n",
              "      <td></td>\n",
              "      <td></td>\n",
              "      <td></td>\n",
              "      <td></td>\n",
              "      <td></td>\n",
              "      <td></td>\n",
              "      <td></td>\n",
              "      <td></td>\n",
              "      <td></td>\n",
              "      <td></td>\n",
              "      <td></td>\n",
              "      <td></td>\n",
              "      <td></td>\n",
              "      <td></td>\n",
              "      <td></td>\n",
              "      <td></td>\n",
              "      <td></td>\n",
              "      <td></td>\n",
              "      <td></td>\n",
              "      <td></td>\n",
              "      <td></td>\n",
              "      <td></td>\n",
              "      <td></td>\n",
              "      <td></td>\n",
              "      <td></td>\n",
              "      <td></td>\n",
              "      <td></td>\n",
              "      <td></td>\n",
              "      <td></td>\n",
              "      <td></td>\n",
              "      <td></td>\n",
              "      <td></td>\n",
              "      <td></td>\n",
              "      <td></td>\n",
              "      <td></td>\n",
              "      <td></td>\n",
              "      <td></td>\n",
              "    </tr>\n",
              "    <tr>\n",
              "      <th>1</th>\n",
              "      <td>2</td>\n",
              "      <td>2021</td>\n",
              "      <td>AK</td>\n",
              "      <td>Alakanuk</td>\n",
              "      <td>57053</td>\n",
              "      <td>Alaska Village Elec Coop, Inc</td>\n",
              "      <td>221</td>\n",
              "      <td>Alaska Village Elec Coop, Inc</td>\n",
              "      <td>221</td>\n",
              "      <td>Electric Utility</td>\n",
              "      <td>No balancing authority</td>\n",
              "      <td>NA</td>\n",
              "      <td>AK</td>\n",
              "      <td>AKMS</td>\n",
              "      <td>ASCC Miscellaneous</td>\n",
              "      <td></td>\n",
              "      <td>2</td>\n",
              "      <td>270</td>\n",
              "      <td>Wade Hampton</td>\n",
              "      <td>62.683300</td>\n",
              "      <td>-164.654400</td>\n",
              "      <td></td>\n",
              "      <td>1</td>\n",
              "      <td>1</td>\n",
              "      <td>JF</td>\n",
              "      <td>OIL</td>\n",
              "      <td></td>\n",
              "      <td>0</td>\n",
              "      <td>0.8</td>\n",
              "      <td></td>\n",
              "      <td></td>\n",
              "      <td>Yes</td>\n",
              "      <td>268</td>\n",
              "      <td>0</td>\n",
              "      <td>0</td>\n",
              "      <td></td>\n",
              "      <td></td>\n",
              "      <td></td>\n",
              "      <td></td>\n",
              "      <td></td>\n",
              "      <td>0</td>\n",
              "      <td>0</td>\n",
              "      <td></td>\n",
              "      <td></td>\n",
              "      <td></td>\n",
              "      <td></td>\n",
              "      <td></td>\n",
              "      <td></td>\n",
              "      <td></td>\n",
              "      <td></td>\n",
              "      <td></td>\n",
              "      <td></td>\n",
              "      <td></td>\n",
              "      <td></td>\n",
              "      <td></td>\n",
              "      <td></td>\n",
              "      <td></td>\n",
              "      <td></td>\n",
              "      <td></td>\n",
              "      <td></td>\n",
              "      <td></td>\n",
              "      <td></td>\n",
              "      <td></td>\n",
              "      <td></td>\n",
              "      <td></td>\n",
              "      <td></td>\n",
              "      <td></td>\n",
              "      <td></td>\n",
              "      <td></td>\n",
              "      <td></td>\n",
              "      <td></td>\n",
              "      <td></td>\n",
              "      <td></td>\n",
              "      <td></td>\n",
              "      <td></td>\n",
              "      <td></td>\n",
              "      <td></td>\n",
              "      <td></td>\n",
              "      <td></td>\n",
              "      <td></td>\n",
              "      <td></td>\n",
              "      <td></td>\n",
              "      <td></td>\n",
              "      <td></td>\n",
              "      <td></td>\n",
              "      <td></td>\n",
              "      <td></td>\n",
              "      <td></td>\n",
              "      <td></td>\n",
              "      <td></td>\n",
              "      <td></td>\n",
              "      <td>--</td>\n",
              "      <td></td>\n",
              "      <td></td>\n",
              "      <td></td>\n",
              "      <td></td>\n",
              "      <td></td>\n",
              "      <td></td>\n",
              "      <td></td>\n",
              "      <td></td>\n",
              "      <td></td>\n",
              "      <td></td>\n",
              "      <td></td>\n",
              "      <td></td>\n",
              "      <td></td>\n",
              "      <td></td>\n",
              "      <td></td>\n",
              "      <td></td>\n",
              "      <td></td>\n",
              "      <td>0</td>\n",
              "      <td>0</td>\n",
              "      <td>0</td>\n",
              "      <td>0</td>\n",
              "      <td>0</td>\n",
              "      <td>0</td>\n",
              "      <td>0</td>\n",
              "      <td>0</td>\n",
              "      <td>0</td>\n",
              "      <td>0</td>\n",
              "      <td>0</td>\n",
              "      <td>0</td>\n",
              "      <td>0</td>\n",
              "      <td>0</td>\n",
              "      <td>0</td>\n",
              "      <td>0</td>\n",
              "      <td></td>\n",
              "      <td></td>\n",
              "      <td></td>\n",
              "      <td></td>\n",
              "      <td></td>\n",
              "      <td></td>\n",
              "      <td></td>\n",
              "      <td></td>\n",
              "      <td></td>\n",
              "      <td></td>\n",
              "      <td></td>\n",
              "      <td></td>\n",
              "      <td></td>\n",
              "      <td></td>\n",
              "      <td></td>\n",
              "      <td></td>\n",
              "    </tr>\n",
              "    <tr>\n",
              "      <th>2</th>\n",
              "      <td>3</td>\n",
              "      <td>2021</td>\n",
              "      <td>AK</td>\n",
              "      <td>Allison Creek Hydro</td>\n",
              "      <td>58982</td>\n",
              "      <td>Copper Valley Elec Assn, Inc</td>\n",
              "      <td>4329</td>\n",
              "      <td>Copper Valley Elec Assn, Inc</td>\n",
              "      <td>4329</td>\n",
              "      <td>Electric Utility</td>\n",
              "      <td>No balancing authority</td>\n",
              "      <td>NA</td>\n",
              "      <td>AK</td>\n",
              "      <td>AKMS</td>\n",
              "      <td>ASCC Miscellaneous</td>\n",
              "      <td></td>\n",
              "      <td>2</td>\n",
              "      <td>261</td>\n",
              "      <td>Valdez Cordova</td>\n",
              "      <td>61.084444</td>\n",
              "      <td>-146.353333</td>\n",
              "      <td></td>\n",
              "      <td>1</td>\n",
              "      <td>1</td>\n",
              "      <td>WAT</td>\n",
              "      <td>HYDRO</td>\n",
              "      <td></td>\n",
              "      <td>0.30824</td>\n",
              "      <td>6.5</td>\n",
              "      <td></td>\n",
              "      <td></td>\n",
              "      <td></td>\n",
              "      <td></td>\n",
              "      <td></td>\n",
              "      <td></td>\n",
              "      <td></td>\n",
              "      <td></td>\n",
              "      <td></td>\n",
              "      <td>155201</td>\n",
              "      <td>64274</td>\n",
              "      <td>17551</td>\n",
              "      <td>7268</td>\n",
              "      <td></td>\n",
              "      <td></td>\n",
              "      <td></td>\n",
              "      <td></td>\n",
              "      <td></td>\n",
              "      <td></td>\n",
              "      <td></td>\n",
              "      <td></td>\n",
              "      <td></td>\n",
              "      <td></td>\n",
              "      <td></td>\n",
              "      <td></td>\n",
              "      <td></td>\n",
              "      <td></td>\n",
              "      <td></td>\n",
              "      <td></td>\n",
              "      <td></td>\n",
              "      <td></td>\n",
              "      <td></td>\n",
              "      <td></td>\n",
              "      <td></td>\n",
              "      <td></td>\n",
              "      <td></td>\n",
              "      <td></td>\n",
              "      <td></td>\n",
              "      <td></td>\n",
              "      <td></td>\n",
              "      <td></td>\n",
              "      <td></td>\n",
              "      <td></td>\n",
              "      <td></td>\n",
              "      <td></td>\n",
              "      <td></td>\n",
              "      <td></td>\n",
              "      <td></td>\n",
              "      <td></td>\n",
              "      <td></td>\n",
              "      <td></td>\n",
              "      <td></td>\n",
              "      <td></td>\n",
              "      <td></td>\n",
              "      <td>155201</td>\n",
              "      <td>64274</td>\n",
              "      <td></td>\n",
              "      <td></td>\n",
              "      <td></td>\n",
              "      <td></td>\n",
              "      <td></td>\n",
              "      <td></td>\n",
              "      <td>--</td>\n",
              "      <td>EIA</td>\n",
              "      <td>EIA</td>\n",
              "      <td></td>\n",
              "      <td></td>\n",
              "      <td></td>\n",
              "      <td></td>\n",
              "      <td></td>\n",
              "      <td></td>\n",
              "      <td></td>\n",
              "      <td></td>\n",
              "      <td></td>\n",
              "      <td></td>\n",
              "      <td></td>\n",
              "      <td></td>\n",
              "      <td></td>\n",
              "      <td></td>\n",
              "      <td></td>\n",
              "      <td>0</td>\n",
              "      <td>0</td>\n",
              "      <td>0</td>\n",
              "      <td>0</td>\n",
              "      <td>17551</td>\n",
              "      <td>0</td>\n",
              "      <td>0</td>\n",
              "      <td>0</td>\n",
              "      <td>0</td>\n",
              "      <td>0</td>\n",
              "      <td>0</td>\n",
              "      <td>0</td>\n",
              "      <td>17551</td>\n",
              "      <td>0</td>\n",
              "      <td>0</td>\n",
              "      <td>17551</td>\n",
              "      <td>0</td>\n",
              "      <td>0</td>\n",
              "      <td>0</td>\n",
              "      <td>0</td>\n",
              "      <td>1</td>\n",
              "      <td>0</td>\n",
              "      <td>0</td>\n",
              "      <td>0</td>\n",
              "      <td>0</td>\n",
              "      <td>0</td>\n",
              "      <td>0</td>\n",
              "      <td>0</td>\n",
              "      <td>1</td>\n",
              "      <td>0</td>\n",
              "      <td>0</td>\n",
              "      <td>1</td>\n",
              "    </tr>\n",
              "    <tr>\n",
              "      <th>3</th>\n",
              "      <td>4</td>\n",
              "      <td>2021</td>\n",
              "      <td>AK</td>\n",
              "      <td>Ambler</td>\n",
              "      <td>60243</td>\n",
              "      <td>Alaska Village Elec Coop, Inc</td>\n",
              "      <td>221</td>\n",
              "      <td>Alaska Village Elec Coop, Inc</td>\n",
              "      <td>221</td>\n",
              "      <td>Electric Utility</td>\n",
              "      <td>No balancing authority</td>\n",
              "      <td>NA</td>\n",
              "      <td>AK</td>\n",
              "      <td>AKMS</td>\n",
              "      <td>ASCC Miscellaneous</td>\n",
              "      <td></td>\n",
              "      <td>2</td>\n",
              "      <td>188</td>\n",
              "      <td>Northwest Arctic</td>\n",
              "      <td>67.087980</td>\n",
              "      <td>-157.856719</td>\n",
              "      <td></td>\n",
              "      <td>3</td>\n",
              "      <td>3</td>\n",
              "      <td>DFO</td>\n",
              "      <td>OIL</td>\n",
              "      <td></td>\n",
              "      <td>0.1347</td>\n",
              "      <td>1.1</td>\n",
              "      <td>1</td>\n",
              "      <td></td>\n",
              "      <td></td>\n",
              "      <td></td>\n",
              "      <td></td>\n",
              "      <td></td>\n",
              "      <td></td>\n",
              "      <td>13418.999</td>\n",
              "      <td>4885.999</td>\n",
              "      <td>13418.999</td>\n",
              "      <td>4885.999</td>\n",
              "      <td>1298</td>\n",
              "      <td>474.001</td>\n",
              "      <td>22.294</td>\n",
              "      <td>8.118</td>\n",
              "      <td>1.946</td>\n",
              "      <td>1095.834</td>\n",
              "      <td>88.752</td>\n",
              "      <td>17.75</td>\n",
              "      <td>1099.588</td>\n",
              "      <td></td>\n",
              "      <td>34.351</td>\n",
              "      <td>34.253</td>\n",
              "      <td>2.998</td>\n",
              "      <td>1688.496</td>\n",
              "      <td>0.068</td>\n",
              "      <td>0.014</td>\n",
              "      <td>1694.281</td>\n",
              "      <td></td>\n",
              "      <td>3.323</td>\n",
              "      <td>3.323</td>\n",
              "      <td>0.29</td>\n",
              "      <td>163.326</td>\n",
              "      <td>0.007</td>\n",
              "      <td>0.001</td>\n",
              "      <td>163.885</td>\n",
              "      <td></td>\n",
              "      <td>34.351</td>\n",
              "      <td>34.253</td>\n",
              "      <td>2.998</td>\n",
              "      <td>1688.496</td>\n",
              "      <td>0.068</td>\n",
              "      <td>0.014</td>\n",
              "      <td>1694.281</td>\n",
              "      <td></td>\n",
              "      <td>22.294</td>\n",
              "      <td>8.118</td>\n",
              "      <td>1.946</td>\n",
              "      <td>1095.834</td>\n",
              "      <td>88.752</td>\n",
              "      <td>17.75</td>\n",
              "      <td></td>\n",
              "      <td>13418.999</td>\n",
              "      <td>4885.999</td>\n",
              "      <td>13418.999</td>\n",
              "      <td>4885.999</td>\n",
              "      <td>EIA</td>\n",
              "      <td>EIA</td>\n",
              "      <td>EIA</td>\n",
              "      <td>EIA</td>\n",
              "      <td>EIA</td>\n",
              "      <td>EIA</td>\n",
              "      <td>--</td>\n",
              "      <td>EIA</td>\n",
              "      <td>EIA</td>\n",
              "      <td></td>\n",
              "      <td></td>\n",
              "      <td></td>\n",
              "      <td></td>\n",
              "      <td></td>\n",
              "      <td></td>\n",
              "      <td></td>\n",
              "      <td></td>\n",
              "      <td></td>\n",
              "      <td></td>\n",
              "      <td></td>\n",
              "      <td></td>\n",
              "      <td></td>\n",
              "      <td></td>\n",
              "      <td>10338.211864</td>\n",
              "      <td>0</td>\n",
              "      <td>1298</td>\n",
              "      <td>0</td>\n",
              "      <td>0</td>\n",
              "      <td>0</td>\n",
              "      <td>0</td>\n",
              "      <td>0</td>\n",
              "      <td>0</td>\n",
              "      <td>0</td>\n",
              "      <td>0</td>\n",
              "      <td>0</td>\n",
              "      <td>1298</td>\n",
              "      <td>0</td>\n",
              "      <td>0</td>\n",
              "      <td>1298</td>\n",
              "      <td>0</td>\n",
              "      <td>0</td>\n",
              "      <td>1</td>\n",
              "      <td>0</td>\n",
              "      <td>0</td>\n",
              "      <td>0</td>\n",
              "      <td>0</td>\n",
              "      <td>0</td>\n",
              "      <td>0</td>\n",
              "      <td>0</td>\n",
              "      <td>0</td>\n",
              "      <td>0</td>\n",
              "      <td>1</td>\n",
              "      <td>0</td>\n",
              "      <td>0</td>\n",
              "      <td>1</td>\n",
              "      <td>0</td>\n",
              "    </tr>\n",
              "    <tr>\n",
              "      <th>4</th>\n",
              "      <td>5</td>\n",
              "      <td>2021</td>\n",
              "      <td>AK</td>\n",
              "      <td>Angoon</td>\n",
              "      <td>7462</td>\n",
              "      <td>Inside Passage Elec Coop, Inc</td>\n",
              "      <td>18963</td>\n",
              "      <td>Inside Passage Elec Coop, Inc</td>\n",
              "      <td>18963</td>\n",
              "      <td>Electric Utility</td>\n",
              "      <td>No balancing authority</td>\n",
              "      <td>NA</td>\n",
              "      <td>AK</td>\n",
              "      <td>AKMS</td>\n",
              "      <td>ASCC Miscellaneous</td>\n",
              "      <td></td>\n",
              "      <td>2</td>\n",
              "      <td>105</td>\n",
              "      <td>Hoonah-Angoon</td>\n",
              "      <td>57.499166</td>\n",
              "      <td>-134.586140</td>\n",
              "      <td></td>\n",
              "      <td>3</td>\n",
              "      <td>3</td>\n",
              "      <td>DFO</td>\n",
              "      <td>OIL</td>\n",
              "      <td></td>\n",
              "      <td>0.13257</td>\n",
              "      <td>1.5</td>\n",
              "      <td>1</td>\n",
              "      <td></td>\n",
              "      <td>Yes</td>\n",
              "      <td>0</td>\n",
              "      <td></td>\n",
              "      <td>1</td>\n",
              "      <td></td>\n",
              "      <td>17910</td>\n",
              "      <td>6537</td>\n",
              "      <td>17910</td>\n",
              "      <td>6537</td>\n",
              "      <td>1742.001</td>\n",
              "      <td>636</td>\n",
              "      <td>28.779</td>\n",
              "      <td>10.503</td>\n",
              "      <td>2.597</td>\n",
              "      <td>1462.581</td>\n",
              "      <td>118.454</td>\n",
              "      <td>23.691</td>\n",
              "      <td>1467.592</td>\n",
              "      <td></td>\n",
              "      <td>33.041</td>\n",
              "      <td>33.028</td>\n",
              "      <td>2.981</td>\n",
              "      <td>1679.197</td>\n",
              "      <td>0.068</td>\n",
              "      <td>0.014</td>\n",
              "      <td>1684.949</td>\n",
              "      <td></td>\n",
              "      <td>3.214</td>\n",
              "      <td>3.213</td>\n",
              "      <td>0.29</td>\n",
              "      <td>163.326</td>\n",
              "      <td>0.007</td>\n",
              "      <td>0.001</td>\n",
              "      <td>163.885</td>\n",
              "      <td></td>\n",
              "      <td>33.041</td>\n",
              "      <td>33.028</td>\n",
              "      <td>2.981</td>\n",
              "      <td>1679.197</td>\n",
              "      <td>0.068</td>\n",
              "      <td>0.014</td>\n",
              "      <td>1684.95</td>\n",
              "      <td></td>\n",
              "      <td>28.779</td>\n",
              "      <td>10.503</td>\n",
              "      <td>2.597</td>\n",
              "      <td>1462.581</td>\n",
              "      <td>118.454</td>\n",
              "      <td>23.691</td>\n",
              "      <td></td>\n",
              "      <td>17910</td>\n",
              "      <td>6537</td>\n",
              "      <td>17910</td>\n",
              "      <td>6537</td>\n",
              "      <td>EIA</td>\n",
              "      <td>EIA</td>\n",
              "      <td>EIA</td>\n",
              "      <td>EIA</td>\n",
              "      <td>EIA</td>\n",
              "      <td>EIA</td>\n",
              "      <td>--</td>\n",
              "      <td>EIA</td>\n",
              "      <td>EIA</td>\n",
              "      <td></td>\n",
              "      <td></td>\n",
              "      <td></td>\n",
              "      <td></td>\n",
              "      <td></td>\n",
              "      <td></td>\n",
              "      <td>0</td>\n",
              "      <td>0</td>\n",
              "      <td>0</td>\n",
              "      <td>0</td>\n",
              "      <td>0</td>\n",
              "      <td>0</td>\n",
              "      <td>0</td>\n",
              "      <td>0</td>\n",
              "      <td>10281.285878</td>\n",
              "      <td>0</td>\n",
              "      <td>1742</td>\n",
              "      <td>0</td>\n",
              "      <td>0</td>\n",
              "      <td>0</td>\n",
              "      <td>0</td>\n",
              "      <td>0</td>\n",
              "      <td>0</td>\n",
              "      <td>0</td>\n",
              "      <td>0</td>\n",
              "      <td>0</td>\n",
              "      <td>1742</td>\n",
              "      <td>0</td>\n",
              "      <td>0</td>\n",
              "      <td>1742</td>\n",
              "      <td>0</td>\n",
              "      <td>0</td>\n",
              "      <td>1</td>\n",
              "      <td>0</td>\n",
              "      <td>0</td>\n",
              "      <td>0</td>\n",
              "      <td>0</td>\n",
              "      <td>0</td>\n",
              "      <td>0</td>\n",
              "      <td>0</td>\n",
              "      <td>0</td>\n",
              "      <td>0</td>\n",
              "      <td>1</td>\n",
              "      <td>0</td>\n",
              "      <td>0</td>\n",
              "      <td>1</td>\n",
              "      <td>0</td>\n",
              "    </tr>\n",
              "    <tr>\n",
              "      <th>5</th>\n",
              "      <td>6</td>\n",
              "      <td>2021</td>\n",
              "      <td>AK</td>\n",
              "      <td>Aniak</td>\n",
              "      <td>7182</td>\n",
              "      <td>Aniak Light &amp; Power Co Inc</td>\n",
              "      <td>4959</td>\n",
              "      <td>Aniak Light &amp; Power Co Inc</td>\n",
              "      <td>4959</td>\n",
              "      <td>Electric Utility</td>\n",
              "      <td>No balancing authority</td>\n",
              "      <td>NA</td>\n",
              "      <td>AK</td>\n",
              "      <td>AKMS</td>\n",
              "      <td>ASCC Miscellaneous</td>\n",
              "      <td></td>\n",
              "      <td>2</td>\n",
              "      <td>050</td>\n",
              "      <td>Bethel</td>\n",
              "      <td>61.580678</td>\n",
              "      <td>-159.535643</td>\n",
              "      <td></td>\n",
              "      <td>4</td>\n",
              "      <td>4</td>\n",
              "      <td>DFO</td>\n",
              "      <td>OIL</td>\n",
              "      <td></td>\n",
              "      <td>0.11841</td>\n",
              "      <td>2.2</td>\n",
              "      <td>1</td>\n",
              "      <td></td>\n",
              "      <td></td>\n",
              "      <td></td>\n",
              "      <td></td>\n",
              "      <td></td>\n",
              "      <td></td>\n",
              "      <td>26685</td>\n",
              "      <td>9731</td>\n",
              "      <td>26685</td>\n",
              "      <td>9731</td>\n",
              "      <td>2282</td>\n",
              "      <td>833</td>\n",
              "      <td>45.21</td>\n",
              "      <td>16.486</td>\n",
              "      <td>3.869</td>\n",
              "      <td>2179.174</td>\n",
              "      <td>176.491</td>\n",
              "      <td>35.298</td>\n",
              "      <td>2186.64</td>\n",
              "      <td></td>\n",
              "      <td>39.623</td>\n",
              "      <td>39.582</td>\n",
              "      <td>3.391</td>\n",
              "      <td>1909.881</td>\n",
              "      <td>0.077</td>\n",
              "      <td>0.015</td>\n",
              "      <td>1916.424</td>\n",
              "      <td></td>\n",
              "      <td>3.388</td>\n",
              "      <td>3.388</td>\n",
              "      <td>0.29</td>\n",
              "      <td>163.326</td>\n",
              "      <td>0.007</td>\n",
              "      <td>0.001</td>\n",
              "      <td>163.885</td>\n",
              "      <td></td>\n",
              "      <td>39.623</td>\n",
              "      <td>39.582</td>\n",
              "      <td>3.391</td>\n",
              "      <td>1909.881</td>\n",
              "      <td>0.077</td>\n",
              "      <td>0.015</td>\n",
              "      <td>1916.424</td>\n",
              "      <td></td>\n",
              "      <td>45.21</td>\n",
              "      <td>16.486</td>\n",
              "      <td>3.869</td>\n",
              "      <td>2179.174</td>\n",
              "      <td>176.491</td>\n",
              "      <td>35.298</td>\n",
              "      <td></td>\n",
              "      <td>26685</td>\n",
              "      <td>9731</td>\n",
              "      <td>26685</td>\n",
              "      <td>9731</td>\n",
              "      <td>EIA</td>\n",
              "      <td>EIA</td>\n",
              "      <td>EIA</td>\n",
              "      <td>EIA</td>\n",
              "      <td>EIA</td>\n",
              "      <td>EIA</td>\n",
              "      <td>--</td>\n",
              "      <td>EIA</td>\n",
              "      <td>EIA</td>\n",
              "      <td></td>\n",
              "      <td></td>\n",
              "      <td></td>\n",
              "      <td></td>\n",
              "      <td></td>\n",
              "      <td></td>\n",
              "      <td></td>\n",
              "      <td></td>\n",
              "      <td></td>\n",
              "      <td></td>\n",
              "      <td></td>\n",
              "      <td></td>\n",
              "      <td></td>\n",
              "      <td></td>\n",
              "      <td>11693.689746</td>\n",
              "      <td>0</td>\n",
              "      <td>2282</td>\n",
              "      <td>0</td>\n",
              "      <td>0</td>\n",
              "      <td>0</td>\n",
              "      <td>0</td>\n",
              "      <td>0</td>\n",
              "      <td>0</td>\n",
              "      <td>0</td>\n",
              "      <td>0</td>\n",
              "      <td>0</td>\n",
              "      <td>2282</td>\n",
              "      <td>0</td>\n",
              "      <td>0</td>\n",
              "      <td>2282</td>\n",
              "      <td>0</td>\n",
              "      <td>0</td>\n",
              "      <td>1</td>\n",
              "      <td>0</td>\n",
              "      <td>0</td>\n",
              "      <td>0</td>\n",
              "      <td>0</td>\n",
              "      <td>0</td>\n",
              "      <td>0</td>\n",
              "      <td>0</td>\n",
              "      <td>0</td>\n",
              "      <td>0</td>\n",
              "      <td>1</td>\n",
              "      <td>0</td>\n",
              "      <td>0</td>\n",
              "      <td>1</td>\n",
              "      <td>0</td>\n",
              "    </tr>\n",
              "    <tr>\n",
              "      <th>6</th>\n",
              "      <td>7</td>\n",
              "      <td>2021</td>\n",
              "      <td>AK</td>\n",
              "      <td>Annex Creek</td>\n",
              "      <td>62</td>\n",
              "      <td>Alaska Electric Light&amp;Power Co</td>\n",
              "      <td>213</td>\n",
              "      <td>Alaska Electric Light &amp; Power Co.</td>\n",
              "      <td>213</td>\n",
              "      <td>Electric Utility</td>\n",
              "      <td>No balancing authority</td>\n",
              "      <td>NA</td>\n",
              "      <td>AK</td>\n",
              "      <td>AKMS</td>\n",
              "      <td>ASCC Miscellaneous</td>\n",
              "      <td></td>\n",
              "      <td>2</td>\n",
              "      <td>110</td>\n",
              "      <td>Juneau</td>\n",
              "      <td>58.317600</td>\n",
              "      <td>-134.101000</td>\n",
              "      <td></td>\n",
              "      <td>2</td>\n",
              "      <td>2</td>\n",
              "      <td>WAT</td>\n",
              "      <td>HYDRO</td>\n",
              "      <td></td>\n",
              "      <td>0.74152</td>\n",
              "      <td>4.0</td>\n",
              "      <td></td>\n",
              "      <td></td>\n",
              "      <td></td>\n",
              "      <td></td>\n",
              "      <td></td>\n",
              "      <td></td>\n",
              "      <td></td>\n",
              "      <td></td>\n",
              "      <td></td>\n",
              "      <td>229770</td>\n",
              "      <td>95155</td>\n",
              "      <td>25983</td>\n",
              "      <td>10760</td>\n",
              "      <td></td>\n",
              "      <td></td>\n",
              "      <td></td>\n",
              "      <td></td>\n",
              "      <td></td>\n",
              "      <td></td>\n",
              "      <td></td>\n",
              "      <td></td>\n",
              "      <td></td>\n",
              "      <td></td>\n",
              "      <td></td>\n",
              "      <td></td>\n",
              "      <td></td>\n",
              "      <td></td>\n",
              "      <td></td>\n",
              "      <td></td>\n",
              "      <td></td>\n",
              "      <td></td>\n",
              "      <td></td>\n",
              "      <td></td>\n",
              "      <td></td>\n",
              "      <td></td>\n",
              "      <td></td>\n",
              "      <td></td>\n",
              "      <td></td>\n",
              "      <td></td>\n",
              "      <td></td>\n",
              "      <td></td>\n",
              "      <td></td>\n",
              "      <td></td>\n",
              "      <td></td>\n",
              "      <td></td>\n",
              "      <td></td>\n",
              "      <td></td>\n",
              "      <td></td>\n",
              "      <td></td>\n",
              "      <td></td>\n",
              "      <td></td>\n",
              "      <td></td>\n",
              "      <td></td>\n",
              "      <td></td>\n",
              "      <td>229770</td>\n",
              "      <td>95155</td>\n",
              "      <td></td>\n",
              "      <td></td>\n",
              "      <td></td>\n",
              "      <td></td>\n",
              "      <td></td>\n",
              "      <td></td>\n",
              "      <td>--</td>\n",
              "      <td>EIA</td>\n",
              "      <td>EIA</td>\n",
              "      <td></td>\n",
              "      <td></td>\n",
              "      <td></td>\n",
              "      <td></td>\n",
              "      <td></td>\n",
              "      <td></td>\n",
              "      <td></td>\n",
              "      <td></td>\n",
              "      <td></td>\n",
              "      <td></td>\n",
              "      <td></td>\n",
              "      <td></td>\n",
              "      <td></td>\n",
              "      <td></td>\n",
              "      <td></td>\n",
              "      <td>0</td>\n",
              "      <td>0</td>\n",
              "      <td>0</td>\n",
              "      <td>0</td>\n",
              "      <td>25983</td>\n",
              "      <td>0</td>\n",
              "      <td>0</td>\n",
              "      <td>0</td>\n",
              "      <td>0</td>\n",
              "      <td>0</td>\n",
              "      <td>0</td>\n",
              "      <td>0</td>\n",
              "      <td>25983</td>\n",
              "      <td>0</td>\n",
              "      <td>0</td>\n",
              "      <td>25983</td>\n",
              "      <td>0</td>\n",
              "      <td>0</td>\n",
              "      <td>0</td>\n",
              "      <td>0</td>\n",
              "      <td>1</td>\n",
              "      <td>0</td>\n",
              "      <td>0</td>\n",
              "      <td>0</td>\n",
              "      <td>0</td>\n",
              "      <td>0</td>\n",
              "      <td>0</td>\n",
              "      <td>0</td>\n",
              "      <td>1</td>\n",
              "      <td>0</td>\n",
              "      <td>0</td>\n",
              "      <td>1</td>\n",
              "    </tr>\n",
              "    <tr>\n",
              "      <th>7</th>\n",
              "      <td>8</td>\n",
              "      <td>2021</td>\n",
              "      <td>AK</td>\n",
              "      <td>Auke Bay</td>\n",
              "      <td>7250</td>\n",
              "      <td>Alaska Electric Light&amp;Power Co</td>\n",
              "      <td>213</td>\n",
              "      <td>Alaska Electric Light &amp; Power Co.</td>\n",
              "      <td>213</td>\n",
              "      <td>Electric Utility</td>\n",
              "      <td>No balancing authority</td>\n",
              "      <td>NA</td>\n",
              "      <td>AK</td>\n",
              "      <td>AKMS</td>\n",
              "      <td>ASCC Miscellaneous</td>\n",
              "      <td></td>\n",
              "      <td>2</td>\n",
              "      <td>110</td>\n",
              "      <td>Juneau</td>\n",
              "      <td>58.387500</td>\n",
              "      <td>-134.644600</td>\n",
              "      <td></td>\n",
              "      <td>3</td>\n",
              "      <td>3</td>\n",
              "      <td>DFO</td>\n",
              "      <td>OIL</td>\n",
              "      <td></td>\n",
              "      <td>0</td>\n",
              "      <td>36.2</td>\n",
              "      <td></td>\n",
              "      <td></td>\n",
              "      <td></td>\n",
              "      <td></td>\n",
              "      <td></td>\n",
              "      <td></td>\n",
              "      <td></td>\n",
              "      <td>2141</td>\n",
              "      <td>776</td>\n",
              "      <td>2141</td>\n",
              "      <td>776</td>\n",
              "      <td>-354</td>\n",
              "      <td>-129</td>\n",
              "      <td>1.152</td>\n",
              "      <td>0.418</td>\n",
              "      <td>0.328</td>\n",
              "      <td>174.84</td>\n",
              "      <td>14.16</td>\n",
              "      <td>2.832</td>\n",
              "      <td>175.439</td>\n",
              "      <td></td>\n",
              "      <td>0</td>\n",
              "      <td>0</td>\n",
              "      <td>0</td>\n",
              "      <td>0</td>\n",
              "      <td>0</td>\n",
              "      <td>0</td>\n",
              "      <td>0</td>\n",
              "      <td></td>\n",
              "      <td>1.076</td>\n",
              "      <td>1.077</td>\n",
              "      <td>0.306</td>\n",
              "      <td>163.326</td>\n",
              "      <td>0.007</td>\n",
              "      <td>0.001</td>\n",
              "      <td>163.885</td>\n",
              "      <td></td>\n",
              "      <td>0</td>\n",
              "      <td>0</td>\n",
              "      <td>0</td>\n",
              "      <td>0</td>\n",
              "      <td>0</td>\n",
              "      <td>0</td>\n",
              "      <td>0</td>\n",
              "      <td></td>\n",
              "      <td>1.152</td>\n",
              "      <td>0.418</td>\n",
              "      <td>0.328</td>\n",
              "      <td>174.84</td>\n",
              "      <td>14.16</td>\n",
              "      <td>2.832</td>\n",
              "      <td></td>\n",
              "      <td>2141</td>\n",
              "      <td>776</td>\n",
              "      <td>2141</td>\n",
              "      <td>776</td>\n",
              "      <td>EIA</td>\n",
              "      <td>EIA</td>\n",
              "      <td>EIA</td>\n",
              "      <td>EIA</td>\n",
              "      <td>EIA</td>\n",
              "      <td>EIA</td>\n",
              "      <td>--</td>\n",
              "      <td>EIA</td>\n",
              "      <td>EIA</td>\n",
              "      <td></td>\n",
              "      <td></td>\n",
              "      <td></td>\n",
              "      <td></td>\n",
              "      <td></td>\n",
              "      <td></td>\n",
              "      <td></td>\n",
              "      <td></td>\n",
              "      <td></td>\n",
              "      <td></td>\n",
              "      <td></td>\n",
              "      <td></td>\n",
              "      <td></td>\n",
              "      <td></td>\n",
              "      <td>-6048.022599</td>\n",
              "      <td>0</td>\n",
              "      <td>-354</td>\n",
              "      <td>0</td>\n",
              "      <td>0</td>\n",
              "      <td>0</td>\n",
              "      <td>0</td>\n",
              "      <td>0</td>\n",
              "      <td>0</td>\n",
              "      <td>0</td>\n",
              "      <td>0</td>\n",
              "      <td>0</td>\n",
              "      <td>-354</td>\n",
              "      <td>0</td>\n",
              "      <td>0</td>\n",
              "      <td>-354</td>\n",
              "      <td>0</td>\n",
              "      <td></td>\n",
              "      <td></td>\n",
              "      <td></td>\n",
              "      <td></td>\n",
              "      <td></td>\n",
              "      <td></td>\n",
              "      <td></td>\n",
              "      <td></td>\n",
              "      <td></td>\n",
              "      <td></td>\n",
              "      <td></td>\n",
              "      <td></td>\n",
              "      <td></td>\n",
              "      <td></td>\n",
              "      <td></td>\n",
              "      <td></td>\n",
              "    </tr>\n",
              "    <tr>\n",
              "      <th>8</th>\n",
              "      <td>9</td>\n",
              "      <td>2021</td>\n",
              "      <td>AK</td>\n",
              "      <td>Aurora Energy LLC Chena</td>\n",
              "      <td>79</td>\n",
              "      <td>Golden Valley Elec Assn Inc</td>\n",
              "      <td>7353</td>\n",
              "      <td>Aurora Energy LLC</td>\n",
              "      <td>986</td>\n",
              "      <td>IPP CHP</td>\n",
              "      <td>No balancing authority</td>\n",
              "      <td>NA</td>\n",
              "      <td>AK</td>\n",
              "      <td>AKGD</td>\n",
              "      <td>ASCC Alaska Grid</td>\n",
              "      <td></td>\n",
              "      <td>2</td>\n",
              "      <td>090</td>\n",
              "      <td>Fairbanks North Star</td>\n",
              "      <td>64.847743</td>\n",
              "      <td>-147.735063</td>\n",
              "      <td></td>\n",
              "      <td>4</td>\n",
              "      <td>3</td>\n",
              "      <td>SUB</td>\n",
              "      <td>COAL</td>\n",
              "      <td>Yes</td>\n",
              "      <td>0.73522</td>\n",
              "      <td>27.5</td>\n",
              "      <td>0.107963</td>\n",
              "      <td>Yes</td>\n",
              "      <td>Yes</td>\n",
              "      <td>698841.6</td>\n",
              "      <td>0.865</td>\n",
              "      <td>0.535602</td>\n",
              "      <td></td>\n",
              "      <td>1663630.766</td>\n",
              "      <td>678346.782</td>\n",
              "      <td>1663630.766</td>\n",
              "      <td>678346.782</td>\n",
              "      <td>177115</td>\n",
              "      <td>78454</td>\n",
              "      <td>285.189</td>\n",
              "      <td>111.296</td>\n",
              "      <td>167.348</td>\n",
              "      <td>177919.01</td>\n",
              "      <td>40344.44</td>\n",
              "      <td>5868.282</td>\n",
              "      <td>179297.689</td>\n",
              "      <td></td>\n",
              "      <td>3.22</td>\n",
              "      <td>2.837</td>\n",
              "      <td>1.89</td>\n",
              "      <td>2009.079</td>\n",
              "      <td>0.228</td>\n",
              "      <td>0.033</td>\n",
              "      <td>2024.647</td>\n",
              "      <td></td>\n",
              "      <td>0.343</td>\n",
              "      <td>0.328</td>\n",
              "      <td>0.201</td>\n",
              "      <td>213.892</td>\n",
              "      <td>0.024</td>\n",
              "      <td>0.004</td>\n",
              "      <td>215.55</td>\n",
              "      <td></td>\n",
              "      <td>3.22</td>\n",
              "      <td>2.837</td>\n",
              "      <td>1.89</td>\n",
              "      <td>2009.079</td>\n",
              "      <td>0.228</td>\n",
              "      <td>0.033</td>\n",
              "      <td>2024.647</td>\n",
              "      <td></td>\n",
              "      <td>532.465</td>\n",
              "      <td>207.797</td>\n",
              "      <td>312.449</td>\n",
              "      <td>332185.193</td>\n",
              "      <td>75325.429</td>\n",
              "      <td>10956.426</td>\n",
              "      <td></td>\n",
              "      <td>3106095.9</td>\n",
              "      <td>1266513.1</td>\n",
              "      <td>3106095.9</td>\n",
              "      <td>1266513.1</td>\n",
              "      <td>EIA</td>\n",
              "      <td>EIA</td>\n",
              "      <td>EIA</td>\n",
              "      <td>EIA</td>\n",
              "      <td>EIA</td>\n",
              "      <td>EIA</td>\n",
              "      <td>--</td>\n",
              "      <td>EIA</td>\n",
              "      <td>EIA</td>\n",
              "      <td></td>\n",
              "      <td></td>\n",
              "      <td></td>\n",
              "      <td>0</td>\n",
              "      <td></td>\n",
              "      <td></td>\n",
              "      <td>1442465.134</td>\n",
              "      <td>588166.318</td>\n",
              "      <td>247.276</td>\n",
              "      <td>96.501</td>\n",
              "      <td>145.101</td>\n",
              "      <td>154266.183</td>\n",
              "      <td>34980.989</td>\n",
              "      <td>5088.144</td>\n",
              "      <td>9392.94112</td>\n",
              "      <td>177115</td>\n",
              "      <td>0</td>\n",
              "      <td>0</td>\n",
              "      <td>0</td>\n",
              "      <td>0</td>\n",
              "      <td>0</td>\n",
              "      <td>0</td>\n",
              "      <td>0</td>\n",
              "      <td>0</td>\n",
              "      <td>0</td>\n",
              "      <td>0</td>\n",
              "      <td>177115</td>\n",
              "      <td>0</td>\n",
              "      <td>0</td>\n",
              "      <td>177115</td>\n",
              "      <td>0</td>\n",
              "      <td>1</td>\n",
              "      <td>0</td>\n",
              "      <td>0</td>\n",
              "      <td>0</td>\n",
              "      <td>0</td>\n",
              "      <td>0</td>\n",
              "      <td>0</td>\n",
              "      <td>0</td>\n",
              "      <td>0</td>\n",
              "      <td>0</td>\n",
              "      <td>0</td>\n",
              "      <td>1</td>\n",
              "      <td>0</td>\n",
              "      <td>0</td>\n",
              "      <td>1</td>\n",
              "      <td>0</td>\n",
              "    </tr>\n",
              "    <tr>\n",
              "      <th>9</th>\n",
              "      <td>10</td>\n",
              "      <td>2021</td>\n",
              "      <td>AK</td>\n",
              "      <td>Barrow</td>\n",
              "      <td>7173</td>\n",
              "      <td>Barrow Utils &amp; Elec Coop, Inc</td>\n",
              "      <td>1276</td>\n",
              "      <td>Barrow Utils &amp; Elec Coop, Inc</td>\n",
              "      <td>1276</td>\n",
              "      <td>Electric Utility</td>\n",
              "      <td>No balancing authority</td>\n",
              "      <td>NA</td>\n",
              "      <td>AK</td>\n",
              "      <td>AKMS</td>\n",
              "      <td>ASCC Miscellaneous</td>\n",
              "      <td></td>\n",
              "      <td>2</td>\n",
              "      <td>185</td>\n",
              "      <td>North Slope</td>\n",
              "      <td>71.292000</td>\n",
              "      <td>-156.778600</td>\n",
              "      <td></td>\n",
              "      <td>7</td>\n",
              "      <td>7</td>\n",
              "      <td>NG</td>\n",
              "      <td>GAS</td>\n",
              "      <td></td>\n",
              "      <td>0.26616</td>\n",
              "      <td>20.3</td>\n",
              "      <td>0.889731</td>\n",
              "      <td></td>\n",
              "      <td>Yes</td>\n",
              "      <td>0</td>\n",
              "      <td></td>\n",
              "      <td>1</td>\n",
              "      <td></td>\n",
              "      <td>748193.999</td>\n",
              "      <td>351133</td>\n",
              "      <td>748193.999</td>\n",
              "      <td>351133</td>\n",
              "      <td>47331.001</td>\n",
              "      <td>22213</td>\n",
              "      <td>119.709</td>\n",
              "      <td>56.182</td>\n",
              "      <td>1.196</td>\n",
              "      <td>43727.847</td>\n",
              "      <td>1649.566</td>\n",
              "      <td>164.969</td>\n",
              "      <td>43773.047</td>\n",
              "      <td></td>\n",
              "      <td>5.058</td>\n",
              "      <td>5.058</td>\n",
              "      <td>0.051</td>\n",
              "      <td>1847.747</td>\n",
              "      <td>0.035</td>\n",
              "      <td>0.003</td>\n",
              "      <td>1849.657</td>\n",
              "      <td></td>\n",
              "      <td>0.32</td>\n",
              "      <td>0.32</td>\n",
              "      <td>0.003</td>\n",
              "      <td>116.889</td>\n",
              "      <td>0.002</td>\n",
              "      <td>0</td>\n",
              "      <td>117.01</td>\n",
              "      <td></td>\n",
              "      <td>5.058</td>\n",
              "      <td>5.058</td>\n",
              "      <td>0.051</td>\n",
              "      <td>1847.747</td>\n",
              "      <td>0.035</td>\n",
              "      <td>0.003</td>\n",
              "      <td>1849.657</td>\n",
              "      <td></td>\n",
              "      <td>119.709</td>\n",
              "      <td>56.182</td>\n",
              "      <td>1.196</td>\n",
              "      <td>43727.847</td>\n",
              "      <td>1649.566</td>\n",
              "      <td>164.969</td>\n",
              "      <td></td>\n",
              "      <td>748193.999</td>\n",
              "      <td>351133</td>\n",
              "      <td>748193.999</td>\n",
              "      <td>351133</td>\n",
              "      <td>EIA</td>\n",
              "      <td>EIA</td>\n",
              "      <td>EIA</td>\n",
              "      <td>EIA</td>\n",
              "      <td>EIA</td>\n",
              "      <td>EIA</td>\n",
              "      <td>--</td>\n",
              "      <td>EIA</td>\n",
              "      <td>EIA</td>\n",
              "      <td></td>\n",
              "      <td></td>\n",
              "      <td></td>\n",
              "      <td></td>\n",
              "      <td></td>\n",
              "      <td></td>\n",
              "      <td>0</td>\n",
              "      <td>0</td>\n",
              "      <td>0</td>\n",
              "      <td>0</td>\n",
              "      <td>0</td>\n",
              "      <td>0</td>\n",
              "      <td>0</td>\n",
              "      <td>0</td>\n",
              "      <td>15807.694724</td>\n",
              "      <td>0</td>\n",
              "      <td>1.139</td>\n",
              "      <td>47329.861</td>\n",
              "      <td>0</td>\n",
              "      <td>0</td>\n",
              "      <td>0</td>\n",
              "      <td>0</td>\n",
              "      <td>0</td>\n",
              "      <td>0</td>\n",
              "      <td>0</td>\n",
              "      <td>0</td>\n",
              "      <td>47331</td>\n",
              "      <td>0</td>\n",
              "      <td>0</td>\n",
              "      <td>47331</td>\n",
              "      <td>0</td>\n",
              "      <td>0</td>\n",
              "      <td>0.000024</td>\n",
              "      <td>0.999976</td>\n",
              "      <td>0</td>\n",
              "      <td>0</td>\n",
              "      <td>0</td>\n",
              "      <td>0</td>\n",
              "      <td>0</td>\n",
              "      <td>0</td>\n",
              "      <td>0</td>\n",
              "      <td>0</td>\n",
              "      <td>1</td>\n",
              "      <td>0</td>\n",
              "      <td>0</td>\n",
              "      <td>1</td>\n",
              "      <td>0</td>\n",
              "    </tr>\n",
              "  </tbody>\n",
              "</table>\n",
              "</div>\n",
              "    <div class=\"colab-df-buttons\">\n",
              "\n",
              "  <div class=\"colab-df-container\">\n",
              "    <button class=\"colab-df-convert\" onclick=\"convertToInteractive('df-c028dd5b-82c2-4e68-a826-1ef2ea9eef82')\"\n",
              "            title=\"Convert this dataframe to an interactive table.\"\n",
              "            style=\"display:none;\">\n",
              "\n",
              "  <svg xmlns=\"http://www.w3.org/2000/svg\" height=\"24px\" viewBox=\"0 -960 960 960\">\n",
              "    <path d=\"M120-120v-720h720v720H120Zm60-500h600v-160H180v160Zm220 220h160v-160H400v160Zm0 220h160v-160H400v160ZM180-400h160v-160H180v160Zm440 0h160v-160H620v160ZM180-180h160v-160H180v160Zm440 0h160v-160H620v160Z\"/>\n",
              "  </svg>\n",
              "    </button>\n",
              "\n",
              "  <style>\n",
              "    .colab-df-container {\n",
              "      display:flex;\n",
              "      gap: 12px;\n",
              "    }\n",
              "\n",
              "    .colab-df-convert {\n",
              "      background-color: #E8F0FE;\n",
              "      border: none;\n",
              "      border-radius: 50%;\n",
              "      cursor: pointer;\n",
              "      display: none;\n",
              "      fill: #1967D2;\n",
              "      height: 32px;\n",
              "      padding: 0 0 0 0;\n",
              "      width: 32px;\n",
              "    }\n",
              "\n",
              "    .colab-df-convert:hover {\n",
              "      background-color: #E2EBFA;\n",
              "      box-shadow: 0px 1px 2px rgba(60, 64, 67, 0.3), 0px 1px 3px 1px rgba(60, 64, 67, 0.15);\n",
              "      fill: #174EA6;\n",
              "    }\n",
              "\n",
              "    .colab-df-buttons div {\n",
              "      margin-bottom: 4px;\n",
              "    }\n",
              "\n",
              "    [theme=dark] .colab-df-convert {\n",
              "      background-color: #3B4455;\n",
              "      fill: #D2E3FC;\n",
              "    }\n",
              "\n",
              "    [theme=dark] .colab-df-convert:hover {\n",
              "      background-color: #434B5C;\n",
              "      box-shadow: 0px 1px 3px 1px rgba(0, 0, 0, 0.15);\n",
              "      filter: drop-shadow(0px 1px 2px rgba(0, 0, 0, 0.3));\n",
              "      fill: #FFFFFF;\n",
              "    }\n",
              "  </style>\n",
              "\n",
              "    <script>\n",
              "      const buttonEl =\n",
              "        document.querySelector('#df-c028dd5b-82c2-4e68-a826-1ef2ea9eef82 button.colab-df-convert');\n",
              "      buttonEl.style.display =\n",
              "        google.colab.kernel.accessAllowed ? 'block' : 'none';\n",
              "\n",
              "      async function convertToInteractive(key) {\n",
              "        const element = document.querySelector('#df-c028dd5b-82c2-4e68-a826-1ef2ea9eef82');\n",
              "        const dataTable =\n",
              "          await google.colab.kernel.invokeFunction('convertToInteractive',\n",
              "                                                    [key], {});\n",
              "        if (!dataTable) return;\n",
              "\n",
              "        const docLinkHtml = 'Like what you see? Visit the ' +\n",
              "          '<a target=\"_blank\" href=https://colab.research.google.com/notebooks/data_table.ipynb>data table notebook</a>'\n",
              "          + ' to learn more about interactive tables.';\n",
              "        element.innerHTML = '';\n",
              "        dataTable['output_type'] = 'display_data';\n",
              "        await google.colab.output.renderOutput(dataTable, element);\n",
              "        const docLink = document.createElement('div');\n",
              "        docLink.innerHTML = docLinkHtml;\n",
              "        element.appendChild(docLink);\n",
              "      }\n",
              "    </script>\n",
              "  </div>\n",
              "\n",
              "\n",
              "<div id=\"df-b62fa708-a718-4337-8526-cf1d1e757c13\">\n",
              "  <button class=\"colab-df-quickchart\" onclick=\"quickchart('df-b62fa708-a718-4337-8526-cf1d1e757c13')\"\n",
              "            title=\"Suggest charts.\"\n",
              "            style=\"display:none;\">\n",
              "\n",
              "<svg xmlns=\"http://www.w3.org/2000/svg\" height=\"24px\"viewBox=\"0 0 24 24\"\n",
              "     width=\"24px\">\n",
              "    <g>\n",
              "        <path d=\"M19 3H5c-1.1 0-2 .9-2 2v14c0 1.1.9 2 2 2h14c1.1 0 2-.9 2-2V5c0-1.1-.9-2-2-2zM9 17H7v-7h2v7zm4 0h-2V7h2v10zm4 0h-2v-4h2v4z\"/>\n",
              "    </g>\n",
              "</svg>\n",
              "  </button>\n",
              "\n",
              "<style>\n",
              "  .colab-df-quickchart {\n",
              "      --bg-color: #E8F0FE;\n",
              "      --fill-color: #1967D2;\n",
              "      --hover-bg-color: #E2EBFA;\n",
              "      --hover-fill-color: #174EA6;\n",
              "      --disabled-fill-color: #AAA;\n",
              "      --disabled-bg-color: #DDD;\n",
              "  }\n",
              "\n",
              "  [theme=dark] .colab-df-quickchart {\n",
              "      --bg-color: #3B4455;\n",
              "      --fill-color: #D2E3FC;\n",
              "      --hover-bg-color: #434B5C;\n",
              "      --hover-fill-color: #FFFFFF;\n",
              "      --disabled-bg-color: #3B4455;\n",
              "      --disabled-fill-color: #666;\n",
              "  }\n",
              "\n",
              "  .colab-df-quickchart {\n",
              "    background-color: var(--bg-color);\n",
              "    border: none;\n",
              "    border-radius: 50%;\n",
              "    cursor: pointer;\n",
              "    display: none;\n",
              "    fill: var(--fill-color);\n",
              "    height: 32px;\n",
              "    padding: 0;\n",
              "    width: 32px;\n",
              "  }\n",
              "\n",
              "  .colab-df-quickchart:hover {\n",
              "    background-color: var(--hover-bg-color);\n",
              "    box-shadow: 0 1px 2px rgba(60, 64, 67, 0.3), 0 1px 3px 1px rgba(60, 64, 67, 0.15);\n",
              "    fill: var(--button-hover-fill-color);\n",
              "  }\n",
              "\n",
              "  .colab-df-quickchart-complete:disabled,\n",
              "  .colab-df-quickchart-complete:disabled:hover {\n",
              "    background-color: var(--disabled-bg-color);\n",
              "    fill: var(--disabled-fill-color);\n",
              "    box-shadow: none;\n",
              "  }\n",
              "\n",
              "  .colab-df-spinner {\n",
              "    border: 2px solid var(--fill-color);\n",
              "    border-color: transparent;\n",
              "    border-bottom-color: var(--fill-color);\n",
              "    animation:\n",
              "      spin 1s steps(1) infinite;\n",
              "  }\n",
              "\n",
              "  @keyframes spin {\n",
              "    0% {\n",
              "      border-color: transparent;\n",
              "      border-bottom-color: var(--fill-color);\n",
              "      border-left-color: var(--fill-color);\n",
              "    }\n",
              "    20% {\n",
              "      border-color: transparent;\n",
              "      border-left-color: var(--fill-color);\n",
              "      border-top-color: var(--fill-color);\n",
              "    }\n",
              "    30% {\n",
              "      border-color: transparent;\n",
              "      border-left-color: var(--fill-color);\n",
              "      border-top-color: var(--fill-color);\n",
              "      border-right-color: var(--fill-color);\n",
              "    }\n",
              "    40% {\n",
              "      border-color: transparent;\n",
              "      border-right-color: var(--fill-color);\n",
              "      border-top-color: var(--fill-color);\n",
              "    }\n",
              "    60% {\n",
              "      border-color: transparent;\n",
              "      border-right-color: var(--fill-color);\n",
              "    }\n",
              "    80% {\n",
              "      border-color: transparent;\n",
              "      border-right-color: var(--fill-color);\n",
              "      border-bottom-color: var(--fill-color);\n",
              "    }\n",
              "    90% {\n",
              "      border-color: transparent;\n",
              "      border-bottom-color: var(--fill-color);\n",
              "    }\n",
              "  }\n",
              "</style>\n",
              "\n",
              "  <script>\n",
              "    async function quickchart(key) {\n",
              "      const quickchartButtonEl =\n",
              "        document.querySelector('#' + key + ' button');\n",
              "      quickchartButtonEl.disabled = true;  // To prevent multiple clicks.\n",
              "      quickchartButtonEl.classList.add('colab-df-spinner');\n",
              "      try {\n",
              "        const charts = await google.colab.kernel.invokeFunction(\n",
              "            'suggestCharts', [key], {});\n",
              "      } catch (error) {\n",
              "        console.error('Error during call to suggestCharts:', error);\n",
              "      }\n",
              "      quickchartButtonEl.classList.remove('colab-df-spinner');\n",
              "      quickchartButtonEl.classList.add('colab-df-quickchart-complete');\n",
              "    }\n",
              "    (() => {\n",
              "      let quickchartButtonEl =\n",
              "        document.querySelector('#df-b62fa708-a718-4337-8526-cf1d1e757c13 button');\n",
              "      quickchartButtonEl.style.display =\n",
              "        google.colab.kernel.accessAllowed ? 'block' : 'none';\n",
              "    })();\n",
              "  </script>\n",
              "</div>\n",
              "    </div>\n",
              "  </div>\n"
            ]
          },
          "metadata": {},
          "execution_count": 14
        }
      ]
    },
    {
      "cell_type": "code",
      "source": [
        "n_df_plant21.tail(10)"
      ],
      "metadata": {
        "colab": {
          "base_uri": "https://localhost:8080/",
          "height": 363
        },
        "id": "7J8JPH1g9BV8",
        "outputId": "825a07f8-6467-4923-c2ef-6a3903be8824"
      },
      "execution_count": 80,
      "outputs": [
        {
          "output_type": "execute_result",
          "data": {
            "text/plain": [
              "      PSTATABB                               PNAME PLPRMFL  NAMEPCAP\n",
              "11383       WY                    Strawberry Creek     WAT       1.5\n",
              "11384       WY                    Sweetwater Solar     SUN      92.0\n",
              "11385       WY                         Swift Creek     WAT       1.7\n",
              "11386       WY                            TB Flats     WND     503.2\n",
              "11387       WY  Top of the World Windpower Project     WND     200.0\n",
              "11388       WY              TransAlta Wyoming Wind     WND     144.0\n",
              "11389       WY                             Wygen I     SUB      90.0\n",
              "11390       WY                            Wygen II     SUB      95.0\n",
              "11391       WY                           Wygen III     SUB     116.0\n",
              "11392       WY                              Wyodak     SUB     402.3"
            ],
            "text/html": [
              "\n",
              "  <div id=\"df-a8dfc83f-35ba-4dcd-bf36-79559c2fd156\" class=\"colab-df-container\">\n",
              "    <div>\n",
              "<style scoped>\n",
              "    .dataframe tbody tr th:only-of-type {\n",
              "        vertical-align: middle;\n",
              "    }\n",
              "\n",
              "    .dataframe tbody tr th {\n",
              "        vertical-align: top;\n",
              "    }\n",
              "\n",
              "    .dataframe thead th {\n",
              "        text-align: right;\n",
              "    }\n",
              "</style>\n",
              "<table border=\"1\" class=\"dataframe\">\n",
              "  <thead>\n",
              "    <tr style=\"text-align: right;\">\n",
              "      <th></th>\n",
              "      <th>PSTATABB</th>\n",
              "      <th>PNAME</th>\n",
              "      <th>PLPRMFL</th>\n",
              "      <th>NAMEPCAP</th>\n",
              "    </tr>\n",
              "  </thead>\n",
              "  <tbody>\n",
              "    <tr>\n",
              "      <th>11383</th>\n",
              "      <td>WY</td>\n",
              "      <td>Strawberry Creek</td>\n",
              "      <td>WAT</td>\n",
              "      <td>1.5</td>\n",
              "    </tr>\n",
              "    <tr>\n",
              "      <th>11384</th>\n",
              "      <td>WY</td>\n",
              "      <td>Sweetwater Solar</td>\n",
              "      <td>SUN</td>\n",
              "      <td>92.0</td>\n",
              "    </tr>\n",
              "    <tr>\n",
              "      <th>11385</th>\n",
              "      <td>WY</td>\n",
              "      <td>Swift Creek</td>\n",
              "      <td>WAT</td>\n",
              "      <td>1.7</td>\n",
              "    </tr>\n",
              "    <tr>\n",
              "      <th>11386</th>\n",
              "      <td>WY</td>\n",
              "      <td>TB Flats</td>\n",
              "      <td>WND</td>\n",
              "      <td>503.2</td>\n",
              "    </tr>\n",
              "    <tr>\n",
              "      <th>11387</th>\n",
              "      <td>WY</td>\n",
              "      <td>Top of the World Windpower Project</td>\n",
              "      <td>WND</td>\n",
              "      <td>200.0</td>\n",
              "    </tr>\n",
              "    <tr>\n",
              "      <th>11388</th>\n",
              "      <td>WY</td>\n",
              "      <td>TransAlta Wyoming Wind</td>\n",
              "      <td>WND</td>\n",
              "      <td>144.0</td>\n",
              "    </tr>\n",
              "    <tr>\n",
              "      <th>11389</th>\n",
              "      <td>WY</td>\n",
              "      <td>Wygen I</td>\n",
              "      <td>SUB</td>\n",
              "      <td>90.0</td>\n",
              "    </tr>\n",
              "    <tr>\n",
              "      <th>11390</th>\n",
              "      <td>WY</td>\n",
              "      <td>Wygen II</td>\n",
              "      <td>SUB</td>\n",
              "      <td>95.0</td>\n",
              "    </tr>\n",
              "    <tr>\n",
              "      <th>11391</th>\n",
              "      <td>WY</td>\n",
              "      <td>Wygen III</td>\n",
              "      <td>SUB</td>\n",
              "      <td>116.0</td>\n",
              "    </tr>\n",
              "    <tr>\n",
              "      <th>11392</th>\n",
              "      <td>WY</td>\n",
              "      <td>Wyodak</td>\n",
              "      <td>SUB</td>\n",
              "      <td>402.3</td>\n",
              "    </tr>\n",
              "  </tbody>\n",
              "</table>\n",
              "</div>\n",
              "    <div class=\"colab-df-buttons\">\n",
              "\n",
              "  <div class=\"colab-df-container\">\n",
              "    <button class=\"colab-df-convert\" onclick=\"convertToInteractive('df-a8dfc83f-35ba-4dcd-bf36-79559c2fd156')\"\n",
              "            title=\"Convert this dataframe to an interactive table.\"\n",
              "            style=\"display:none;\">\n",
              "\n",
              "  <svg xmlns=\"http://www.w3.org/2000/svg\" height=\"24px\" viewBox=\"0 -960 960 960\">\n",
              "    <path d=\"M120-120v-720h720v720H120Zm60-500h600v-160H180v160Zm220 220h160v-160H400v160Zm0 220h160v-160H400v160ZM180-400h160v-160H180v160Zm440 0h160v-160H620v160ZM180-180h160v-160H180v160Zm440 0h160v-160H620v160Z\"/>\n",
              "  </svg>\n",
              "    </button>\n",
              "\n",
              "  <style>\n",
              "    .colab-df-container {\n",
              "      display:flex;\n",
              "      gap: 12px;\n",
              "    }\n",
              "\n",
              "    .colab-df-convert {\n",
              "      background-color: #E8F0FE;\n",
              "      border: none;\n",
              "      border-radius: 50%;\n",
              "      cursor: pointer;\n",
              "      display: none;\n",
              "      fill: #1967D2;\n",
              "      height: 32px;\n",
              "      padding: 0 0 0 0;\n",
              "      width: 32px;\n",
              "    }\n",
              "\n",
              "    .colab-df-convert:hover {\n",
              "      background-color: #E2EBFA;\n",
              "      box-shadow: 0px 1px 2px rgba(60, 64, 67, 0.3), 0px 1px 3px 1px rgba(60, 64, 67, 0.15);\n",
              "      fill: #174EA6;\n",
              "    }\n",
              "\n",
              "    .colab-df-buttons div {\n",
              "      margin-bottom: 4px;\n",
              "    }\n",
              "\n",
              "    [theme=dark] .colab-df-convert {\n",
              "      background-color: #3B4455;\n",
              "      fill: #D2E3FC;\n",
              "    }\n",
              "\n",
              "    [theme=dark] .colab-df-convert:hover {\n",
              "      background-color: #434B5C;\n",
              "      box-shadow: 0px 1px 3px 1px rgba(0, 0, 0, 0.15);\n",
              "      filter: drop-shadow(0px 1px 2px rgba(0, 0, 0, 0.3));\n",
              "      fill: #FFFFFF;\n",
              "    }\n",
              "  </style>\n",
              "\n",
              "    <script>\n",
              "      const buttonEl =\n",
              "        document.querySelector('#df-a8dfc83f-35ba-4dcd-bf36-79559c2fd156 button.colab-df-convert');\n",
              "      buttonEl.style.display =\n",
              "        google.colab.kernel.accessAllowed ? 'block' : 'none';\n",
              "\n",
              "      async function convertToInteractive(key) {\n",
              "        const element = document.querySelector('#df-a8dfc83f-35ba-4dcd-bf36-79559c2fd156');\n",
              "        const dataTable =\n",
              "          await google.colab.kernel.invokeFunction('convertToInteractive',\n",
              "                                                    [key], {});\n",
              "        if (!dataTable) return;\n",
              "\n",
              "        const docLinkHtml = 'Like what you see? Visit the ' +\n",
              "          '<a target=\"_blank\" href=https://colab.research.google.com/notebooks/data_table.ipynb>data table notebook</a>'\n",
              "          + ' to learn more about interactive tables.';\n",
              "        element.innerHTML = '';\n",
              "        dataTable['output_type'] = 'display_data';\n",
              "        await google.colab.output.renderOutput(dataTable, element);\n",
              "        const docLink = document.createElement('div');\n",
              "        docLink.innerHTML = docLinkHtml;\n",
              "        element.appendChild(docLink);\n",
              "      }\n",
              "    </script>\n",
              "  </div>\n",
              "\n",
              "\n",
              "<div id=\"df-5d753e2f-1350-4aaf-bfb2-9f05fd84a611\">\n",
              "  <button class=\"colab-df-quickchart\" onclick=\"quickchart('df-5d753e2f-1350-4aaf-bfb2-9f05fd84a611')\"\n",
              "            title=\"Suggest charts.\"\n",
              "            style=\"display:none;\">\n",
              "\n",
              "<svg xmlns=\"http://www.w3.org/2000/svg\" height=\"24px\"viewBox=\"0 0 24 24\"\n",
              "     width=\"24px\">\n",
              "    <g>\n",
              "        <path d=\"M19 3H5c-1.1 0-2 .9-2 2v14c0 1.1.9 2 2 2h14c1.1 0 2-.9 2-2V5c0-1.1-.9-2-2-2zM9 17H7v-7h2v7zm4 0h-2V7h2v10zm4 0h-2v-4h2v4z\"/>\n",
              "    </g>\n",
              "</svg>\n",
              "  </button>\n",
              "\n",
              "<style>\n",
              "  .colab-df-quickchart {\n",
              "      --bg-color: #E8F0FE;\n",
              "      --fill-color: #1967D2;\n",
              "      --hover-bg-color: #E2EBFA;\n",
              "      --hover-fill-color: #174EA6;\n",
              "      --disabled-fill-color: #AAA;\n",
              "      --disabled-bg-color: #DDD;\n",
              "  }\n",
              "\n",
              "  [theme=dark] .colab-df-quickchart {\n",
              "      --bg-color: #3B4455;\n",
              "      --fill-color: #D2E3FC;\n",
              "      --hover-bg-color: #434B5C;\n",
              "      --hover-fill-color: #FFFFFF;\n",
              "      --disabled-bg-color: #3B4455;\n",
              "      --disabled-fill-color: #666;\n",
              "  }\n",
              "\n",
              "  .colab-df-quickchart {\n",
              "    background-color: var(--bg-color);\n",
              "    border: none;\n",
              "    border-radius: 50%;\n",
              "    cursor: pointer;\n",
              "    display: none;\n",
              "    fill: var(--fill-color);\n",
              "    height: 32px;\n",
              "    padding: 0;\n",
              "    width: 32px;\n",
              "  }\n",
              "\n",
              "  .colab-df-quickchart:hover {\n",
              "    background-color: var(--hover-bg-color);\n",
              "    box-shadow: 0 1px 2px rgba(60, 64, 67, 0.3), 0 1px 3px 1px rgba(60, 64, 67, 0.15);\n",
              "    fill: var(--button-hover-fill-color);\n",
              "  }\n",
              "\n",
              "  .colab-df-quickchart-complete:disabled,\n",
              "  .colab-df-quickchart-complete:disabled:hover {\n",
              "    background-color: var(--disabled-bg-color);\n",
              "    fill: var(--disabled-fill-color);\n",
              "    box-shadow: none;\n",
              "  }\n",
              "\n",
              "  .colab-df-spinner {\n",
              "    border: 2px solid var(--fill-color);\n",
              "    border-color: transparent;\n",
              "    border-bottom-color: var(--fill-color);\n",
              "    animation:\n",
              "      spin 1s steps(1) infinite;\n",
              "  }\n",
              "\n",
              "  @keyframes spin {\n",
              "    0% {\n",
              "      border-color: transparent;\n",
              "      border-bottom-color: var(--fill-color);\n",
              "      border-left-color: var(--fill-color);\n",
              "    }\n",
              "    20% {\n",
              "      border-color: transparent;\n",
              "      border-left-color: var(--fill-color);\n",
              "      border-top-color: var(--fill-color);\n",
              "    }\n",
              "    30% {\n",
              "      border-color: transparent;\n",
              "      border-left-color: var(--fill-color);\n",
              "      border-top-color: var(--fill-color);\n",
              "      border-right-color: var(--fill-color);\n",
              "    }\n",
              "    40% {\n",
              "      border-color: transparent;\n",
              "      border-right-color: var(--fill-color);\n",
              "      border-top-color: var(--fill-color);\n",
              "    }\n",
              "    60% {\n",
              "      border-color: transparent;\n",
              "      border-right-color: var(--fill-color);\n",
              "    }\n",
              "    80% {\n",
              "      border-color: transparent;\n",
              "      border-right-color: var(--fill-color);\n",
              "      border-bottom-color: var(--fill-color);\n",
              "    }\n",
              "    90% {\n",
              "      border-color: transparent;\n",
              "      border-bottom-color: var(--fill-color);\n",
              "    }\n",
              "  }\n",
              "</style>\n",
              "\n",
              "  <script>\n",
              "    async function quickchart(key) {\n",
              "      const quickchartButtonEl =\n",
              "        document.querySelector('#' + key + ' button');\n",
              "      quickchartButtonEl.disabled = true;  // To prevent multiple clicks.\n",
              "      quickchartButtonEl.classList.add('colab-df-spinner');\n",
              "      try {\n",
              "        const charts = await google.colab.kernel.invokeFunction(\n",
              "            'suggestCharts', [key], {});\n",
              "      } catch (error) {\n",
              "        console.error('Error during call to suggestCharts:', error);\n",
              "      }\n",
              "      quickchartButtonEl.classList.remove('colab-df-spinner');\n",
              "      quickchartButtonEl.classList.add('colab-df-quickchart-complete');\n",
              "    }\n",
              "    (() => {\n",
              "      let quickchartButtonEl =\n",
              "        document.querySelector('#df-5d753e2f-1350-4aaf-bfb2-9f05fd84a611 button');\n",
              "      quickchartButtonEl.style.display =\n",
              "        google.colab.kernel.accessAllowed ? 'block' : 'none';\n",
              "    })();\n",
              "  </script>\n",
              "</div>\n",
              "    </div>\n",
              "  </div>\n"
            ]
          },
          "metadata": {},
          "execution_count": 80
        }
      ]
    },
    {
      "cell_type": "markdown",
      "source": [
        "Solar Plants in CA\n"
      ],
      "metadata": {
        "id": "RYeKVlLw-WCg"
      }
    },
    {
      "cell_type": "code",
      "source": [
        "df_solar21=df_plant21[(df_plant21.PLPRMFL==\"SUN\")]"
      ],
      "metadata": {
        "id": "7yUdqdV29G6T"
      },
      "execution_count": 131,
      "outputs": []
    },
    {
      "cell_type": "code",
      "source": [
        "df_solar21_CA=df_solar21[(df_solar21.PSTATABB==\"CA\")]"
      ],
      "metadata": {
        "id": "fpnHM9hYOC4U"
      },
      "execution_count": 91,
      "outputs": []
    },
    {
      "cell_type": "code",
      "source": [
        "capacities=df_solar21_CA"
      ],
      "metadata": {
        "id": "RjfE8_QHe0Dr"
      },
      "execution_count": 106,
      "outputs": []
    },
    {
      "cell_type": "code",
      "source": [
        "capacities"
      ],
      "metadata": {
        "colab": {
          "base_uri": "https://localhost:8080/",
          "height": 1000
        },
        "id": "DzQiIt_ie7De",
        "outputId": "65dca342-1a75-4614-9b59-095eee7117c0"
      },
      "execution_count": 107,
      "outputs": [
        {
          "output_type": "execute_result",
          "data": {
            "text/plain": [
              "      SEQPLT  YEAR PSTATABB                          PNAME  ORISPL  \\\n",
              "437      438  2021       CA                1420 Coil Av #C   57310   \n",
              "438      439  2021       CA        20333 Normandie PV, LLC   65331   \n",
              "439      440  2021       CA     2081 Terzian Solar Project   58918   \n",
              "440      441  2021       CA      2097 Helton Solar Project   58920   \n",
              "441      442  2021       CA      2127 Harris Solar Project   58919   \n",
              "...      ...   ...      ...                            ...     ...   \n",
              "2035    2036  2021       CA  Wonderful Orchards - Westside   64220   \n",
              "2039    2040  2021       CA            Woodmere Solar Farm   59008   \n",
              "2041    2042  2021       CA              Wright Solar Park   59525   \n",
              "2043    2044  2021       CA                        Xebec 1   62286   \n",
              "2047    2048  2021       CA      Yolo County Solar Project   57422   \n",
              "\n",
              "                                      OPRNAME  OPRCODE  \\\n",
              "437   Los Angeles Department of Water & Power    11208   \n",
              "438   Los Angeles Department of Water & Power    11208   \n",
              "439                 Pacific Gas & Electric Co    14328   \n",
              "440                 Pacific Gas & Electric Co    14328   \n",
              "441                 Pacific Gas & Electric Co    14328   \n",
              "...                                       ...      ...   \n",
              "2035               Pacific Gas & Electric Co.    14328   \n",
              "2039                Pacific Gas & Electric Co    14328   \n",
              "2041                Pacific Gas & Electric Co    14328   \n",
              "2043  Los Angeles Department of Water & Power    11208   \n",
              "2047                Pacific Gas & Electric Co    14328   \n",
              "\n",
              "                              UTLSRVNM  UTLSRVID              SECTOR  \\\n",
              "437                    Konoike Pacific     57320  Commercial Non-CHP   \n",
              "438            20333 Normandie PV, LLC     64639         IPP Non-CHP   \n",
              "439                    Solarenewal LLC     61315         IPP Non-CHP   \n",
              "440                    Solarenewal LLC     61315         IPP Non-CHP   \n",
              "441                    Solarenewal LLC     61315         IPP Non-CHP   \n",
              "...                                ...       ...                 ...   \n",
              "2035  Wonderful Renewable Energy, LLC.     63689  Industrial Non-CHP   \n",
              "2039            AES Distributed Energy     61012         IPP Non-CHP   \n",
              "2041             Wright Solar Park LLC     59260         IPP Non-CHP   \n",
              "2043            AES Distributed Energy     61012  Commercial Non-CHP   \n",
              "2047                    Yolo County of     56751  Commercial Non-CHP   \n",
              "\n",
              "                                         BANAME BACODE  NERC SUBRGN  \\\n",
              "437   Los Angeles Department of Water and Power   LDWP  WECC   CAMX   \n",
              "438   Los Angeles Department of Water and Power   LDWP  WECC   CAMX   \n",
              "439      California Independent System Operator   CISO  WECC   CAMX   \n",
              "440      California Independent System Operator   CISO  WECC   CAMX   \n",
              "441      California Independent System Operator   CISO  WECC   CAMX   \n",
              "...                                         ...    ...   ...    ...   \n",
              "2035     California Independent System Operator   CISO  WECC   CAMX   \n",
              "2039     California Independent System Operator   CISO  WECC   CAMX   \n",
              "2041     California Independent System Operator   CISO  WECC   CAMX   \n",
              "2043  Los Angeles Department of Water and Power   LDWP  WECC   CAMX   \n",
              "2047     California Independent System Operator   CISO  WECC   CAMX   \n",
              "\n",
              "               SRNAME ISORTO  FIPSST FIPSCNTY     CNTYNAME        LAT  \\\n",
              "437   WECC California              6      037  Los Angeles  33.794283   \n",
              "438   WECC California              6      037  Los Angeles  33.846140   \n",
              "439   WECC California  CAISO       6      019       Fresno  36.670000   \n",
              "440   WECC California  CAISO       6      047       Merced  37.352222   \n",
              "441   WECC California  CAISO       6      007        Butte  39.291667   \n",
              "...               ...    ...     ...      ...          ...        ...   \n",
              "2035  WECC California  CAISO       6      029         Kern  35.732770   \n",
              "2039  WECC California  CAISO       6      029         Kern  35.323056   \n",
              "2041  WECC California  CAISO       6      047       Merced  37.009444   \n",
              "2043  WECC California              6      037  Los Angeles  34.224041   \n",
              "2047  WECC California  CAISO       6      113         Yolo  38.659722   \n",
              "\n",
              "             LON CAMDFLAG  NUMUNT  NUMGEN PLPRMFL PLFUELCT COALFLAG   CAPFAC  \\\n",
              "437  -118.241405                1       1     SUN    SOLAR           0.13251   \n",
              "438  -118.300190                1       1     SUN    SOLAR           0.26045   \n",
              "439  -119.415833                1       1     SUN    SOLAR           0.27017   \n",
              "440  -120.506944                1       1     SUN    SOLAR            0.2844   \n",
              "441  -121.669722                1       1     SUN    SOLAR           0.21725   \n",
              "...          ...      ...     ...     ...     ...      ...      ...      ...   \n",
              "2035 -119.745230                1       1     SUN    SOLAR           0.12701   \n",
              "2039 -118.821389                1       1     SUN    SOLAR           0.27217   \n",
              "2041 -120.957222                1       1     SUN    SOLAR           0.28689   \n",
              "2043 -118.392921                1       1     SUN    SOLAR            0.1731   \n",
              "2047 -121.729400                1       1     SUN    SOLAR           0.14817   \n",
              "\n",
              "      NAMEPCAP NBFACTOR RMBMFLAG CHPFLAG USETHRMO PWRTOHT ELCALLOC PSFLAG  \\\n",
              "437        1.3                                                              \n",
              "438        2.6                                                              \n",
              "439        1.2                                                              \n",
              "440        1.5                                                              \n",
              "441        1.3                                                              \n",
              "...        ...      ...      ...     ...      ...     ...      ...    ...   \n",
              "2035       5.0                                                              \n",
              "2039      15.0                                                              \n",
              "2041     200.0                                                              \n",
              "2043       1.9                                                              \n",
              "2047       1.0                                                              \n",
              "\n",
              "     PLHTIAN PLHTIOZ PLHTIANT PLHTIOZT PLNGENAN PLNGENOZ PLNOXAN PLNOXOZ  \\\n",
              "437                     13341     6988     1509      790                   \n",
              "438                     52457        0     5932        0                   \n",
              "439                     25115    13155     2840     1488                   \n",
              "440                     33045    17308     3737     1957                   \n",
              "441                     21877    11460     2474     1296                   \n",
              "...      ...     ...      ...      ...      ...      ...     ...     ...   \n",
              "2035                    49193    25870     5563     2926                   \n",
              "2039                   316252   165646    35763    18732                   \n",
              "2041                  4444767  2527701   502631   285842                   \n",
              "2043                    25476    13343     2881     1509                   \n",
              "2047                    11478     6012     1298      680                   \n",
              "\n",
              "     PLSO2AN PLCO2AN PLCH4AN PLN2OAN PLCO2EQA PLHGAN PLNOXRTA PLNOXRTO  \\\n",
              "437                                                                      \n",
              "438                                                                      \n",
              "439                                                                      \n",
              "440                                                                      \n",
              "441                                                                      \n",
              "...      ...     ...     ...     ...      ...    ...      ...      ...   \n",
              "2035                                                                     \n",
              "2039                                                                     \n",
              "2041                                                                     \n",
              "2043                                                                     \n",
              "2047                                                                     \n",
              "\n",
              "     PLSO2RTA PLCO2RTA PLCH4RTA PLN2ORTA PLC2ERTA PLHGRTA PLNOXRA PLNOXRO  \\\n",
              "437                                                                         \n",
              "438                                                                         \n",
              "439                                                                         \n",
              "440                                                                         \n",
              "441                                                                         \n",
              "...       ...      ...      ...      ...      ...     ...     ...     ...   \n",
              "2035                                                                        \n",
              "2039                                                                        \n",
              "2041                                                                        \n",
              "2043                                                                        \n",
              "2047                                                                        \n",
              "\n",
              "     PLSO2RA PLCO2RA PLCH4RA PLN2ORA PLC2ERA PLHGRA PLNOXCRT PLNOXCRO  \\\n",
              "437                                                                     \n",
              "438                                                                     \n",
              "439                                                                     \n",
              "440                                                                     \n",
              "441                                                                     \n",
              "...      ...     ...     ...     ...     ...    ...      ...      ...   \n",
              "2035                                                                    \n",
              "2039                                                                    \n",
              "2041                                                                    \n",
              "2043                                                                    \n",
              "2047                                                                    \n",
              "\n",
              "     PLSO2CRT PLCO2CRT PLCH4CRT PLN2OCRT PLC2ECRT PLHGCRT UNNOX UNNOXOZ UNSO2  \\\n",
              "437                                                                             \n",
              "438                                                                             \n",
              "439                                                                             \n",
              "440                                                                             \n",
              "441                                                                             \n",
              "...       ...      ...      ...      ...      ...     ...   ...     ...   ...   \n",
              "2035                                                                            \n",
              "2039                                                                            \n",
              "2041                                                                            \n",
              "2043                                                                            \n",
              "2047                                                                            \n",
              "\n",
              "     UNCO2 UNCH4 UNN2O UNHG UNHTI UNHTIOZ   UNHTIT UNHTIOZT UNNOXSRC UNNOZSRC  \\\n",
              "437                                          13341     6988                     \n",
              "438                                          52457        0                     \n",
              "439                                          25115    13155                     \n",
              "440                                          33045    17308                     \n",
              "441                                          21877    11460                     \n",
              "...    ...   ...   ...  ...   ...     ...      ...      ...      ...      ...   \n",
              "2035                                         49193    25870                     \n",
              "2039                                        316252   165646                     \n",
              "2041                                       4444767  2527701                     \n",
              "2043                                         25476    13343                     \n",
              "2047                                         11478     6012                     \n",
              "\n",
              "     UNSO2SRC UNCO2SRC UNCH4SRC UNN2OSRC UNHGSRC UNHTISRC UNHOZSRC BIONOX  \\\n",
              "437                                           --      EIA      EIA          \n",
              "438                                           --      EIA      EIA          \n",
              "439                                           --      EIA      EIA          \n",
              "440                                           --      EIA      EIA          \n",
              "441                                           --      EIA      EIA          \n",
              "...       ...      ...      ...      ...     ...      ...      ...    ...   \n",
              "2035                                          --      EIA      EIA          \n",
              "2039                                          --      EIA      EIA          \n",
              "2041                                          --      EIA      EIA          \n",
              "2043                                          --      EIA      EIA          \n",
              "2047                                          --      EIA      EIA          \n",
              "\n",
              "     BIONOXOZ BIOSO2 BIOCO2 BIOCH4 BION2O CHPCHTI CHPCHTIOZ CHPNOX CHPNOXOZ  \\\n",
              "437                                                                           \n",
              "438                                                                           \n",
              "439                                                                           \n",
              "440                                                                           \n",
              "441                                                                           \n",
              "...       ...    ...    ...    ...    ...     ...       ...    ...      ...   \n",
              "2035                                                                          \n",
              "2039                                                                          \n",
              "2041                                                                          \n",
              "2043                                                                          \n",
              "2047                                                                          \n",
              "\n",
              "     CHPSO2 CHPCO2 CHPCH4 CHPN2O PLHTRT PLGENACL PLGENAOL PLGENAGS PLGENANC  \\\n",
              "437                                            0        0        0        0   \n",
              "438                                            0        0        0        0   \n",
              "439                                            0        0        0        0   \n",
              "440                                            0        0        0        0   \n",
              "441                                            0        0        0        0   \n",
              "...     ...    ...    ...    ...    ...      ...      ...      ...      ...   \n",
              "2035                                           0        0        0        0   \n",
              "2039                                           0        0        0        0   \n",
              "2041                                           0        0        0        0   \n",
              "2043                                           0        0        0        0   \n",
              "2047                                           0        0        0        0   \n",
              "\n",
              "     PLGENAHY PLGENABM PLGENAWI PLGENASO PLGENAGT PLGENAOF PLGENAOP PLGENATN  \\\n",
              "437         0        0        0  1508.76        0        0        0        0   \n",
              "438         0        0        0     5932        0        0        0        0   \n",
              "439         0        0        0     2840        0        0        0        0   \n",
              "440         0        0        0     3737        0        0        0        0   \n",
              "441         0        0        0     2474        0        0        0        0   \n",
              "...       ...      ...      ...      ...      ...      ...      ...      ...   \n",
              "2035        0        0        0     5563        0        0        0        0   \n",
              "2039        0        0        0    35763        0        0        0        0   \n",
              "2041        0        0        0   502631        0        0        0        0   \n",
              "2043        0        0        0     2881        0        0        0        0   \n",
              "2047        0        0        0     1298        0        0        0        0   \n",
              "\n",
              "     PLGENATR PLGENATH PLGENACY PLGENACN PLCLPR PLOLPR PLGSPR PLNCPR PLHYPR  \\\n",
              "437   1508.76  1508.76        0  1508.76      0      0      0      0      0   \n",
              "438      5932     5932        0     5932      0      0      0      0      0   \n",
              "439      2840     2840        0     2840      0      0      0      0      0   \n",
              "440      3737     3737        0     3737      0      0      0      0      0   \n",
              "441      2474     2474        0     2474      0      0      0      0      0   \n",
              "...       ...      ...      ...      ...    ...    ...    ...    ...    ...   \n",
              "2035     5563     5563        0     5563      0      0      0      0      0   \n",
              "2039    35763    35763        0    35763      0      0      0      0      0   \n",
              "2041   502631   502631        0   502631      0      0      0      0      0   \n",
              "2043     2881     2881        0     2881      0      0      0      0      0   \n",
              "2047     1298     1298        0     1298      0      0      0      0      0   \n",
              "\n",
              "     PLBMPR PLWIPR PLSOPR PLGTPR PLOFPR PLOPPR PLTNPR PLTRPR PLTHPR PLCYPR  \\\n",
              "437       0      0      1      0      0      0      0      1      1      0   \n",
              "438       0      0      1      0      0      0      0      1      1      0   \n",
              "439       0      0      1      0      0      0      0      1      1      0   \n",
              "440       0      0      1      0      0      0      0      1      1      0   \n",
              "441       0      0      1      0      0      0      0      1      1      0   \n",
              "...     ...    ...    ...    ...    ...    ...    ...    ...    ...    ...   \n",
              "2035      0      0      1      0      0      0      0      1      1      0   \n",
              "2039      0      0      1      0      0      0      0      1      1      0   \n",
              "2041      0      0      1      0      0      0      0      1      1      0   \n",
              "2043      0      0      1      0      0      0      0      1      1      0   \n",
              "2047      0      0      1      0      0      0      0      1      1      0   \n",
              "\n",
              "     PLCNPR  \n",
              "437       1  \n",
              "438       1  \n",
              "439       1  \n",
              "440       1  \n",
              "441       1  \n",
              "...     ...  \n",
              "2035      1  \n",
              "2039      1  \n",
              "2041      1  \n",
              "2043      1  \n",
              "2047      1  \n",
              "\n",
              "[709 rows x 141 columns]"
            ],
            "text/html": [
              "\n",
              "  <div id=\"df-970afab4-878b-4279-b18e-ccbf11ca2769\" class=\"colab-df-container\">\n",
              "    <div>\n",
              "<style scoped>\n",
              "    .dataframe tbody tr th:only-of-type {\n",
              "        vertical-align: middle;\n",
              "    }\n",
              "\n",
              "    .dataframe tbody tr th {\n",
              "        vertical-align: top;\n",
              "    }\n",
              "\n",
              "    .dataframe thead th {\n",
              "        text-align: right;\n",
              "    }\n",
              "</style>\n",
              "<table border=\"1\" class=\"dataframe\">\n",
              "  <thead>\n",
              "    <tr style=\"text-align: right;\">\n",
              "      <th></th>\n",
              "      <th>SEQPLT</th>\n",
              "      <th>YEAR</th>\n",
              "      <th>PSTATABB</th>\n",
              "      <th>PNAME</th>\n",
              "      <th>ORISPL</th>\n",
              "      <th>OPRNAME</th>\n",
              "      <th>OPRCODE</th>\n",
              "      <th>UTLSRVNM</th>\n",
              "      <th>UTLSRVID</th>\n",
              "      <th>SECTOR</th>\n",
              "      <th>BANAME</th>\n",
              "      <th>BACODE</th>\n",
              "      <th>NERC</th>\n",
              "      <th>SUBRGN</th>\n",
              "      <th>SRNAME</th>\n",
              "      <th>ISORTO</th>\n",
              "      <th>FIPSST</th>\n",
              "      <th>FIPSCNTY</th>\n",
              "      <th>CNTYNAME</th>\n",
              "      <th>LAT</th>\n",
              "      <th>LON</th>\n",
              "      <th>CAMDFLAG</th>\n",
              "      <th>NUMUNT</th>\n",
              "      <th>NUMGEN</th>\n",
              "      <th>PLPRMFL</th>\n",
              "      <th>PLFUELCT</th>\n",
              "      <th>COALFLAG</th>\n",
              "      <th>CAPFAC</th>\n",
              "      <th>NAMEPCAP</th>\n",
              "      <th>NBFACTOR</th>\n",
              "      <th>RMBMFLAG</th>\n",
              "      <th>CHPFLAG</th>\n",
              "      <th>USETHRMO</th>\n",
              "      <th>PWRTOHT</th>\n",
              "      <th>ELCALLOC</th>\n",
              "      <th>PSFLAG</th>\n",
              "      <th>PLHTIAN</th>\n",
              "      <th>PLHTIOZ</th>\n",
              "      <th>PLHTIANT</th>\n",
              "      <th>PLHTIOZT</th>\n",
              "      <th>PLNGENAN</th>\n",
              "      <th>PLNGENOZ</th>\n",
              "      <th>PLNOXAN</th>\n",
              "      <th>PLNOXOZ</th>\n",
              "      <th>PLSO2AN</th>\n",
              "      <th>PLCO2AN</th>\n",
              "      <th>PLCH4AN</th>\n",
              "      <th>PLN2OAN</th>\n",
              "      <th>PLCO2EQA</th>\n",
              "      <th>PLHGAN</th>\n",
              "      <th>PLNOXRTA</th>\n",
              "      <th>PLNOXRTO</th>\n",
              "      <th>PLSO2RTA</th>\n",
              "      <th>PLCO2RTA</th>\n",
              "      <th>PLCH4RTA</th>\n",
              "      <th>PLN2ORTA</th>\n",
              "      <th>PLC2ERTA</th>\n",
              "      <th>PLHGRTA</th>\n",
              "      <th>PLNOXRA</th>\n",
              "      <th>PLNOXRO</th>\n",
              "      <th>PLSO2RA</th>\n",
              "      <th>PLCO2RA</th>\n",
              "      <th>PLCH4RA</th>\n",
              "      <th>PLN2ORA</th>\n",
              "      <th>PLC2ERA</th>\n",
              "      <th>PLHGRA</th>\n",
              "      <th>PLNOXCRT</th>\n",
              "      <th>PLNOXCRO</th>\n",
              "      <th>PLSO2CRT</th>\n",
              "      <th>PLCO2CRT</th>\n",
              "      <th>PLCH4CRT</th>\n",
              "      <th>PLN2OCRT</th>\n",
              "      <th>PLC2ECRT</th>\n",
              "      <th>PLHGCRT</th>\n",
              "      <th>UNNOX</th>\n",
              "      <th>UNNOXOZ</th>\n",
              "      <th>UNSO2</th>\n",
              "      <th>UNCO2</th>\n",
              "      <th>UNCH4</th>\n",
              "      <th>UNN2O</th>\n",
              "      <th>UNHG</th>\n",
              "      <th>UNHTI</th>\n",
              "      <th>UNHTIOZ</th>\n",
              "      <th>UNHTIT</th>\n",
              "      <th>UNHTIOZT</th>\n",
              "      <th>UNNOXSRC</th>\n",
              "      <th>UNNOZSRC</th>\n",
              "      <th>UNSO2SRC</th>\n",
              "      <th>UNCO2SRC</th>\n",
              "      <th>UNCH4SRC</th>\n",
              "      <th>UNN2OSRC</th>\n",
              "      <th>UNHGSRC</th>\n",
              "      <th>UNHTISRC</th>\n",
              "      <th>UNHOZSRC</th>\n",
              "      <th>BIONOX</th>\n",
              "      <th>BIONOXOZ</th>\n",
              "      <th>BIOSO2</th>\n",
              "      <th>BIOCO2</th>\n",
              "      <th>BIOCH4</th>\n",
              "      <th>BION2O</th>\n",
              "      <th>CHPCHTI</th>\n",
              "      <th>CHPCHTIOZ</th>\n",
              "      <th>CHPNOX</th>\n",
              "      <th>CHPNOXOZ</th>\n",
              "      <th>CHPSO2</th>\n",
              "      <th>CHPCO2</th>\n",
              "      <th>CHPCH4</th>\n",
              "      <th>CHPN2O</th>\n",
              "      <th>PLHTRT</th>\n",
              "      <th>PLGENACL</th>\n",
              "      <th>PLGENAOL</th>\n",
              "      <th>PLGENAGS</th>\n",
              "      <th>PLGENANC</th>\n",
              "      <th>PLGENAHY</th>\n",
              "      <th>PLGENABM</th>\n",
              "      <th>PLGENAWI</th>\n",
              "      <th>PLGENASO</th>\n",
              "      <th>PLGENAGT</th>\n",
              "      <th>PLGENAOF</th>\n",
              "      <th>PLGENAOP</th>\n",
              "      <th>PLGENATN</th>\n",
              "      <th>PLGENATR</th>\n",
              "      <th>PLGENATH</th>\n",
              "      <th>PLGENACY</th>\n",
              "      <th>PLGENACN</th>\n",
              "      <th>PLCLPR</th>\n",
              "      <th>PLOLPR</th>\n",
              "      <th>PLGSPR</th>\n",
              "      <th>PLNCPR</th>\n",
              "      <th>PLHYPR</th>\n",
              "      <th>PLBMPR</th>\n",
              "      <th>PLWIPR</th>\n",
              "      <th>PLSOPR</th>\n",
              "      <th>PLGTPR</th>\n",
              "      <th>PLOFPR</th>\n",
              "      <th>PLOPPR</th>\n",
              "      <th>PLTNPR</th>\n",
              "      <th>PLTRPR</th>\n",
              "      <th>PLTHPR</th>\n",
              "      <th>PLCYPR</th>\n",
              "      <th>PLCNPR</th>\n",
              "    </tr>\n",
              "  </thead>\n",
              "  <tbody>\n",
              "    <tr>\n",
              "      <th>437</th>\n",
              "      <td>438</td>\n",
              "      <td>2021</td>\n",
              "      <td>CA</td>\n",
              "      <td>1420 Coil Av #C</td>\n",
              "      <td>57310</td>\n",
              "      <td>Los Angeles Department of Water &amp; Power</td>\n",
              "      <td>11208</td>\n",
              "      <td>Konoike Pacific</td>\n",
              "      <td>57320</td>\n",
              "      <td>Commercial Non-CHP</td>\n",
              "      <td>Los Angeles Department of Water and Power</td>\n",
              "      <td>LDWP</td>\n",
              "      <td>WECC</td>\n",
              "      <td>CAMX</td>\n",
              "      <td>WECC California</td>\n",
              "      <td></td>\n",
              "      <td>6</td>\n",
              "      <td>037</td>\n",
              "      <td>Los Angeles</td>\n",
              "      <td>33.794283</td>\n",
              "      <td>-118.241405</td>\n",
              "      <td></td>\n",
              "      <td>1</td>\n",
              "      <td>1</td>\n",
              "      <td>SUN</td>\n",
              "      <td>SOLAR</td>\n",
              "      <td></td>\n",
              "      <td>0.13251</td>\n",
              "      <td>1.3</td>\n",
              "      <td></td>\n",
              "      <td></td>\n",
              "      <td></td>\n",
              "      <td></td>\n",
              "      <td></td>\n",
              "      <td></td>\n",
              "      <td></td>\n",
              "      <td></td>\n",
              "      <td></td>\n",
              "      <td>13341</td>\n",
              "      <td>6988</td>\n",
              "      <td>1509</td>\n",
              "      <td>790</td>\n",
              "      <td></td>\n",
              "      <td></td>\n",
              "      <td></td>\n",
              "      <td></td>\n",
              "      <td></td>\n",
              "      <td></td>\n",
              "      <td></td>\n",
              "      <td></td>\n",
              "      <td></td>\n",
              "      <td></td>\n",
              "      <td></td>\n",
              "      <td></td>\n",
              "      <td></td>\n",
              "      <td></td>\n",
              "      <td></td>\n",
              "      <td></td>\n",
              "      <td></td>\n",
              "      <td></td>\n",
              "      <td></td>\n",
              "      <td></td>\n",
              "      <td></td>\n",
              "      <td></td>\n",
              "      <td></td>\n",
              "      <td></td>\n",
              "      <td></td>\n",
              "      <td></td>\n",
              "      <td></td>\n",
              "      <td></td>\n",
              "      <td></td>\n",
              "      <td></td>\n",
              "      <td></td>\n",
              "      <td></td>\n",
              "      <td></td>\n",
              "      <td></td>\n",
              "      <td></td>\n",
              "      <td></td>\n",
              "      <td></td>\n",
              "      <td></td>\n",
              "      <td></td>\n",
              "      <td></td>\n",
              "      <td></td>\n",
              "      <td>13341</td>\n",
              "      <td>6988</td>\n",
              "      <td></td>\n",
              "      <td></td>\n",
              "      <td></td>\n",
              "      <td></td>\n",
              "      <td></td>\n",
              "      <td></td>\n",
              "      <td>--</td>\n",
              "      <td>EIA</td>\n",
              "      <td>EIA</td>\n",
              "      <td></td>\n",
              "      <td></td>\n",
              "      <td></td>\n",
              "      <td></td>\n",
              "      <td></td>\n",
              "      <td></td>\n",
              "      <td></td>\n",
              "      <td></td>\n",
              "      <td></td>\n",
              "      <td></td>\n",
              "      <td></td>\n",
              "      <td></td>\n",
              "      <td></td>\n",
              "      <td></td>\n",
              "      <td></td>\n",
              "      <td>0</td>\n",
              "      <td>0</td>\n",
              "      <td>0</td>\n",
              "      <td>0</td>\n",
              "      <td>0</td>\n",
              "      <td>0</td>\n",
              "      <td>0</td>\n",
              "      <td>1508.76</td>\n",
              "      <td>0</td>\n",
              "      <td>0</td>\n",
              "      <td>0</td>\n",
              "      <td>0</td>\n",
              "      <td>1508.76</td>\n",
              "      <td>1508.76</td>\n",
              "      <td>0</td>\n",
              "      <td>1508.76</td>\n",
              "      <td>0</td>\n",
              "      <td>0</td>\n",
              "      <td>0</td>\n",
              "      <td>0</td>\n",
              "      <td>0</td>\n",
              "      <td>0</td>\n",
              "      <td>0</td>\n",
              "      <td>1</td>\n",
              "      <td>0</td>\n",
              "      <td>0</td>\n",
              "      <td>0</td>\n",
              "      <td>0</td>\n",
              "      <td>1</td>\n",
              "      <td>1</td>\n",
              "      <td>0</td>\n",
              "      <td>1</td>\n",
              "    </tr>\n",
              "    <tr>\n",
              "      <th>438</th>\n",
              "      <td>439</td>\n",
              "      <td>2021</td>\n",
              "      <td>CA</td>\n",
              "      <td>20333 Normandie PV, LLC</td>\n",
              "      <td>65331</td>\n",
              "      <td>Los Angeles Department of Water &amp; Power</td>\n",
              "      <td>11208</td>\n",
              "      <td>20333 Normandie PV, LLC</td>\n",
              "      <td>64639</td>\n",
              "      <td>IPP Non-CHP</td>\n",
              "      <td>Los Angeles Department of Water and Power</td>\n",
              "      <td>LDWP</td>\n",
              "      <td>WECC</td>\n",
              "      <td>CAMX</td>\n",
              "      <td>WECC California</td>\n",
              "      <td></td>\n",
              "      <td>6</td>\n",
              "      <td>037</td>\n",
              "      <td>Los Angeles</td>\n",
              "      <td>33.846140</td>\n",
              "      <td>-118.300190</td>\n",
              "      <td></td>\n",
              "      <td>1</td>\n",
              "      <td>1</td>\n",
              "      <td>SUN</td>\n",
              "      <td>SOLAR</td>\n",
              "      <td></td>\n",
              "      <td>0.26045</td>\n",
              "      <td>2.6</td>\n",
              "      <td></td>\n",
              "      <td></td>\n",
              "      <td></td>\n",
              "      <td></td>\n",
              "      <td></td>\n",
              "      <td></td>\n",
              "      <td></td>\n",
              "      <td></td>\n",
              "      <td></td>\n",
              "      <td>52457</td>\n",
              "      <td>0</td>\n",
              "      <td>5932</td>\n",
              "      <td>0</td>\n",
              "      <td></td>\n",
              "      <td></td>\n",
              "      <td></td>\n",
              "      <td></td>\n",
              "      <td></td>\n",
              "      <td></td>\n",
              "      <td></td>\n",
              "      <td></td>\n",
              "      <td></td>\n",
              "      <td></td>\n",
              "      <td></td>\n",
              "      <td></td>\n",
              "      <td></td>\n",
              "      <td></td>\n",
              "      <td></td>\n",
              "      <td></td>\n",
              "      <td></td>\n",
              "      <td></td>\n",
              "      <td></td>\n",
              "      <td></td>\n",
              "      <td></td>\n",
              "      <td></td>\n",
              "      <td></td>\n",
              "      <td></td>\n",
              "      <td></td>\n",
              "      <td></td>\n",
              "      <td></td>\n",
              "      <td></td>\n",
              "      <td></td>\n",
              "      <td></td>\n",
              "      <td></td>\n",
              "      <td></td>\n",
              "      <td></td>\n",
              "      <td></td>\n",
              "      <td></td>\n",
              "      <td></td>\n",
              "      <td></td>\n",
              "      <td></td>\n",
              "      <td></td>\n",
              "      <td></td>\n",
              "      <td></td>\n",
              "      <td>52457</td>\n",
              "      <td>0</td>\n",
              "      <td></td>\n",
              "      <td></td>\n",
              "      <td></td>\n",
              "      <td></td>\n",
              "      <td></td>\n",
              "      <td></td>\n",
              "      <td>--</td>\n",
              "      <td>EIA</td>\n",
              "      <td>EIA</td>\n",
              "      <td></td>\n",
              "      <td></td>\n",
              "      <td></td>\n",
              "      <td></td>\n",
              "      <td></td>\n",
              "      <td></td>\n",
              "      <td></td>\n",
              "      <td></td>\n",
              "      <td></td>\n",
              "      <td></td>\n",
              "      <td></td>\n",
              "      <td></td>\n",
              "      <td></td>\n",
              "      <td></td>\n",
              "      <td></td>\n",
              "      <td>0</td>\n",
              "      <td>0</td>\n",
              "      <td>0</td>\n",
              "      <td>0</td>\n",
              "      <td>0</td>\n",
              "      <td>0</td>\n",
              "      <td>0</td>\n",
              "      <td>5932</td>\n",
              "      <td>0</td>\n",
              "      <td>0</td>\n",
              "      <td>0</td>\n",
              "      <td>0</td>\n",
              "      <td>5932</td>\n",
              "      <td>5932</td>\n",
              "      <td>0</td>\n",
              "      <td>5932</td>\n",
              "      <td>0</td>\n",
              "      <td>0</td>\n",
              "      <td>0</td>\n",
              "      <td>0</td>\n",
              "      <td>0</td>\n",
              "      <td>0</td>\n",
              "      <td>0</td>\n",
              "      <td>1</td>\n",
              "      <td>0</td>\n",
              "      <td>0</td>\n",
              "      <td>0</td>\n",
              "      <td>0</td>\n",
              "      <td>1</td>\n",
              "      <td>1</td>\n",
              "      <td>0</td>\n",
              "      <td>1</td>\n",
              "    </tr>\n",
              "    <tr>\n",
              "      <th>439</th>\n",
              "      <td>440</td>\n",
              "      <td>2021</td>\n",
              "      <td>CA</td>\n",
              "      <td>2081 Terzian Solar Project</td>\n",
              "      <td>58918</td>\n",
              "      <td>Pacific Gas &amp; Electric Co</td>\n",
              "      <td>14328</td>\n",
              "      <td>Solarenewal LLC</td>\n",
              "      <td>61315</td>\n",
              "      <td>IPP Non-CHP</td>\n",
              "      <td>California Independent System Operator</td>\n",
              "      <td>CISO</td>\n",
              "      <td>WECC</td>\n",
              "      <td>CAMX</td>\n",
              "      <td>WECC California</td>\n",
              "      <td>CAISO</td>\n",
              "      <td>6</td>\n",
              "      <td>019</td>\n",
              "      <td>Fresno</td>\n",
              "      <td>36.670000</td>\n",
              "      <td>-119.415833</td>\n",
              "      <td></td>\n",
              "      <td>1</td>\n",
              "      <td>1</td>\n",
              "      <td>SUN</td>\n",
              "      <td>SOLAR</td>\n",
              "      <td></td>\n",
              "      <td>0.27017</td>\n",
              "      <td>1.2</td>\n",
              "      <td></td>\n",
              "      <td></td>\n",
              "      <td></td>\n",
              "      <td></td>\n",
              "      <td></td>\n",
              "      <td></td>\n",
              "      <td></td>\n",
              "      <td></td>\n",
              "      <td></td>\n",
              "      <td>25115</td>\n",
              "      <td>13155</td>\n",
              "      <td>2840</td>\n",
              "      <td>1488</td>\n",
              "      <td></td>\n",
              "      <td></td>\n",
              "      <td></td>\n",
              "      <td></td>\n",
              "      <td></td>\n",
              "      <td></td>\n",
              "      <td></td>\n",
              "      <td></td>\n",
              "      <td></td>\n",
              "      <td></td>\n",
              "      <td></td>\n",
              "      <td></td>\n",
              "      <td></td>\n",
              "      <td></td>\n",
              "      <td></td>\n",
              "      <td></td>\n",
              "      <td></td>\n",
              "      <td></td>\n",
              "      <td></td>\n",
              "      <td></td>\n",
              "      <td></td>\n",
              "      <td></td>\n",
              "      <td></td>\n",
              "      <td></td>\n",
              "      <td></td>\n",
              "      <td></td>\n",
              "      <td></td>\n",
              "      <td></td>\n",
              "      <td></td>\n",
              "      <td></td>\n",
              "      <td></td>\n",
              "      <td></td>\n",
              "      <td></td>\n",
              "      <td></td>\n",
              "      <td></td>\n",
              "      <td></td>\n",
              "      <td></td>\n",
              "      <td></td>\n",
              "      <td></td>\n",
              "      <td></td>\n",
              "      <td></td>\n",
              "      <td>25115</td>\n",
              "      <td>13155</td>\n",
              "      <td></td>\n",
              "      <td></td>\n",
              "      <td></td>\n",
              "      <td></td>\n",
              "      <td></td>\n",
              "      <td></td>\n",
              "      <td>--</td>\n",
              "      <td>EIA</td>\n",
              "      <td>EIA</td>\n",
              "      <td></td>\n",
              "      <td></td>\n",
              "      <td></td>\n",
              "      <td></td>\n",
              "      <td></td>\n",
              "      <td></td>\n",
              "      <td></td>\n",
              "      <td></td>\n",
              "      <td></td>\n",
              "      <td></td>\n",
              "      <td></td>\n",
              "      <td></td>\n",
              "      <td></td>\n",
              "      <td></td>\n",
              "      <td></td>\n",
              "      <td>0</td>\n",
              "      <td>0</td>\n",
              "      <td>0</td>\n",
              "      <td>0</td>\n",
              "      <td>0</td>\n",
              "      <td>0</td>\n",
              "      <td>0</td>\n",
              "      <td>2840</td>\n",
              "      <td>0</td>\n",
              "      <td>0</td>\n",
              "      <td>0</td>\n",
              "      <td>0</td>\n",
              "      <td>2840</td>\n",
              "      <td>2840</td>\n",
              "      <td>0</td>\n",
              "      <td>2840</td>\n",
              "      <td>0</td>\n",
              "      <td>0</td>\n",
              "      <td>0</td>\n",
              "      <td>0</td>\n",
              "      <td>0</td>\n",
              "      <td>0</td>\n",
              "      <td>0</td>\n",
              "      <td>1</td>\n",
              "      <td>0</td>\n",
              "      <td>0</td>\n",
              "      <td>0</td>\n",
              "      <td>0</td>\n",
              "      <td>1</td>\n",
              "      <td>1</td>\n",
              "      <td>0</td>\n",
              "      <td>1</td>\n",
              "    </tr>\n",
              "    <tr>\n",
              "      <th>440</th>\n",
              "      <td>441</td>\n",
              "      <td>2021</td>\n",
              "      <td>CA</td>\n",
              "      <td>2097 Helton Solar Project</td>\n",
              "      <td>58920</td>\n",
              "      <td>Pacific Gas &amp; Electric Co</td>\n",
              "      <td>14328</td>\n",
              "      <td>Solarenewal LLC</td>\n",
              "      <td>61315</td>\n",
              "      <td>IPP Non-CHP</td>\n",
              "      <td>California Independent System Operator</td>\n",
              "      <td>CISO</td>\n",
              "      <td>WECC</td>\n",
              "      <td>CAMX</td>\n",
              "      <td>WECC California</td>\n",
              "      <td>CAISO</td>\n",
              "      <td>6</td>\n",
              "      <td>047</td>\n",
              "      <td>Merced</td>\n",
              "      <td>37.352222</td>\n",
              "      <td>-120.506944</td>\n",
              "      <td></td>\n",
              "      <td>1</td>\n",
              "      <td>1</td>\n",
              "      <td>SUN</td>\n",
              "      <td>SOLAR</td>\n",
              "      <td></td>\n",
              "      <td>0.2844</td>\n",
              "      <td>1.5</td>\n",
              "      <td></td>\n",
              "      <td></td>\n",
              "      <td></td>\n",
              "      <td></td>\n",
              "      <td></td>\n",
              "      <td></td>\n",
              "      <td></td>\n",
              "      <td></td>\n",
              "      <td></td>\n",
              "      <td>33045</td>\n",
              "      <td>17308</td>\n",
              "      <td>3737</td>\n",
              "      <td>1957</td>\n",
              "      <td></td>\n",
              "      <td></td>\n",
              "      <td></td>\n",
              "      <td></td>\n",
              "      <td></td>\n",
              "      <td></td>\n",
              "      <td></td>\n",
              "      <td></td>\n",
              "      <td></td>\n",
              "      <td></td>\n",
              "      <td></td>\n",
              "      <td></td>\n",
              "      <td></td>\n",
              "      <td></td>\n",
              "      <td></td>\n",
              "      <td></td>\n",
              "      <td></td>\n",
              "      <td></td>\n",
              "      <td></td>\n",
              "      <td></td>\n",
              "      <td></td>\n",
              "      <td></td>\n",
              "      <td></td>\n",
              "      <td></td>\n",
              "      <td></td>\n",
              "      <td></td>\n",
              "      <td></td>\n",
              "      <td></td>\n",
              "      <td></td>\n",
              "      <td></td>\n",
              "      <td></td>\n",
              "      <td></td>\n",
              "      <td></td>\n",
              "      <td></td>\n",
              "      <td></td>\n",
              "      <td></td>\n",
              "      <td></td>\n",
              "      <td></td>\n",
              "      <td></td>\n",
              "      <td></td>\n",
              "      <td></td>\n",
              "      <td>33045</td>\n",
              "      <td>17308</td>\n",
              "      <td></td>\n",
              "      <td></td>\n",
              "      <td></td>\n",
              "      <td></td>\n",
              "      <td></td>\n",
              "      <td></td>\n",
              "      <td>--</td>\n",
              "      <td>EIA</td>\n",
              "      <td>EIA</td>\n",
              "      <td></td>\n",
              "      <td></td>\n",
              "      <td></td>\n",
              "      <td></td>\n",
              "      <td></td>\n",
              "      <td></td>\n",
              "      <td></td>\n",
              "      <td></td>\n",
              "      <td></td>\n",
              "      <td></td>\n",
              "      <td></td>\n",
              "      <td></td>\n",
              "      <td></td>\n",
              "      <td></td>\n",
              "      <td></td>\n",
              "      <td>0</td>\n",
              "      <td>0</td>\n",
              "      <td>0</td>\n",
              "      <td>0</td>\n",
              "      <td>0</td>\n",
              "      <td>0</td>\n",
              "      <td>0</td>\n",
              "      <td>3737</td>\n",
              "      <td>0</td>\n",
              "      <td>0</td>\n",
              "      <td>0</td>\n",
              "      <td>0</td>\n",
              "      <td>3737</td>\n",
              "      <td>3737</td>\n",
              "      <td>0</td>\n",
              "      <td>3737</td>\n",
              "      <td>0</td>\n",
              "      <td>0</td>\n",
              "      <td>0</td>\n",
              "      <td>0</td>\n",
              "      <td>0</td>\n",
              "      <td>0</td>\n",
              "      <td>0</td>\n",
              "      <td>1</td>\n",
              "      <td>0</td>\n",
              "      <td>0</td>\n",
              "      <td>0</td>\n",
              "      <td>0</td>\n",
              "      <td>1</td>\n",
              "      <td>1</td>\n",
              "      <td>0</td>\n",
              "      <td>1</td>\n",
              "    </tr>\n",
              "    <tr>\n",
              "      <th>441</th>\n",
              "      <td>442</td>\n",
              "      <td>2021</td>\n",
              "      <td>CA</td>\n",
              "      <td>2127 Harris Solar Project</td>\n",
              "      <td>58919</td>\n",
              "      <td>Pacific Gas &amp; Electric Co</td>\n",
              "      <td>14328</td>\n",
              "      <td>Solarenewal LLC</td>\n",
              "      <td>61315</td>\n",
              "      <td>IPP Non-CHP</td>\n",
              "      <td>California Independent System Operator</td>\n",
              "      <td>CISO</td>\n",
              "      <td>WECC</td>\n",
              "      <td>CAMX</td>\n",
              "      <td>WECC California</td>\n",
              "      <td>CAISO</td>\n",
              "      <td>6</td>\n",
              "      <td>007</td>\n",
              "      <td>Butte</td>\n",
              "      <td>39.291667</td>\n",
              "      <td>-121.669722</td>\n",
              "      <td></td>\n",
              "      <td>1</td>\n",
              "      <td>1</td>\n",
              "      <td>SUN</td>\n",
              "      <td>SOLAR</td>\n",
              "      <td></td>\n",
              "      <td>0.21725</td>\n",
              "      <td>1.3</td>\n",
              "      <td></td>\n",
              "      <td></td>\n",
              "      <td></td>\n",
              "      <td></td>\n",
              "      <td></td>\n",
              "      <td></td>\n",
              "      <td></td>\n",
              "      <td></td>\n",
              "      <td></td>\n",
              "      <td>21877</td>\n",
              "      <td>11460</td>\n",
              "      <td>2474</td>\n",
              "      <td>1296</td>\n",
              "      <td></td>\n",
              "      <td></td>\n",
              "      <td></td>\n",
              "      <td></td>\n",
              "      <td></td>\n",
              "      <td></td>\n",
              "      <td></td>\n",
              "      <td></td>\n",
              "      <td></td>\n",
              "      <td></td>\n",
              "      <td></td>\n",
              "      <td></td>\n",
              "      <td></td>\n",
              "      <td></td>\n",
              "      <td></td>\n",
              "      <td></td>\n",
              "      <td></td>\n",
              "      <td></td>\n",
              "      <td></td>\n",
              "      <td></td>\n",
              "      <td></td>\n",
              "      <td></td>\n",
              "      <td></td>\n",
              "      <td></td>\n",
              "      <td></td>\n",
              "      <td></td>\n",
              "      <td></td>\n",
              "      <td></td>\n",
              "      <td></td>\n",
              "      <td></td>\n",
              "      <td></td>\n",
              "      <td></td>\n",
              "      <td></td>\n",
              "      <td></td>\n",
              "      <td></td>\n",
              "      <td></td>\n",
              "      <td></td>\n",
              "      <td></td>\n",
              "      <td></td>\n",
              "      <td></td>\n",
              "      <td></td>\n",
              "      <td>21877</td>\n",
              "      <td>11460</td>\n",
              "      <td></td>\n",
              "      <td></td>\n",
              "      <td></td>\n",
              "      <td></td>\n",
              "      <td></td>\n",
              "      <td></td>\n",
              "      <td>--</td>\n",
              "      <td>EIA</td>\n",
              "      <td>EIA</td>\n",
              "      <td></td>\n",
              "      <td></td>\n",
              "      <td></td>\n",
              "      <td></td>\n",
              "      <td></td>\n",
              "      <td></td>\n",
              "      <td></td>\n",
              "      <td></td>\n",
              "      <td></td>\n",
              "      <td></td>\n",
              "      <td></td>\n",
              "      <td></td>\n",
              "      <td></td>\n",
              "      <td></td>\n",
              "      <td></td>\n",
              "      <td>0</td>\n",
              "      <td>0</td>\n",
              "      <td>0</td>\n",
              "      <td>0</td>\n",
              "      <td>0</td>\n",
              "      <td>0</td>\n",
              "      <td>0</td>\n",
              "      <td>2474</td>\n",
              "      <td>0</td>\n",
              "      <td>0</td>\n",
              "      <td>0</td>\n",
              "      <td>0</td>\n",
              "      <td>2474</td>\n",
              "      <td>2474</td>\n",
              "      <td>0</td>\n",
              "      <td>2474</td>\n",
              "      <td>0</td>\n",
              "      <td>0</td>\n",
              "      <td>0</td>\n",
              "      <td>0</td>\n",
              "      <td>0</td>\n",
              "      <td>0</td>\n",
              "      <td>0</td>\n",
              "      <td>1</td>\n",
              "      <td>0</td>\n",
              "      <td>0</td>\n",
              "      <td>0</td>\n",
              "      <td>0</td>\n",
              "      <td>1</td>\n",
              "      <td>1</td>\n",
              "      <td>0</td>\n",
              "      <td>1</td>\n",
              "    </tr>\n",
              "    <tr>\n",
              "      <th>...</th>\n",
              "      <td>...</td>\n",
              "      <td>...</td>\n",
              "      <td>...</td>\n",
              "      <td>...</td>\n",
              "      <td>...</td>\n",
              "      <td>...</td>\n",
              "      <td>...</td>\n",
              "      <td>...</td>\n",
              "      <td>...</td>\n",
              "      <td>...</td>\n",
              "      <td>...</td>\n",
              "      <td>...</td>\n",
              "      <td>...</td>\n",
              "      <td>...</td>\n",
              "      <td>...</td>\n",
              "      <td>...</td>\n",
              "      <td>...</td>\n",
              "      <td>...</td>\n",
              "      <td>...</td>\n",
              "      <td>...</td>\n",
              "      <td>...</td>\n",
              "      <td>...</td>\n",
              "      <td>...</td>\n",
              "      <td>...</td>\n",
              "      <td>...</td>\n",
              "      <td>...</td>\n",
              "      <td>...</td>\n",
              "      <td>...</td>\n",
              "      <td>...</td>\n",
              "      <td>...</td>\n",
              "      <td>...</td>\n",
              "      <td>...</td>\n",
              "      <td>...</td>\n",
              "      <td>...</td>\n",
              "      <td>...</td>\n",
              "      <td>...</td>\n",
              "      <td>...</td>\n",
              "      <td>...</td>\n",
              "      <td>...</td>\n",
              "      <td>...</td>\n",
              "      <td>...</td>\n",
              "      <td>...</td>\n",
              "      <td>...</td>\n",
              "      <td>...</td>\n",
              "      <td>...</td>\n",
              "      <td>...</td>\n",
              "      <td>...</td>\n",
              "      <td>...</td>\n",
              "      <td>...</td>\n",
              "      <td>...</td>\n",
              "      <td>...</td>\n",
              "      <td>...</td>\n",
              "      <td>...</td>\n",
              "      <td>...</td>\n",
              "      <td>...</td>\n",
              "      <td>...</td>\n",
              "      <td>...</td>\n",
              "      <td>...</td>\n",
              "      <td>...</td>\n",
              "      <td>...</td>\n",
              "      <td>...</td>\n",
              "      <td>...</td>\n",
              "      <td>...</td>\n",
              "      <td>...</td>\n",
              "      <td>...</td>\n",
              "      <td>...</td>\n",
              "      <td>...</td>\n",
              "      <td>...</td>\n",
              "      <td>...</td>\n",
              "      <td>...</td>\n",
              "      <td>...</td>\n",
              "      <td>...</td>\n",
              "      <td>...</td>\n",
              "      <td>...</td>\n",
              "      <td>...</td>\n",
              "      <td>...</td>\n",
              "      <td>...</td>\n",
              "      <td>...</td>\n",
              "      <td>...</td>\n",
              "      <td>...</td>\n",
              "      <td>...</td>\n",
              "      <td>...</td>\n",
              "      <td>...</td>\n",
              "      <td>...</td>\n",
              "      <td>...</td>\n",
              "      <td>...</td>\n",
              "      <td>...</td>\n",
              "      <td>...</td>\n",
              "      <td>...</td>\n",
              "      <td>...</td>\n",
              "      <td>...</td>\n",
              "      <td>...</td>\n",
              "      <td>...</td>\n",
              "      <td>...</td>\n",
              "      <td>...</td>\n",
              "      <td>...</td>\n",
              "      <td>...</td>\n",
              "      <td>...</td>\n",
              "      <td>...</td>\n",
              "      <td>...</td>\n",
              "      <td>...</td>\n",
              "      <td>...</td>\n",
              "      <td>...</td>\n",
              "      <td>...</td>\n",
              "      <td>...</td>\n",
              "      <td>...</td>\n",
              "      <td>...</td>\n",
              "      <td>...</td>\n",
              "      <td>...</td>\n",
              "      <td>...</td>\n",
              "      <td>...</td>\n",
              "      <td>...</td>\n",
              "      <td>...</td>\n",
              "      <td>...</td>\n",
              "      <td>...</td>\n",
              "      <td>...</td>\n",
              "      <td>...</td>\n",
              "      <td>...</td>\n",
              "      <td>...</td>\n",
              "      <td>...</td>\n",
              "      <td>...</td>\n",
              "      <td>...</td>\n",
              "      <td>...</td>\n",
              "      <td>...</td>\n",
              "      <td>...</td>\n",
              "      <td>...</td>\n",
              "      <td>...</td>\n",
              "      <td>...</td>\n",
              "      <td>...</td>\n",
              "      <td>...</td>\n",
              "      <td>...</td>\n",
              "      <td>...</td>\n",
              "      <td>...</td>\n",
              "      <td>...</td>\n",
              "      <td>...</td>\n",
              "      <td>...</td>\n",
              "      <td>...</td>\n",
              "      <td>...</td>\n",
              "      <td>...</td>\n",
              "      <td>...</td>\n",
              "      <td>...</td>\n",
              "    </tr>\n",
              "    <tr>\n",
              "      <th>2035</th>\n",
              "      <td>2036</td>\n",
              "      <td>2021</td>\n",
              "      <td>CA</td>\n",
              "      <td>Wonderful Orchards - Westside</td>\n",
              "      <td>64220</td>\n",
              "      <td>Pacific Gas &amp; Electric Co.</td>\n",
              "      <td>14328</td>\n",
              "      <td>Wonderful Renewable Energy, LLC.</td>\n",
              "      <td>63689</td>\n",
              "      <td>Industrial Non-CHP</td>\n",
              "      <td>California Independent System Operator</td>\n",
              "      <td>CISO</td>\n",
              "      <td>WECC</td>\n",
              "      <td>CAMX</td>\n",
              "      <td>WECC California</td>\n",
              "      <td>CAISO</td>\n",
              "      <td>6</td>\n",
              "      <td>029</td>\n",
              "      <td>Kern</td>\n",
              "      <td>35.732770</td>\n",
              "      <td>-119.745230</td>\n",
              "      <td></td>\n",
              "      <td>1</td>\n",
              "      <td>1</td>\n",
              "      <td>SUN</td>\n",
              "      <td>SOLAR</td>\n",
              "      <td></td>\n",
              "      <td>0.12701</td>\n",
              "      <td>5.0</td>\n",
              "      <td></td>\n",
              "      <td></td>\n",
              "      <td></td>\n",
              "      <td></td>\n",
              "      <td></td>\n",
              "      <td></td>\n",
              "      <td></td>\n",
              "      <td></td>\n",
              "      <td></td>\n",
              "      <td>49193</td>\n",
              "      <td>25870</td>\n",
              "      <td>5563</td>\n",
              "      <td>2926</td>\n",
              "      <td></td>\n",
              "      <td></td>\n",
              "      <td></td>\n",
              "      <td></td>\n",
              "      <td></td>\n",
              "      <td></td>\n",
              "      <td></td>\n",
              "      <td></td>\n",
              "      <td></td>\n",
              "      <td></td>\n",
              "      <td></td>\n",
              "      <td></td>\n",
              "      <td></td>\n",
              "      <td></td>\n",
              "      <td></td>\n",
              "      <td></td>\n",
              "      <td></td>\n",
              "      <td></td>\n",
              "      <td></td>\n",
              "      <td></td>\n",
              "      <td></td>\n",
              "      <td></td>\n",
              "      <td></td>\n",
              "      <td></td>\n",
              "      <td></td>\n",
              "      <td></td>\n",
              "      <td></td>\n",
              "      <td></td>\n",
              "      <td></td>\n",
              "      <td></td>\n",
              "      <td></td>\n",
              "      <td></td>\n",
              "      <td></td>\n",
              "      <td></td>\n",
              "      <td></td>\n",
              "      <td></td>\n",
              "      <td></td>\n",
              "      <td></td>\n",
              "      <td></td>\n",
              "      <td></td>\n",
              "      <td></td>\n",
              "      <td>49193</td>\n",
              "      <td>25870</td>\n",
              "      <td></td>\n",
              "      <td></td>\n",
              "      <td></td>\n",
              "      <td></td>\n",
              "      <td></td>\n",
              "      <td></td>\n",
              "      <td>--</td>\n",
              "      <td>EIA</td>\n",
              "      <td>EIA</td>\n",
              "      <td></td>\n",
              "      <td></td>\n",
              "      <td></td>\n",
              "      <td></td>\n",
              "      <td></td>\n",
              "      <td></td>\n",
              "      <td></td>\n",
              "      <td></td>\n",
              "      <td></td>\n",
              "      <td></td>\n",
              "      <td></td>\n",
              "      <td></td>\n",
              "      <td></td>\n",
              "      <td></td>\n",
              "      <td></td>\n",
              "      <td>0</td>\n",
              "      <td>0</td>\n",
              "      <td>0</td>\n",
              "      <td>0</td>\n",
              "      <td>0</td>\n",
              "      <td>0</td>\n",
              "      <td>0</td>\n",
              "      <td>5563</td>\n",
              "      <td>0</td>\n",
              "      <td>0</td>\n",
              "      <td>0</td>\n",
              "      <td>0</td>\n",
              "      <td>5563</td>\n",
              "      <td>5563</td>\n",
              "      <td>0</td>\n",
              "      <td>5563</td>\n",
              "      <td>0</td>\n",
              "      <td>0</td>\n",
              "      <td>0</td>\n",
              "      <td>0</td>\n",
              "      <td>0</td>\n",
              "      <td>0</td>\n",
              "      <td>0</td>\n",
              "      <td>1</td>\n",
              "      <td>0</td>\n",
              "      <td>0</td>\n",
              "      <td>0</td>\n",
              "      <td>0</td>\n",
              "      <td>1</td>\n",
              "      <td>1</td>\n",
              "      <td>0</td>\n",
              "      <td>1</td>\n",
              "    </tr>\n",
              "    <tr>\n",
              "      <th>2039</th>\n",
              "      <td>2040</td>\n",
              "      <td>2021</td>\n",
              "      <td>CA</td>\n",
              "      <td>Woodmere Solar Farm</td>\n",
              "      <td>59008</td>\n",
              "      <td>Pacific Gas &amp; Electric Co</td>\n",
              "      <td>14328</td>\n",
              "      <td>AES Distributed Energy</td>\n",
              "      <td>61012</td>\n",
              "      <td>IPP Non-CHP</td>\n",
              "      <td>California Independent System Operator</td>\n",
              "      <td>CISO</td>\n",
              "      <td>WECC</td>\n",
              "      <td>CAMX</td>\n",
              "      <td>WECC California</td>\n",
              "      <td>CAISO</td>\n",
              "      <td>6</td>\n",
              "      <td>029</td>\n",
              "      <td>Kern</td>\n",
              "      <td>35.323056</td>\n",
              "      <td>-118.821389</td>\n",
              "      <td></td>\n",
              "      <td>1</td>\n",
              "      <td>1</td>\n",
              "      <td>SUN</td>\n",
              "      <td>SOLAR</td>\n",
              "      <td></td>\n",
              "      <td>0.27217</td>\n",
              "      <td>15.0</td>\n",
              "      <td></td>\n",
              "      <td></td>\n",
              "      <td></td>\n",
              "      <td></td>\n",
              "      <td></td>\n",
              "      <td></td>\n",
              "      <td></td>\n",
              "      <td></td>\n",
              "      <td></td>\n",
              "      <td>316252</td>\n",
              "      <td>165646</td>\n",
              "      <td>35763</td>\n",
              "      <td>18732</td>\n",
              "      <td></td>\n",
              "      <td></td>\n",
              "      <td></td>\n",
              "      <td></td>\n",
              "      <td></td>\n",
              "      <td></td>\n",
              "      <td></td>\n",
              "      <td></td>\n",
              "      <td></td>\n",
              "      <td></td>\n",
              "      <td></td>\n",
              "      <td></td>\n",
              "      <td></td>\n",
              "      <td></td>\n",
              "      <td></td>\n",
              "      <td></td>\n",
              "      <td></td>\n",
              "      <td></td>\n",
              "      <td></td>\n",
              "      <td></td>\n",
              "      <td></td>\n",
              "      <td></td>\n",
              "      <td></td>\n",
              "      <td></td>\n",
              "      <td></td>\n",
              "      <td></td>\n",
              "      <td></td>\n",
              "      <td></td>\n",
              "      <td></td>\n",
              "      <td></td>\n",
              "      <td></td>\n",
              "      <td></td>\n",
              "      <td></td>\n",
              "      <td></td>\n",
              "      <td></td>\n",
              "      <td></td>\n",
              "      <td></td>\n",
              "      <td></td>\n",
              "      <td></td>\n",
              "      <td></td>\n",
              "      <td></td>\n",
              "      <td>316252</td>\n",
              "      <td>165646</td>\n",
              "      <td></td>\n",
              "      <td></td>\n",
              "      <td></td>\n",
              "      <td></td>\n",
              "      <td></td>\n",
              "      <td></td>\n",
              "      <td>--</td>\n",
              "      <td>EIA</td>\n",
              "      <td>EIA</td>\n",
              "      <td></td>\n",
              "      <td></td>\n",
              "      <td></td>\n",
              "      <td></td>\n",
              "      <td></td>\n",
              "      <td></td>\n",
              "      <td></td>\n",
              "      <td></td>\n",
              "      <td></td>\n",
              "      <td></td>\n",
              "      <td></td>\n",
              "      <td></td>\n",
              "      <td></td>\n",
              "      <td></td>\n",
              "      <td></td>\n",
              "      <td>0</td>\n",
              "      <td>0</td>\n",
              "      <td>0</td>\n",
              "      <td>0</td>\n",
              "      <td>0</td>\n",
              "      <td>0</td>\n",
              "      <td>0</td>\n",
              "      <td>35763</td>\n",
              "      <td>0</td>\n",
              "      <td>0</td>\n",
              "      <td>0</td>\n",
              "      <td>0</td>\n",
              "      <td>35763</td>\n",
              "      <td>35763</td>\n",
              "      <td>0</td>\n",
              "      <td>35763</td>\n",
              "      <td>0</td>\n",
              "      <td>0</td>\n",
              "      <td>0</td>\n",
              "      <td>0</td>\n",
              "      <td>0</td>\n",
              "      <td>0</td>\n",
              "      <td>0</td>\n",
              "      <td>1</td>\n",
              "      <td>0</td>\n",
              "      <td>0</td>\n",
              "      <td>0</td>\n",
              "      <td>0</td>\n",
              "      <td>1</td>\n",
              "      <td>1</td>\n",
              "      <td>0</td>\n",
              "      <td>1</td>\n",
              "    </tr>\n",
              "    <tr>\n",
              "      <th>2041</th>\n",
              "      <td>2042</td>\n",
              "      <td>2021</td>\n",
              "      <td>CA</td>\n",
              "      <td>Wright Solar Park</td>\n",
              "      <td>59525</td>\n",
              "      <td>Pacific Gas &amp; Electric Co</td>\n",
              "      <td>14328</td>\n",
              "      <td>Wright Solar Park LLC</td>\n",
              "      <td>59260</td>\n",
              "      <td>IPP Non-CHP</td>\n",
              "      <td>California Independent System Operator</td>\n",
              "      <td>CISO</td>\n",
              "      <td>WECC</td>\n",
              "      <td>CAMX</td>\n",
              "      <td>WECC California</td>\n",
              "      <td>CAISO</td>\n",
              "      <td>6</td>\n",
              "      <td>047</td>\n",
              "      <td>Merced</td>\n",
              "      <td>37.009444</td>\n",
              "      <td>-120.957222</td>\n",
              "      <td></td>\n",
              "      <td>1</td>\n",
              "      <td>1</td>\n",
              "      <td>SUN</td>\n",
              "      <td>SOLAR</td>\n",
              "      <td></td>\n",
              "      <td>0.28689</td>\n",
              "      <td>200.0</td>\n",
              "      <td></td>\n",
              "      <td></td>\n",
              "      <td></td>\n",
              "      <td></td>\n",
              "      <td></td>\n",
              "      <td></td>\n",
              "      <td></td>\n",
              "      <td></td>\n",
              "      <td></td>\n",
              "      <td>4444767</td>\n",
              "      <td>2527701</td>\n",
              "      <td>502631</td>\n",
              "      <td>285842</td>\n",
              "      <td></td>\n",
              "      <td></td>\n",
              "      <td></td>\n",
              "      <td></td>\n",
              "      <td></td>\n",
              "      <td></td>\n",
              "      <td></td>\n",
              "      <td></td>\n",
              "      <td></td>\n",
              "      <td></td>\n",
              "      <td></td>\n",
              "      <td></td>\n",
              "      <td></td>\n",
              "      <td></td>\n",
              "      <td></td>\n",
              "      <td></td>\n",
              "      <td></td>\n",
              "      <td></td>\n",
              "      <td></td>\n",
              "      <td></td>\n",
              "      <td></td>\n",
              "      <td></td>\n",
              "      <td></td>\n",
              "      <td></td>\n",
              "      <td></td>\n",
              "      <td></td>\n",
              "      <td></td>\n",
              "      <td></td>\n",
              "      <td></td>\n",
              "      <td></td>\n",
              "      <td></td>\n",
              "      <td></td>\n",
              "      <td></td>\n",
              "      <td></td>\n",
              "      <td></td>\n",
              "      <td></td>\n",
              "      <td></td>\n",
              "      <td></td>\n",
              "      <td></td>\n",
              "      <td></td>\n",
              "      <td></td>\n",
              "      <td>4444767</td>\n",
              "      <td>2527701</td>\n",
              "      <td></td>\n",
              "      <td></td>\n",
              "      <td></td>\n",
              "      <td></td>\n",
              "      <td></td>\n",
              "      <td></td>\n",
              "      <td>--</td>\n",
              "      <td>EIA</td>\n",
              "      <td>EIA</td>\n",
              "      <td></td>\n",
              "      <td></td>\n",
              "      <td></td>\n",
              "      <td></td>\n",
              "      <td></td>\n",
              "      <td></td>\n",
              "      <td></td>\n",
              "      <td></td>\n",
              "      <td></td>\n",
              "      <td></td>\n",
              "      <td></td>\n",
              "      <td></td>\n",
              "      <td></td>\n",
              "      <td></td>\n",
              "      <td></td>\n",
              "      <td>0</td>\n",
              "      <td>0</td>\n",
              "      <td>0</td>\n",
              "      <td>0</td>\n",
              "      <td>0</td>\n",
              "      <td>0</td>\n",
              "      <td>0</td>\n",
              "      <td>502631</td>\n",
              "      <td>0</td>\n",
              "      <td>0</td>\n",
              "      <td>0</td>\n",
              "      <td>0</td>\n",
              "      <td>502631</td>\n",
              "      <td>502631</td>\n",
              "      <td>0</td>\n",
              "      <td>502631</td>\n",
              "      <td>0</td>\n",
              "      <td>0</td>\n",
              "      <td>0</td>\n",
              "      <td>0</td>\n",
              "      <td>0</td>\n",
              "      <td>0</td>\n",
              "      <td>0</td>\n",
              "      <td>1</td>\n",
              "      <td>0</td>\n",
              "      <td>0</td>\n",
              "      <td>0</td>\n",
              "      <td>0</td>\n",
              "      <td>1</td>\n",
              "      <td>1</td>\n",
              "      <td>0</td>\n",
              "      <td>1</td>\n",
              "    </tr>\n",
              "    <tr>\n",
              "      <th>2043</th>\n",
              "      <td>2044</td>\n",
              "      <td>2021</td>\n",
              "      <td>CA</td>\n",
              "      <td>Xebec 1</td>\n",
              "      <td>62286</td>\n",
              "      <td>Los Angeles Department of Water &amp; Power</td>\n",
              "      <td>11208</td>\n",
              "      <td>AES Distributed Energy</td>\n",
              "      <td>61012</td>\n",
              "      <td>Commercial Non-CHP</td>\n",
              "      <td>Los Angeles Department of Water and Power</td>\n",
              "      <td>LDWP</td>\n",
              "      <td>WECC</td>\n",
              "      <td>CAMX</td>\n",
              "      <td>WECC California</td>\n",
              "      <td></td>\n",
              "      <td>6</td>\n",
              "      <td>037</td>\n",
              "      <td>Los Angeles</td>\n",
              "      <td>34.224041</td>\n",
              "      <td>-118.392921</td>\n",
              "      <td></td>\n",
              "      <td>1</td>\n",
              "      <td>1</td>\n",
              "      <td>SUN</td>\n",
              "      <td>SOLAR</td>\n",
              "      <td></td>\n",
              "      <td>0.1731</td>\n",
              "      <td>1.9</td>\n",
              "      <td></td>\n",
              "      <td></td>\n",
              "      <td></td>\n",
              "      <td></td>\n",
              "      <td></td>\n",
              "      <td></td>\n",
              "      <td></td>\n",
              "      <td></td>\n",
              "      <td></td>\n",
              "      <td>25476</td>\n",
              "      <td>13343</td>\n",
              "      <td>2881</td>\n",
              "      <td>1509</td>\n",
              "      <td></td>\n",
              "      <td></td>\n",
              "      <td></td>\n",
              "      <td></td>\n",
              "      <td></td>\n",
              "      <td></td>\n",
              "      <td></td>\n",
              "      <td></td>\n",
              "      <td></td>\n",
              "      <td></td>\n",
              "      <td></td>\n",
              "      <td></td>\n",
              "      <td></td>\n",
              "      <td></td>\n",
              "      <td></td>\n",
              "      <td></td>\n",
              "      <td></td>\n",
              "      <td></td>\n",
              "      <td></td>\n",
              "      <td></td>\n",
              "      <td></td>\n",
              "      <td></td>\n",
              "      <td></td>\n",
              "      <td></td>\n",
              "      <td></td>\n",
              "      <td></td>\n",
              "      <td></td>\n",
              "      <td></td>\n",
              "      <td></td>\n",
              "      <td></td>\n",
              "      <td></td>\n",
              "      <td></td>\n",
              "      <td></td>\n",
              "      <td></td>\n",
              "      <td></td>\n",
              "      <td></td>\n",
              "      <td></td>\n",
              "      <td></td>\n",
              "      <td></td>\n",
              "      <td></td>\n",
              "      <td></td>\n",
              "      <td>25476</td>\n",
              "      <td>13343</td>\n",
              "      <td></td>\n",
              "      <td></td>\n",
              "      <td></td>\n",
              "      <td></td>\n",
              "      <td></td>\n",
              "      <td></td>\n",
              "      <td>--</td>\n",
              "      <td>EIA</td>\n",
              "      <td>EIA</td>\n",
              "      <td></td>\n",
              "      <td></td>\n",
              "      <td></td>\n",
              "      <td></td>\n",
              "      <td></td>\n",
              "      <td></td>\n",
              "      <td></td>\n",
              "      <td></td>\n",
              "      <td></td>\n",
              "      <td></td>\n",
              "      <td></td>\n",
              "      <td></td>\n",
              "      <td></td>\n",
              "      <td></td>\n",
              "      <td></td>\n",
              "      <td>0</td>\n",
              "      <td>0</td>\n",
              "      <td>0</td>\n",
              "      <td>0</td>\n",
              "      <td>0</td>\n",
              "      <td>0</td>\n",
              "      <td>0</td>\n",
              "      <td>2881</td>\n",
              "      <td>0</td>\n",
              "      <td>0</td>\n",
              "      <td>0</td>\n",
              "      <td>0</td>\n",
              "      <td>2881</td>\n",
              "      <td>2881</td>\n",
              "      <td>0</td>\n",
              "      <td>2881</td>\n",
              "      <td>0</td>\n",
              "      <td>0</td>\n",
              "      <td>0</td>\n",
              "      <td>0</td>\n",
              "      <td>0</td>\n",
              "      <td>0</td>\n",
              "      <td>0</td>\n",
              "      <td>1</td>\n",
              "      <td>0</td>\n",
              "      <td>0</td>\n",
              "      <td>0</td>\n",
              "      <td>0</td>\n",
              "      <td>1</td>\n",
              "      <td>1</td>\n",
              "      <td>0</td>\n",
              "      <td>1</td>\n",
              "    </tr>\n",
              "    <tr>\n",
              "      <th>2047</th>\n",
              "      <td>2048</td>\n",
              "      <td>2021</td>\n",
              "      <td>CA</td>\n",
              "      <td>Yolo County Solar Project</td>\n",
              "      <td>57422</td>\n",
              "      <td>Pacific Gas &amp; Electric Co</td>\n",
              "      <td>14328</td>\n",
              "      <td>Yolo County of</td>\n",
              "      <td>56751</td>\n",
              "      <td>Commercial Non-CHP</td>\n",
              "      <td>California Independent System Operator</td>\n",
              "      <td>CISO</td>\n",
              "      <td>WECC</td>\n",
              "      <td>CAMX</td>\n",
              "      <td>WECC California</td>\n",
              "      <td>CAISO</td>\n",
              "      <td>6</td>\n",
              "      <td>113</td>\n",
              "      <td>Yolo</td>\n",
              "      <td>38.659722</td>\n",
              "      <td>-121.729400</td>\n",
              "      <td></td>\n",
              "      <td>1</td>\n",
              "      <td>1</td>\n",
              "      <td>SUN</td>\n",
              "      <td>SOLAR</td>\n",
              "      <td></td>\n",
              "      <td>0.14817</td>\n",
              "      <td>1.0</td>\n",
              "      <td></td>\n",
              "      <td></td>\n",
              "      <td></td>\n",
              "      <td></td>\n",
              "      <td></td>\n",
              "      <td></td>\n",
              "      <td></td>\n",
              "      <td></td>\n",
              "      <td></td>\n",
              "      <td>11478</td>\n",
              "      <td>6012</td>\n",
              "      <td>1298</td>\n",
              "      <td>680</td>\n",
              "      <td></td>\n",
              "      <td></td>\n",
              "      <td></td>\n",
              "      <td></td>\n",
              "      <td></td>\n",
              "      <td></td>\n",
              "      <td></td>\n",
              "      <td></td>\n",
              "      <td></td>\n",
              "      <td></td>\n",
              "      <td></td>\n",
              "      <td></td>\n",
              "      <td></td>\n",
              "      <td></td>\n",
              "      <td></td>\n",
              "      <td></td>\n",
              "      <td></td>\n",
              "      <td></td>\n",
              "      <td></td>\n",
              "      <td></td>\n",
              "      <td></td>\n",
              "      <td></td>\n",
              "      <td></td>\n",
              "      <td></td>\n",
              "      <td></td>\n",
              "      <td></td>\n",
              "      <td></td>\n",
              "      <td></td>\n",
              "      <td></td>\n",
              "      <td></td>\n",
              "      <td></td>\n",
              "      <td></td>\n",
              "      <td></td>\n",
              "      <td></td>\n",
              "      <td></td>\n",
              "      <td></td>\n",
              "      <td></td>\n",
              "      <td></td>\n",
              "      <td></td>\n",
              "      <td></td>\n",
              "      <td></td>\n",
              "      <td>11478</td>\n",
              "      <td>6012</td>\n",
              "      <td></td>\n",
              "      <td></td>\n",
              "      <td></td>\n",
              "      <td></td>\n",
              "      <td></td>\n",
              "      <td></td>\n",
              "      <td>--</td>\n",
              "      <td>EIA</td>\n",
              "      <td>EIA</td>\n",
              "      <td></td>\n",
              "      <td></td>\n",
              "      <td></td>\n",
              "      <td></td>\n",
              "      <td></td>\n",
              "      <td></td>\n",
              "      <td></td>\n",
              "      <td></td>\n",
              "      <td></td>\n",
              "      <td></td>\n",
              "      <td></td>\n",
              "      <td></td>\n",
              "      <td></td>\n",
              "      <td></td>\n",
              "      <td></td>\n",
              "      <td>0</td>\n",
              "      <td>0</td>\n",
              "      <td>0</td>\n",
              "      <td>0</td>\n",
              "      <td>0</td>\n",
              "      <td>0</td>\n",
              "      <td>0</td>\n",
              "      <td>1298</td>\n",
              "      <td>0</td>\n",
              "      <td>0</td>\n",
              "      <td>0</td>\n",
              "      <td>0</td>\n",
              "      <td>1298</td>\n",
              "      <td>1298</td>\n",
              "      <td>0</td>\n",
              "      <td>1298</td>\n",
              "      <td>0</td>\n",
              "      <td>0</td>\n",
              "      <td>0</td>\n",
              "      <td>0</td>\n",
              "      <td>0</td>\n",
              "      <td>0</td>\n",
              "      <td>0</td>\n",
              "      <td>1</td>\n",
              "      <td>0</td>\n",
              "      <td>0</td>\n",
              "      <td>0</td>\n",
              "      <td>0</td>\n",
              "      <td>1</td>\n",
              "      <td>1</td>\n",
              "      <td>0</td>\n",
              "      <td>1</td>\n",
              "    </tr>\n",
              "  </tbody>\n",
              "</table>\n",
              "<p>709 rows × 141 columns</p>\n",
              "</div>\n",
              "    <div class=\"colab-df-buttons\">\n",
              "\n",
              "  <div class=\"colab-df-container\">\n",
              "    <button class=\"colab-df-convert\" onclick=\"convertToInteractive('df-970afab4-878b-4279-b18e-ccbf11ca2769')\"\n",
              "            title=\"Convert this dataframe to an interactive table.\"\n",
              "            style=\"display:none;\">\n",
              "\n",
              "  <svg xmlns=\"http://www.w3.org/2000/svg\" height=\"24px\" viewBox=\"0 -960 960 960\">\n",
              "    <path d=\"M120-120v-720h720v720H120Zm60-500h600v-160H180v160Zm220 220h160v-160H400v160Zm0 220h160v-160H400v160ZM180-400h160v-160H180v160Zm440 0h160v-160H620v160ZM180-180h160v-160H180v160Zm440 0h160v-160H620v160Z\"/>\n",
              "  </svg>\n",
              "    </button>\n",
              "\n",
              "  <style>\n",
              "    .colab-df-container {\n",
              "      display:flex;\n",
              "      gap: 12px;\n",
              "    }\n",
              "\n",
              "    .colab-df-convert {\n",
              "      background-color: #E8F0FE;\n",
              "      border: none;\n",
              "      border-radius: 50%;\n",
              "      cursor: pointer;\n",
              "      display: none;\n",
              "      fill: #1967D2;\n",
              "      height: 32px;\n",
              "      padding: 0 0 0 0;\n",
              "      width: 32px;\n",
              "    }\n",
              "\n",
              "    .colab-df-convert:hover {\n",
              "      background-color: #E2EBFA;\n",
              "      box-shadow: 0px 1px 2px rgba(60, 64, 67, 0.3), 0px 1px 3px 1px rgba(60, 64, 67, 0.15);\n",
              "      fill: #174EA6;\n",
              "    }\n",
              "\n",
              "    .colab-df-buttons div {\n",
              "      margin-bottom: 4px;\n",
              "    }\n",
              "\n",
              "    [theme=dark] .colab-df-convert {\n",
              "      background-color: #3B4455;\n",
              "      fill: #D2E3FC;\n",
              "    }\n",
              "\n",
              "    [theme=dark] .colab-df-convert:hover {\n",
              "      background-color: #434B5C;\n",
              "      box-shadow: 0px 1px 3px 1px rgba(0, 0, 0, 0.15);\n",
              "      filter: drop-shadow(0px 1px 2px rgba(0, 0, 0, 0.3));\n",
              "      fill: #FFFFFF;\n",
              "    }\n",
              "  </style>\n",
              "\n",
              "    <script>\n",
              "      const buttonEl =\n",
              "        document.querySelector('#df-970afab4-878b-4279-b18e-ccbf11ca2769 button.colab-df-convert');\n",
              "      buttonEl.style.display =\n",
              "        google.colab.kernel.accessAllowed ? 'block' : 'none';\n",
              "\n",
              "      async function convertToInteractive(key) {\n",
              "        const element = document.querySelector('#df-970afab4-878b-4279-b18e-ccbf11ca2769');\n",
              "        const dataTable =\n",
              "          await google.colab.kernel.invokeFunction('convertToInteractive',\n",
              "                                                    [key], {});\n",
              "        if (!dataTable) return;\n",
              "\n",
              "        const docLinkHtml = 'Like what you see? Visit the ' +\n",
              "          '<a target=\"_blank\" href=https://colab.research.google.com/notebooks/data_table.ipynb>data table notebook</a>'\n",
              "          + ' to learn more about interactive tables.';\n",
              "        element.innerHTML = '';\n",
              "        dataTable['output_type'] = 'display_data';\n",
              "        await google.colab.output.renderOutput(dataTable, element);\n",
              "        const docLink = document.createElement('div');\n",
              "        docLink.innerHTML = docLinkHtml;\n",
              "        element.appendChild(docLink);\n",
              "      }\n",
              "    </script>\n",
              "  </div>\n",
              "\n",
              "\n",
              "<div id=\"df-32ba8c6a-6e63-4d5c-a84f-bf46fd8764d4\">\n",
              "  <button class=\"colab-df-quickchart\" onclick=\"quickchart('df-32ba8c6a-6e63-4d5c-a84f-bf46fd8764d4')\"\n",
              "            title=\"Suggest charts.\"\n",
              "            style=\"display:none;\">\n",
              "\n",
              "<svg xmlns=\"http://www.w3.org/2000/svg\" height=\"24px\"viewBox=\"0 0 24 24\"\n",
              "     width=\"24px\">\n",
              "    <g>\n",
              "        <path d=\"M19 3H5c-1.1 0-2 .9-2 2v14c0 1.1.9 2 2 2h14c1.1 0 2-.9 2-2V5c0-1.1-.9-2-2-2zM9 17H7v-7h2v7zm4 0h-2V7h2v10zm4 0h-2v-4h2v4z\"/>\n",
              "    </g>\n",
              "</svg>\n",
              "  </button>\n",
              "\n",
              "<style>\n",
              "  .colab-df-quickchart {\n",
              "      --bg-color: #E8F0FE;\n",
              "      --fill-color: #1967D2;\n",
              "      --hover-bg-color: #E2EBFA;\n",
              "      --hover-fill-color: #174EA6;\n",
              "      --disabled-fill-color: #AAA;\n",
              "      --disabled-bg-color: #DDD;\n",
              "  }\n",
              "\n",
              "  [theme=dark] .colab-df-quickchart {\n",
              "      --bg-color: #3B4455;\n",
              "      --fill-color: #D2E3FC;\n",
              "      --hover-bg-color: #434B5C;\n",
              "      --hover-fill-color: #FFFFFF;\n",
              "      --disabled-bg-color: #3B4455;\n",
              "      --disabled-fill-color: #666;\n",
              "  }\n",
              "\n",
              "  .colab-df-quickchart {\n",
              "    background-color: var(--bg-color);\n",
              "    border: none;\n",
              "    border-radius: 50%;\n",
              "    cursor: pointer;\n",
              "    display: none;\n",
              "    fill: var(--fill-color);\n",
              "    height: 32px;\n",
              "    padding: 0;\n",
              "    width: 32px;\n",
              "  }\n",
              "\n",
              "  .colab-df-quickchart:hover {\n",
              "    background-color: var(--hover-bg-color);\n",
              "    box-shadow: 0 1px 2px rgba(60, 64, 67, 0.3), 0 1px 3px 1px rgba(60, 64, 67, 0.15);\n",
              "    fill: var(--button-hover-fill-color);\n",
              "  }\n",
              "\n",
              "  .colab-df-quickchart-complete:disabled,\n",
              "  .colab-df-quickchart-complete:disabled:hover {\n",
              "    background-color: var(--disabled-bg-color);\n",
              "    fill: var(--disabled-fill-color);\n",
              "    box-shadow: none;\n",
              "  }\n",
              "\n",
              "  .colab-df-spinner {\n",
              "    border: 2px solid var(--fill-color);\n",
              "    border-color: transparent;\n",
              "    border-bottom-color: var(--fill-color);\n",
              "    animation:\n",
              "      spin 1s steps(1) infinite;\n",
              "  }\n",
              "\n",
              "  @keyframes spin {\n",
              "    0% {\n",
              "      border-color: transparent;\n",
              "      border-bottom-color: var(--fill-color);\n",
              "      border-left-color: var(--fill-color);\n",
              "    }\n",
              "    20% {\n",
              "      border-color: transparent;\n",
              "      border-left-color: var(--fill-color);\n",
              "      border-top-color: var(--fill-color);\n",
              "    }\n",
              "    30% {\n",
              "      border-color: transparent;\n",
              "      border-left-color: var(--fill-color);\n",
              "      border-top-color: var(--fill-color);\n",
              "      border-right-color: var(--fill-color);\n",
              "    }\n",
              "    40% {\n",
              "      border-color: transparent;\n",
              "      border-right-color: var(--fill-color);\n",
              "      border-top-color: var(--fill-color);\n",
              "    }\n",
              "    60% {\n",
              "      border-color: transparent;\n",
              "      border-right-color: var(--fill-color);\n",
              "    }\n",
              "    80% {\n",
              "      border-color: transparent;\n",
              "      border-right-color: var(--fill-color);\n",
              "      border-bottom-color: var(--fill-color);\n",
              "    }\n",
              "    90% {\n",
              "      border-color: transparent;\n",
              "      border-bottom-color: var(--fill-color);\n",
              "    }\n",
              "  }\n",
              "</style>\n",
              "\n",
              "  <script>\n",
              "    async function quickchart(key) {\n",
              "      const quickchartButtonEl =\n",
              "        document.querySelector('#' + key + ' button');\n",
              "      quickchartButtonEl.disabled = true;  // To prevent multiple clicks.\n",
              "      quickchartButtonEl.classList.add('colab-df-spinner');\n",
              "      try {\n",
              "        const charts = await google.colab.kernel.invokeFunction(\n",
              "            'suggestCharts', [key], {});\n",
              "      } catch (error) {\n",
              "        console.error('Error during call to suggestCharts:', error);\n",
              "      }\n",
              "      quickchartButtonEl.classList.remove('colab-df-spinner');\n",
              "      quickchartButtonEl.classList.add('colab-df-quickchart-complete');\n",
              "    }\n",
              "    (() => {\n",
              "      let quickchartButtonEl =\n",
              "        document.querySelector('#df-32ba8c6a-6e63-4d5c-a84f-bf46fd8764d4 button');\n",
              "      quickchartButtonEl.style.display =\n",
              "        google.colab.kernel.accessAllowed ? 'block' : 'none';\n",
              "    })();\n",
              "  </script>\n",
              "</div>\n",
              "    </div>\n",
              "  </div>\n"
            ]
          },
          "metadata": {},
          "execution_count": 107
        }
      ]
    },
    {
      "cell_type": "markdown",
      "source": [
        "1-b"
      ],
      "metadata": {
        "id": "lWSq1BzQnX0Z"
      }
    },
    {
      "cell_type": "code",
      "source": [
        "Total_capacity=df_solar21_CA.NAMEPCAP.sum()"
      ],
      "metadata": {
        "id": "XFo4MtcVdsEk"
      },
      "execution_count": 118,
      "outputs": []
    },
    {
      "cell_type": "code",
      "source": [
        "Total_capacity"
      ],
      "metadata": {
        "colab": {
          "base_uri": "https://localhost:8080/"
        },
        "id": "baDff9lgg6Zv",
        "outputId": "c0a19c79-a28a-4101-b8a0-adfe154742d4"
      },
      "execution_count": 119,
      "outputs": [
        {
          "output_type": "execute_result",
          "data": {
            "text/plain": [
              "16321.200000000003"
            ]
          },
          "metadata": {},
          "execution_count": 119
        }
      ]
    },
    {
      "cell_type": "markdown",
      "source": [
        "1-c\n"
      ],
      "metadata": {
        "id": "Ps37ADKNnauK"
      }
    },
    {
      "cell_type": "code",
      "source": [
        "Average_capacity=df_solar21_CA.NAMEPCAP.mean()"
      ],
      "metadata": {
        "id": "SD7hibqZaGfK"
      },
      "execution_count": 122,
      "outputs": []
    },
    {
      "cell_type": "code",
      "source": [
        "Average_capacity"
      ],
      "metadata": {
        "colab": {
          "base_uri": "https://localhost:8080/"
        },
        "id": "bdkPKnAxiYVr",
        "outputId": "d5501b53-0658-4b2e-ffbf-cadb0a31d6c8"
      },
      "execution_count": 123,
      "outputs": [
        {
          "output_type": "execute_result",
          "data": {
            "text/plain": [
              "23.020028208744716"
            ]
          },
          "metadata": {},
          "execution_count": 123
        }
      ]
    },
    {
      "cell_type": "markdown",
      "source": [
        "1-d"
      ],
      "metadata": {
        "id": "_LgdFrCnnc1X"
      }
    },
    {
      "cell_type": "code",
      "source": [
        "df_gen21=pd.read_excel(io=\"eGRID2021_data.xlsx\",sheet_name=\"GEN21\")"
      ],
      "metadata": {
        "id": "Sz2hHPw7mFAs"
      },
      "execution_count": 143,
      "outputs": []
    },
    {
      "cell_type": "code",
      "source": [
        "df_gen21=pd.read_excel(io=\"eGRID2021_data.xlsx\",sheet_name=\"GEN21\",skiprows=1,keep_default_na=False)"
      ],
      "metadata": {
        "id": "vCVcCmz8qQQJ"
      },
      "execution_count": 157,
      "outputs": []
    },
    {
      "cell_type": "code",
      "source": [
        "pd.set_option('display.max_column',None)"
      ],
      "metadata": {
        "id": "QGO5J5Opn5Al"
      },
      "execution_count": 158,
      "outputs": []
    },
    {
      "cell_type": "code",
      "source": [
        "df_gen21.dtypes"
      ],
      "metadata": {
        "colab": {
          "base_uri": "https://localhost:8080/"
        },
        "id": "BIRJzlc2n90B",
        "outputId": "81fe4214-e826-4b7a-a603-5c4eedd149a4"
      },
      "execution_count": 159,
      "outputs": [
        {
          "output_type": "execute_result",
          "data": {
            "text/plain": [
              "SEQGEN        int64\n",
              "YEAR          int64\n",
              "PSTATABB     object\n",
              "PNAME        object\n",
              "ORISPL        int64\n",
              "GENID        object\n",
              "NUMBLR       object\n",
              "GENSTAT      object\n",
              "PRMVR        object\n",
              "FUELG1       object\n",
              "NAMEPCAP    float64\n",
              "CFACT        object\n",
              "GENNTAN      object\n",
              "GENNTOZ      object\n",
              "GENERSRC     object\n",
              "GENYRONL     object\n",
              "GENYRRET     object\n",
              "dtype: object"
            ]
          },
          "metadata": {},
          "execution_count": 159
        }
      ]
    },
    {
      "cell_type": "code",
      "source": [
        "df_gen21.columns"
      ],
      "metadata": {
        "colab": {
          "base_uri": "https://localhost:8080/"
        },
        "id": "qLZq9noMoK0g",
        "outputId": "665bf9cc-6da7-4e94-e628-6594240d1cb8"
      },
      "execution_count": 160,
      "outputs": [
        {
          "output_type": "execute_result",
          "data": {
            "text/plain": [
              "Index(['SEQGEN', 'YEAR', 'PSTATABB', 'PNAME', 'ORISPL', 'GENID', 'NUMBLR',\n",
              "       'GENSTAT', 'PRMVR', 'FUELG1', 'NAMEPCAP', 'CFACT', 'GENNTAN', 'GENNTOZ',\n",
              "       'GENERSRC', 'GENYRONL', 'GENYRRET'],\n",
              "      dtype='object')"
            ]
          },
          "metadata": {},
          "execution_count": 160
        }
      ]
    },
    {
      "cell_type": "code",
      "source": [
        "list(df_gen21.columns.values)"
      ],
      "metadata": {
        "colab": {
          "base_uri": "https://localhost:8080/"
        },
        "id": "Kq6eD4ecoRzg",
        "outputId": "b4625e5b-0e8d-418a-f94c-a4f43baab174"
      },
      "execution_count": 161,
      "outputs": [
        {
          "output_type": "execute_result",
          "data": {
            "text/plain": [
              "['SEQGEN',\n",
              " 'YEAR',\n",
              " 'PSTATABB',\n",
              " 'PNAME',\n",
              " 'ORISPL',\n",
              " 'GENID',\n",
              " 'NUMBLR',\n",
              " 'GENSTAT',\n",
              " 'PRMVR',\n",
              " 'FUELG1',\n",
              " 'NAMEPCAP',\n",
              " 'CFACT',\n",
              " 'GENNTAN',\n",
              " 'GENNTOZ',\n",
              " 'GENERSRC',\n",
              " 'GENYRONL',\n",
              " 'GENYRRET']"
            ]
          },
          "metadata": {},
          "execution_count": 161
        }
      ]
    },
    {
      "cell_type": "code",
      "source": [
        "df_gen21.GENNTAN=pd.to_numeric(df_gen21.GENNTAN)"
      ],
      "metadata": {
        "id": "eFzcHk0gs8ri"
      },
      "execution_count": 182,
      "outputs": []
    },
    {
      "cell_type": "code",
      "source": [
        "n_df_gen21=df_gen21[['PSTATABB','PRMVR','GENNTAN']]"
      ],
      "metadata": {
        "id": "N2vhIwiepFlZ"
      },
      "execution_count": 192,
      "outputs": []
    },
    {
      "cell_type": "code",
      "source": [
        "df_pv21=df_gen21[(df_gen21.PRMVR==\"PV\")]"
      ],
      "metadata": {
        "id": "k-jPt7n_nduO"
      },
      "execution_count": 193,
      "outputs": []
    },
    {
      "cell_type": "code",
      "source": [
        "df_pv21_CA=df_pv21[(df_pv21.PSTATABB==\"CA\")]"
      ],
      "metadata": {
        "id": "DZIB8C9ev-_g"
      },
      "execution_count": 202,
      "outputs": []
    },
    {
      "cell_type": "code",
      "source": [
        "US_Generation=df_pv21.GENNTAN.sum()"
      ],
      "metadata": {
        "id": "qTFP7Mc_m780"
      },
      "execution_count": 196,
      "outputs": []
    },
    {
      "cell_type": "code",
      "source": [
        "US_Generation"
      ],
      "metadata": {
        "colab": {
          "base_uri": "https://localhost:8080/"
        },
        "id": "AseW8HubvAli",
        "outputId": "1daba455-fa2d-4f52-f6da-20909a8969cb"
      },
      "execution_count": 197,
      "outputs": [
        {
          "output_type": "execute_result",
          "data": {
            "text/plain": [
              "112060765.452"
            ]
          },
          "metadata": {},
          "execution_count": 197
        }
      ]
    },
    {
      "cell_type": "code",
      "source": [
        "CA_Generation=df_pv21_CA.GENNTAN.sum()"
      ],
      "metadata": {
        "id": "o_ir1pczwZf7"
      },
      "execution_count": 203,
      "outputs": []
    },
    {
      "cell_type": "code",
      "source": [
        "CA_Generation"
      ],
      "metadata": {
        "colab": {
          "base_uri": "https://localhost:8080/"
        },
        "id": "7hm4BG1MwliC",
        "outputId": "49b97bd6-eb9e-433e-a478-fae06b575a1f"
      },
      "execution_count": 204,
      "outputs": [
        {
          "output_type": "execute_result",
          "data": {
            "text/plain": [
              "32822516.008"
            ]
          },
          "metadata": {},
          "execution_count": 204
        }
      ]
    },
    {
      "cell_type": "code",
      "source": [
        "Percentage_CA=CA_Generation/US_Generation*100"
      ],
      "metadata": {
        "id": "6ajqdlfRvKJk"
      },
      "execution_count": 206,
      "outputs": []
    },
    {
      "cell_type": "code",
      "source": [
        "Percentage_CA"
      ],
      "metadata": {
        "colab": {
          "base_uri": "https://localhost:8080/"
        },
        "id": "0OrPplOpwr57",
        "outputId": "8ecaa9da-7be1-446b-b72d-e492acc1f7c6"
      },
      "execution_count": 209,
      "outputs": [
        {
          "output_type": "execute_result",
          "data": {
            "text/plain": [
              "29.28992665328452"
            ]
          },
          "metadata": {},
          "execution_count": 209
        }
      ]
    },
    {
      "cell_type": "code",
      "source": [
        "print(\"The solar PV production that was generated in CA accounts for\",Percentage_CA,\"% in total U.S. production\")"
      ],
      "metadata": {
        "colab": {
          "base_uri": "https://localhost:8080/"
        },
        "id": "XfqTzMOSbL05",
        "outputId": "3a6616da-2934-4e99-a0e7-337dc2163174"
      },
      "execution_count": 210,
      "outputs": [
        {
          "output_type": "stream",
          "name": "stdout",
          "text": [
            "The solar PV production that was generated in CA accounts for 29.28992665328452 % in total U.S. production\n"
          ]
        }
      ]
    },
    {
      "cell_type": "markdown",
      "source": [
        "Question 2 BACODE\n",
        "\n"
      ],
      "metadata": {
        "id": "tu1LGWkaghzN"
      }
    },
    {
      "cell_type": "code",
      "source": [
        "df_plant21=pd.read_excel(io=\"eGRID2021_data.xlsx\",sheet_name=\"PLNT21\")"
      ],
      "metadata": {
        "id": "REQjdHZhghK2"
      },
      "execution_count": 15,
      "outputs": []
    },
    {
      "cell_type": "code",
      "source": [
        "df_plant21=pd.read_excel(io=\"eGRID2021_data.xlsx\",sheet_name=\"PLNT21\",skiprows=1,keep_default_na=False)"
      ],
      "metadata": {
        "id": "4LH8Tayw6giY"
      },
      "execution_count": 16,
      "outputs": []
    },
    {
      "cell_type": "code",
      "source": [
        "df_plant21.CAPFAC=pd.to_numeric(df_plant21.CAPFAC)"
      ],
      "metadata": {
        "id": "T6vlzmk2YQdJ"
      },
      "execution_count": 86,
      "outputs": []
    },
    {
      "cell_type": "code",
      "source": [
        "df_plant21.CAPFAC.dtype"
      ],
      "metadata": {
        "colab": {
          "base_uri": "https://localhost:8080/"
        },
        "id": "e5fQvHRwYZdq",
        "outputId": "d9818321-038e-4402-fc0c-b37d7fb171c4"
      },
      "execution_count": 87,
      "outputs": [
        {
          "output_type": "execute_result",
          "data": {
            "text/plain": [
              "dtype('float64')"
            ]
          },
          "metadata": {},
          "execution_count": 87
        }
      ]
    },
    {
      "cell_type": "code",
      "source": [
        "pd.set_option('display.max_column',None)"
      ],
      "metadata": {
        "id": "deULEFPRD03-"
      },
      "execution_count": 17,
      "outputs": []
    },
    {
      "cell_type": "code",
      "source": [
        "df_plant21.dtypes"
      ],
      "metadata": {
        "colab": {
          "base_uri": "https://localhost:8080/"
        },
        "id": "MLAAam4hD5AD",
        "outputId": "e35a6f28-248e-4ef5-8e26-80ab463c578c"
      },
      "execution_count": 18,
      "outputs": [
        {
          "output_type": "execute_result",
          "data": {
            "text/plain": [
              "SEQPLT       int64\n",
              "YEAR         int64\n",
              "PSTATABB    object\n",
              "PNAME       object\n",
              "ORISPL       int64\n",
              "             ...  \n",
              "PLTNPR      object\n",
              "PLTRPR      object\n",
              "PLTHPR      object\n",
              "PLCYPR      object\n",
              "PLCNPR      object\n",
              "Length: 141, dtype: object"
            ]
          },
          "metadata": {},
          "execution_count": 18
        }
      ]
    },
    {
      "cell_type": "code",
      "source": [
        "df_plant21.columns"
      ],
      "metadata": {
        "colab": {
          "base_uri": "https://localhost:8080/"
        },
        "id": "_zBBfK2vD-1l",
        "outputId": "363b05c9-a08b-4210-dc3c-116edbcaf5c9"
      },
      "execution_count": 19,
      "outputs": [
        {
          "output_type": "execute_result",
          "data": {
            "text/plain": [
              "Index(['SEQPLT', 'YEAR', 'PSTATABB', 'PNAME', 'ORISPL', 'OPRNAME', 'OPRCODE',\n",
              "       'UTLSRVNM', 'UTLSRVID', 'SECTOR',\n",
              "       ...\n",
              "       'PLWIPR', 'PLSOPR', 'PLGTPR', 'PLOFPR', 'PLOPPR', 'PLTNPR', 'PLTRPR',\n",
              "       'PLTHPR', 'PLCYPR', 'PLCNPR'],\n",
              "      dtype='object', length=141)"
            ]
          },
          "metadata": {},
          "execution_count": 19
        }
      ]
    },
    {
      "cell_type": "code",
      "source": [
        "list(df_plant21.columns.values)"
      ],
      "metadata": {
        "colab": {
          "base_uri": "https://localhost:8080/"
        },
        "id": "iKBzdKXmECJ4",
        "outputId": "f9d7f21d-49e6-42d4-bb7a-fadaa813f422"
      },
      "execution_count": 20,
      "outputs": [
        {
          "output_type": "execute_result",
          "data": {
            "text/plain": [
              "['SEQPLT',\n",
              " 'YEAR',\n",
              " 'PSTATABB',\n",
              " 'PNAME',\n",
              " 'ORISPL',\n",
              " 'OPRNAME',\n",
              " 'OPRCODE',\n",
              " 'UTLSRVNM',\n",
              " 'UTLSRVID',\n",
              " 'SECTOR',\n",
              " 'BANAME',\n",
              " 'BACODE',\n",
              " 'NERC',\n",
              " 'SUBRGN',\n",
              " 'SRNAME',\n",
              " 'ISORTO',\n",
              " 'FIPSST',\n",
              " 'FIPSCNTY',\n",
              " 'CNTYNAME',\n",
              " 'LAT',\n",
              " 'LON',\n",
              " 'CAMDFLAG',\n",
              " 'NUMUNT',\n",
              " 'NUMGEN',\n",
              " 'PLPRMFL',\n",
              " 'PLFUELCT',\n",
              " 'COALFLAG',\n",
              " 'CAPFAC',\n",
              " 'NAMEPCAP',\n",
              " 'NBFACTOR',\n",
              " 'RMBMFLAG',\n",
              " 'CHPFLAG',\n",
              " 'USETHRMO',\n",
              " 'PWRTOHT',\n",
              " 'ELCALLOC',\n",
              " 'PSFLAG',\n",
              " 'PLHTIAN',\n",
              " 'PLHTIOZ',\n",
              " 'PLHTIANT',\n",
              " 'PLHTIOZT',\n",
              " 'PLNGENAN',\n",
              " 'PLNGENOZ',\n",
              " 'PLNOXAN',\n",
              " 'PLNOXOZ',\n",
              " 'PLSO2AN',\n",
              " 'PLCO2AN',\n",
              " 'PLCH4AN',\n",
              " 'PLN2OAN',\n",
              " 'PLCO2EQA',\n",
              " 'PLHGAN',\n",
              " 'PLNOXRTA',\n",
              " 'PLNOXRTO',\n",
              " 'PLSO2RTA',\n",
              " 'PLCO2RTA',\n",
              " 'PLCH4RTA',\n",
              " 'PLN2ORTA',\n",
              " 'PLC2ERTA',\n",
              " 'PLHGRTA',\n",
              " 'PLNOXRA',\n",
              " 'PLNOXRO',\n",
              " 'PLSO2RA',\n",
              " 'PLCO2RA',\n",
              " 'PLCH4RA',\n",
              " 'PLN2ORA',\n",
              " 'PLC2ERA',\n",
              " 'PLHGRA',\n",
              " 'PLNOXCRT',\n",
              " 'PLNOXCRO',\n",
              " 'PLSO2CRT',\n",
              " 'PLCO2CRT',\n",
              " 'PLCH4CRT',\n",
              " 'PLN2OCRT',\n",
              " 'PLC2ECRT',\n",
              " 'PLHGCRT',\n",
              " 'UNNOX',\n",
              " 'UNNOXOZ',\n",
              " 'UNSO2',\n",
              " 'UNCO2',\n",
              " 'UNCH4',\n",
              " 'UNN2O',\n",
              " 'UNHG',\n",
              " 'UNHTI',\n",
              " 'UNHTIOZ',\n",
              " 'UNHTIT',\n",
              " 'UNHTIOZT',\n",
              " 'UNNOXSRC',\n",
              " 'UNNOZSRC',\n",
              " 'UNSO2SRC',\n",
              " 'UNCO2SRC',\n",
              " 'UNCH4SRC',\n",
              " 'UNN2OSRC',\n",
              " 'UNHGSRC',\n",
              " 'UNHTISRC',\n",
              " 'UNHOZSRC',\n",
              " 'BIONOX',\n",
              " 'BIONOXOZ',\n",
              " 'BIOSO2',\n",
              " 'BIOCO2',\n",
              " 'BIOCH4',\n",
              " 'BION2O',\n",
              " 'CHPCHTI',\n",
              " 'CHPCHTIOZ',\n",
              " 'CHPNOX',\n",
              " 'CHPNOXOZ',\n",
              " 'CHPSO2',\n",
              " 'CHPCO2',\n",
              " 'CHPCH4',\n",
              " 'CHPN2O',\n",
              " 'PLHTRT',\n",
              " 'PLGENACL',\n",
              " 'PLGENAOL',\n",
              " 'PLGENAGS',\n",
              " 'PLGENANC',\n",
              " 'PLGENAHY',\n",
              " 'PLGENABM',\n",
              " 'PLGENAWI',\n",
              " 'PLGENASO',\n",
              " 'PLGENAGT',\n",
              " 'PLGENAOF',\n",
              " 'PLGENAOP',\n",
              " 'PLGENATN',\n",
              " 'PLGENATR',\n",
              " 'PLGENATH',\n",
              " 'PLGENACY',\n",
              " 'PLGENACN',\n",
              " 'PLCLPR',\n",
              " 'PLOLPR',\n",
              " 'PLGSPR',\n",
              " 'PLNCPR',\n",
              " 'PLHYPR',\n",
              " 'PLBMPR',\n",
              " 'PLWIPR',\n",
              " 'PLSOPR',\n",
              " 'PLGTPR',\n",
              " 'PLOFPR',\n",
              " 'PLOPPR',\n",
              " 'PLTNPR',\n",
              " 'PLTRPR',\n",
              " 'PLTHPR',\n",
              " 'PLCYPR',\n",
              " 'PLCNPR']"
            ]
          },
          "metadata": {},
          "execution_count": 20
        }
      ]
    },
    {
      "cell_type": "code",
      "source": [
        "df_plant21.PLNGENAN.dtype"
      ],
      "metadata": {
        "colab": {
          "base_uri": "https://localhost:8080/"
        },
        "id": "5zMEvIphmo6B",
        "outputId": "93680f09-ae9b-4968-888b-12fd7cd3f51d"
      },
      "execution_count": 156,
      "outputs": [
        {
          "output_type": "execute_result",
          "data": {
            "text/plain": [
              "dtype('float64')"
            ]
          },
          "metadata": {},
          "execution_count": 156
        }
      ]
    },
    {
      "cell_type": "code",
      "source": [
        "pjm_df_plant21=df_plant21[df_plant21.BACODE==\"PJM\"]"
      ],
      "metadata": {
        "id": "C5mEjSsgFaJ6"
      },
      "execution_count": 21,
      "outputs": []
    },
    {
      "cell_type": "code",
      "source": [
        "pjm_df_plant21_bio=pjm_df_plant21[pjm_df_plant21.PLFUELCT==\"BIOMASS\"]"
      ],
      "metadata": {
        "id": "EbW5j179FrSM"
      },
      "execution_count": 22,
      "outputs": []
    },
    {
      "cell_type": "code",
      "source": [
        "pjm_df_plant21_Coal=pjm_df_plant21[pjm_df_plant21.PLFUELCT=='COAL']"
      ],
      "metadata": {
        "id": "YejpGwhvGFLv"
      },
      "execution_count": 23,
      "outputs": []
    },
    {
      "cell_type": "code",
      "source": [
        "pjm_df_plant21_Gas=pjm_df_plant21[pjm_df_plant21.PLFUELCT=='GAS']"
      ],
      "metadata": {
        "id": "YtKIRXtsGOP5"
      },
      "execution_count": 24,
      "outputs": []
    },
    {
      "cell_type": "code",
      "source": [
        "pjm_df_plant21_Hydro=pjm_df_plant21[pjm_df_plant21.PLFUELCT=='HYDRO']"
      ],
      "metadata": {
        "id": "4ij_a1qnGXEE"
      },
      "execution_count": 25,
      "outputs": []
    },
    {
      "cell_type": "code",
      "source": [
        "pjm_df_plant21_Nuclear=pjm_df_plant21[pjm_df_plant21.PLFUELCT=='NUCLEAR']"
      ],
      "metadata": {
        "id": "oYANvoa7Ga2Y"
      },
      "execution_count": 26,
      "outputs": []
    },
    {
      "cell_type": "code",
      "source": [
        "pjm_df_plant21_Solar=pjm_df_plant21[pjm_df_plant21.PLFUELCT=='SOLAR']"
      ],
      "metadata": {
        "id": "vFV8Du_LGrPu"
      },
      "execution_count": 27,
      "outputs": []
    },
    {
      "cell_type": "code",
      "source": [
        "pjm_df_plant21_Wind=pjm_df_plant21[pjm_df_plant21.PLFUELCT=='WIND']"
      ],
      "metadata": {
        "id": "ZQEesAtsGuex"
      },
      "execution_count": 28,
      "outputs": []
    },
    {
      "cell_type": "code",
      "source": [
        "pjm_df_plant21_geothermal=pjm_df_plant21[pjm_df_plant21.PLFUELCT=='GEOTHERMAL']"
      ],
      "metadata": {
        "id": "0wCF6LpRKsU6"
      },
      "execution_count": 29,
      "outputs": []
    },
    {
      "cell_type": "code",
      "source": [
        "pjm_df_plant21_OFSL=pjm_df_plant21[pjm_df_plant21.PLFUELCT=='OFSL']"
      ],
      "metadata": {
        "id": "MeOeZpDzK10b"
      },
      "execution_count": 30,
      "outputs": []
    },
    {
      "cell_type": "code",
      "source": [
        "pjm_df_plant21_OTHF=pjm_df_plant21[pjm_df_plant21.PLFUELCT=='OTHF']"
      ],
      "metadata": {
        "id": "x-OlcbUhLBsS"
      },
      "execution_count": 31,
      "outputs": []
    },
    {
      "cell_type": "code",
      "source": [
        "pjm_df_plant21_Oil=pjm_df_plant21[pjm_df_plant21.PLFUELCT=='OIL']"
      ],
      "metadata": {
        "id": "gNIjSfjsLHKT"
      },
      "execution_count": 32,
      "outputs": []
    },
    {
      "cell_type": "code",
      "source": [
        "Capacity_Bio=pjm_df_plant21_bio.NAMEPCAP.sum()"
      ],
      "metadata": {
        "id": "Bek0pehTHokU"
      },
      "execution_count": 33,
      "outputs": []
    },
    {
      "cell_type": "code",
      "source": [
        "#Installed Capacity of Biomass\n",
        "Capacity_Bio"
      ],
      "metadata": {
        "colab": {
          "base_uri": "https://localhost:8080/"
        },
        "id": "KMsAxRc3H8HE",
        "outputId": "dd678d84-721a-45d2-fb4d-554cf5d06f83"
      },
      "execution_count": 79,
      "outputs": [
        {
          "output_type": "execute_result",
          "data": {
            "text/plain": [
              "2291.4"
            ]
          },
          "metadata": {},
          "execution_count": 79
        }
      ]
    },
    {
      "cell_type": "code",
      "source": [
        "Capacity_Coal=pjm_df_plant21_Coal.NAMEPCAP.sum()"
      ],
      "metadata": {
        "id": "n2CtxP3RIBUS"
      },
      "execution_count": 35,
      "outputs": []
    },
    {
      "cell_type": "code",
      "source": [
        "#Installed Capacity of Coal\n",
        "Capacity_Coal"
      ],
      "metadata": {
        "colab": {
          "base_uri": "https://localhost:8080/"
        },
        "id": "rfIfmH4uIKxr",
        "outputId": "e9fc2e8a-2591-4b26-e5cb-26fc8f3113a4"
      },
      "execution_count": 124,
      "outputs": [
        {
          "output_type": "execute_result",
          "data": {
            "text/plain": [
              "53476.899999999994"
            ]
          },
          "metadata": {},
          "execution_count": 124
        }
      ]
    },
    {
      "cell_type": "code",
      "source": [
        "Capacity_Gas=pjm_df_plant21_Gas.NAMEPCAP.sum( )"
      ],
      "metadata": {
        "id": "U7flcmFLIO8Q"
      },
      "execution_count": 37,
      "outputs": []
    },
    {
      "cell_type": "code",
      "source": [
        "#Installed Capacity of Gas\n",
        "Capacity_Gas"
      ],
      "metadata": {
        "colab": {
          "base_uri": "https://localhost:8080/"
        },
        "id": "Tjel5HCuIXOo",
        "outputId": "bcabb698-93e7-47dc-98a6-79ad1ca639db"
      },
      "execution_count": 125,
      "outputs": [
        {
          "output_type": "execute_result",
          "data": {
            "text/plain": [
              "98202.9"
            ]
          },
          "metadata": {},
          "execution_count": 125
        }
      ]
    },
    {
      "cell_type": "code",
      "source": [
        "Capacity_Hydro=pjm_df_plant21_Hydro.NAMEPCAP.sum()"
      ],
      "metadata": {
        "id": "AoX2EPHvIbZG"
      },
      "execution_count": 39,
      "outputs": []
    },
    {
      "cell_type": "code",
      "source": [
        "#Installed Capacity of Hydro\n",
        "Capacity_Hydro"
      ],
      "metadata": {
        "colab": {
          "base_uri": "https://localhost:8080/"
        },
        "id": "aOogd4RHImkH",
        "outputId": "5b7903da-9a38-4abc-97a5-609859eb5f76"
      },
      "execution_count": 126,
      "outputs": [
        {
          "output_type": "execute_result",
          "data": {
            "text/plain": [
              "8380.900000000001"
            ]
          },
          "metadata": {},
          "execution_count": 126
        }
      ]
    },
    {
      "cell_type": "code",
      "source": [
        "Capacity_Nuclear=pjm_df_plant21_Nuclear.NAMEPCAP.sum( )"
      ],
      "metadata": {
        "id": "W5uQBIOxIp4M"
      },
      "execution_count": 55,
      "outputs": []
    },
    {
      "cell_type": "code",
      "source": [
        "#Installed Capacity of Nuclear\n",
        "Capacity_Nuclear"
      ],
      "metadata": {
        "colab": {
          "base_uri": "https://localhost:8080/"
        },
        "id": "aRie7rKFIu-X",
        "outputId": "4d8b5ee5-bcc1-4822-8600-add5cda19b0d"
      },
      "execution_count": 127,
      "outputs": [
        {
          "output_type": "execute_result",
          "data": {
            "text/plain": [
              "34509.4"
            ]
          },
          "metadata": {},
          "execution_count": 127
        }
      ]
    },
    {
      "cell_type": "code",
      "source": [
        "Capacity_Solar=pjm_df_plant21_Solar.NAMEPCAP.sum( )"
      ],
      "metadata": {
        "id": "ulpS5rjCJyBP"
      },
      "execution_count": 57,
      "outputs": []
    },
    {
      "cell_type": "code",
      "source": [
        "#Installed Capacity of Solar\n",
        "Capacity_Solar"
      ],
      "metadata": {
        "colab": {
          "base_uri": "https://localhost:8080/"
        },
        "id": "6ju_GUgjJ3Vn",
        "outputId": "4d52e717-d9cc-4a71-84c5-10937e56c08f"
      },
      "execution_count": 128,
      "outputs": [
        {
          "output_type": "execute_result",
          "data": {
            "text/plain": [
              "6462.700000000001"
            ]
          },
          "metadata": {},
          "execution_count": 128
        }
      ]
    },
    {
      "cell_type": "code",
      "source": [
        "Capacity_Wind=pjm_df_plant21_Wind.NAMEPCAP.sum( )"
      ],
      "metadata": {
        "id": "8OHETd2lJ6aL"
      },
      "execution_count": 59,
      "outputs": []
    },
    {
      "cell_type": "code",
      "source": [
        "#Installed Capacity of Wind\n",
        "Capacity_Wind"
      ],
      "metadata": {
        "colab": {
          "base_uri": "https://localhost:8080/"
        },
        "id": "R2lREUYPJ6oz",
        "outputId": "499d83cf-3c5d-4bc0-e83f-810f4f85eeb6"
      },
      "execution_count": 129,
      "outputs": [
        {
          "output_type": "execute_result",
          "data": {
            "text/plain": [
              "10703.0"
            ]
          },
          "metadata": {},
          "execution_count": 129
        }
      ]
    },
    {
      "cell_type": "code",
      "source": [
        "Capacity_Geothermal=pjm_df_plant21_geothermal.NAMEPCAP.sum()"
      ],
      "metadata": {
        "id": "1KN25etrJ7Ru"
      },
      "execution_count": 61,
      "outputs": []
    },
    {
      "cell_type": "code",
      "source": [
        "#Installed capacity of \"others 1-Geothermal\"\n",
        "Capacity_Geothermal"
      ],
      "metadata": {
        "colab": {
          "base_uri": "https://localhost:8080/"
        },
        "id": "VNQQlg8NLauO",
        "outputId": "d856f096-e74e-414d-c073-3f8a589534d7"
      },
      "execution_count": 130,
      "outputs": [
        {
          "output_type": "execute_result",
          "data": {
            "text/plain": [
              "0.0"
            ]
          },
          "metadata": {},
          "execution_count": 130
        }
      ]
    },
    {
      "cell_type": "code",
      "source": [
        "Capacity_OFSL=pjm_df_plant21_OFSL.NAMEPCAP.sum()"
      ],
      "metadata": {
        "id": "kP3qQ3ktLeYc"
      },
      "execution_count": 63,
      "outputs": []
    },
    {
      "cell_type": "code",
      "source": [
        "#Installed capacity of \"others 2-OFSL\"\n",
        "Capacity_OFSL"
      ],
      "metadata": {
        "colab": {
          "base_uri": "https://localhost:8080/"
        },
        "id": "4f67XKPxLtJ1",
        "outputId": "6fe76602-bbaf-4657-b576-65659885168e"
      },
      "execution_count": 131,
      "outputs": [
        {
          "output_type": "execute_result",
          "data": {
            "text/plain": [
              "67.0"
            ]
          },
          "metadata": {},
          "execution_count": 131
        }
      ]
    },
    {
      "cell_type": "code",
      "source": [
        "Capacity_OTHF=pjm_df_plant21_OTHF.NAMEPCAP.sum()"
      ],
      "metadata": {
        "id": "kMS0RqZlLyJt"
      },
      "execution_count": 65,
      "outputs": []
    },
    {
      "cell_type": "code",
      "source": [
        "#Installed capacity of \"others 3-OTHF\"\n",
        "Capacity_OTHF"
      ],
      "metadata": {
        "colab": {
          "base_uri": "https://localhost:8080/"
        },
        "id": "s-r_HPtWL5Du",
        "outputId": "89dddef0-5a2e-4e21-8ab3-4d172855b441"
      },
      "execution_count": 132,
      "outputs": [
        {
          "output_type": "execute_result",
          "data": {
            "text/plain": [
              "711.3"
            ]
          },
          "metadata": {},
          "execution_count": 132
        }
      ]
    },
    {
      "cell_type": "code",
      "source": [
        "Capacity_Oil=pjm_df_plant21_Oil.NAMEPCAP.sum()"
      ],
      "metadata": {
        "id": "zNDweZYnL9io"
      },
      "execution_count": 67,
      "outputs": []
    },
    {
      "cell_type": "code",
      "source": [
        "#Installed capacity of \"others 4-Oil\"\n",
        "Capacity_Oil"
      ],
      "metadata": {
        "colab": {
          "base_uri": "https://localhost:8080/"
        },
        "id": "W1gGsINeMBdM",
        "outputId": "e5a956eb-ad6b-496c-82db-9d9d9db653b2"
      },
      "execution_count": 68,
      "outputs": [
        {
          "output_type": "execute_result",
          "data": {
            "text/plain": [
              "7954.5"
            ]
          },
          "metadata": {},
          "execution_count": 68
        }
      ]
    },
    {
      "cell_type": "code",
      "source": [
        "\n",
        "Capacity_O=Capacity_Oil+Capacity_OTHF+Capacity_Geothermal+Capacity_OFSL"
      ],
      "metadata": {
        "id": "Hw8CvouCMtPQ"
      },
      "execution_count": 133,
      "outputs": []
    },
    {
      "cell_type": "code",
      "source": [
        "#Installed capacity of others\n",
        "Capacity_O"
      ],
      "metadata": {
        "colab": {
          "base_uri": "https://localhost:8080/"
        },
        "id": "31CUqUV0NdHd",
        "outputId": "296789ce-cdca-422a-ceb2-935c8ee72fcb"
      },
      "execution_count": 134,
      "outputs": [
        {
          "output_type": "execute_result",
          "data": {
            "text/plain": [
              "8732.8"
            ]
          },
          "metadata": {},
          "execution_count": 134
        }
      ]
    },
    {
      "cell_type": "code",
      "source": [
        "Total_PJM_Capacity=Capacity_Bio+Capacity_Hydro+Capacity_Coal+Capacity_Nuclear+Capacity_Solar+Capacity_Wind+Capacity_Gas+Capacity_O"
      ],
      "metadata": {
        "id": "JildkAvbM9q9"
      },
      "execution_count": 135,
      "outputs": []
    },
    {
      "cell_type": "markdown",
      "source": [
        "% of total installed capacity in PJM"
      ],
      "metadata": {
        "id": "SqJANKXilWHs"
      }
    },
    {
      "cell_type": "code",
      "source": [
        "Per_PJM_Biomass=Capacity_Bio/Total_PJM_Capacity*100"
      ],
      "metadata": {
        "id": "VCrTV6HSNtHd"
      },
      "execution_count": 136,
      "outputs": []
    },
    {
      "cell_type": "code",
      "source": [
        "Per_PJM_Biomass"
      ],
      "metadata": {
        "colab": {
          "base_uri": "https://localhost:8080/"
        },
        "id": "XBw_L8doOB8i",
        "outputId": "485999ad-b0ee-4b06-f91a-acf12e9672a7"
      },
      "execution_count": 137,
      "outputs": [
        {
          "output_type": "execute_result",
          "data": {
            "text/plain": [
              "1.0286406895313343"
            ]
          },
          "metadata": {},
          "execution_count": 137
        }
      ]
    },
    {
      "cell_type": "code",
      "source": [
        "Per_PJM_Coal=Capacity_Coal/Total_PJM_Capacity*100\n"
      ],
      "metadata": {
        "id": "ooH_uWbmOGXt"
      },
      "execution_count": 138,
      "outputs": []
    },
    {
      "cell_type": "code",
      "source": [
        "Per_PJM_Coal"
      ],
      "metadata": {
        "colab": {
          "base_uri": "https://localhost:8080/"
        },
        "id": "w99CawZJParo",
        "outputId": "ad158cc0-faa0-42ef-f084-9a60b4d3d5ef"
      },
      "execution_count": 139,
      "outputs": [
        {
          "output_type": "execute_result",
          "data": {
            "text/plain": [
              "24.006509247620755"
            ]
          },
          "metadata": {},
          "execution_count": 139
        }
      ]
    },
    {
      "cell_type": "code",
      "source": [
        "Per_PJM_Gas=Capacity_Gas/Total_PJM_Capacity*100"
      ],
      "metadata": {
        "id": "1ggs5brzPjdd"
      },
      "execution_count": 140,
      "outputs": []
    },
    {
      "cell_type": "code",
      "source": [
        "Per_PJM_Gas"
      ],
      "metadata": {
        "colab": {
          "base_uri": "https://localhost:8080/"
        },
        "id": "q_AG9y0vPnOd",
        "outputId": "ff161078-5a84-458f-acf9-6d4017aba56a"
      },
      "execution_count": 141,
      "outputs": [
        {
          "output_type": "execute_result",
          "data": {
            "text/plain": [
              "44.08462021906985"
            ]
          },
          "metadata": {},
          "execution_count": 141
        }
      ]
    },
    {
      "cell_type": "code",
      "source": [
        "Per_PJM_Hydro=Capacity_Hydro/Total_PJM_Capacity*100"
      ],
      "metadata": {
        "id": "WqUUr_XnPpd_"
      },
      "execution_count": 142,
      "outputs": []
    },
    {
      "cell_type": "code",
      "source": [
        "Per_PJM_Hydro"
      ],
      "metadata": {
        "colab": {
          "base_uri": "https://localhost:8080/"
        },
        "id": "hA7cxcckPuIf",
        "outputId": "23aa0ed2-1f14-47f3-870e-b3ec889c2f43"
      },
      "execution_count": 143,
      "outputs": [
        {
          "output_type": "execute_result",
          "data": {
            "text/plain": [
              "3.7623002334350875"
            ]
          },
          "metadata": {},
          "execution_count": 143
        }
      ]
    },
    {
      "cell_type": "code",
      "source": [
        "Per_PJM_Nuclear=Capacity_Nuclear/Total_PJM_Capacity*100"
      ],
      "metadata": {
        "id": "cY9Q985YPuTm"
      },
      "execution_count": 144,
      "outputs": []
    },
    {
      "cell_type": "code",
      "source": [
        "Per_PJM_Nuclear"
      ],
      "metadata": {
        "colab": {
          "base_uri": "https://localhost:8080/"
        },
        "id": "-JUF1PgdPuck",
        "outputId": "6d8d54fb-1bf8-47ff-d9d5-ec77cf4168c0"
      },
      "execution_count": 145,
      "outputs": [
        {
          "output_type": "execute_result",
          "data": {
            "text/plain": [
              "15.491739989226074"
            ]
          },
          "metadata": {},
          "execution_count": 145
        }
      ]
    },
    {
      "cell_type": "code",
      "source": [
        "Per_PJM_Solar=Capacity_Solar/Total_PJM_Capacity*100"
      ],
      "metadata": {
        "id": "2HKW7AfsP34A"
      },
      "execution_count": 146,
      "outputs": []
    },
    {
      "cell_type": "code",
      "source": [
        "Per_PJM_Solar"
      ],
      "metadata": {
        "colab": {
          "base_uri": "https://localhost:8080/"
        },
        "id": "G4mx7IYZP7oN",
        "outputId": "fba8b6c4-d6a2-4e98-f5ab-8657ffb174c5"
      },
      "execution_count": 147,
      "outputs": [
        {
          "output_type": "execute_result",
          "data": {
            "text/plain": [
              "2.9011941102531873"
            ]
          },
          "metadata": {},
          "execution_count": 147
        }
      ]
    },
    {
      "cell_type": "code",
      "source": [
        "Per_PJM_Wind=Capacity_Wind/Total_PJM_Capacity*100"
      ],
      "metadata": {
        "id": "A-R7BbSEQAKo"
      },
      "execution_count": 148,
      "outputs": []
    },
    {
      "cell_type": "code",
      "source": [
        "Per_PJM_Wind"
      ],
      "metadata": {
        "colab": {
          "base_uri": "https://localhost:8080/"
        },
        "id": "jhsofbxBQEvw",
        "outputId": "5c3cb349-4c7f-40da-d15c-82e6dc99d9d6"
      },
      "execution_count": 149,
      "outputs": [
        {
          "output_type": "execute_result",
          "data": {
            "text/plain": [
              "4.804722571377267"
            ]
          },
          "metadata": {},
          "execution_count": 149
        }
      ]
    },
    {
      "cell_type": "code",
      "source": [
        "Per_PJM_Others=Capacity_O/Total_PJM_Capacity*100"
      ],
      "metadata": {
        "id": "ZwMESjaxQHzQ"
      },
      "execution_count": 150,
      "outputs": []
    },
    {
      "cell_type": "code",
      "source": [
        "Per_PJM_Others"
      ],
      "metadata": {
        "colab": {
          "base_uri": "https://localhost:8080/"
        },
        "id": "eE-tgrzpQLLm",
        "outputId": "578541c2-9474-458e-fa03-99bc47cfb29e"
      },
      "execution_count": 151,
      "outputs": [
        {
          "output_type": "execute_result",
          "data": {
            "text/plain": [
              "3.9202729394864426"
            ]
          },
          "metadata": {},
          "execution_count": 151
        }
      ]
    },
    {
      "cell_type": "markdown",
      "source": [
        "Generation in 2021"
      ],
      "metadata": {
        "id": "w1GHHV2VleUg"
      }
    },
    {
      "cell_type": "code",
      "source": [
        "pjm_df_plant21_bio.PLNGENAN.dtype"
      ],
      "metadata": {
        "colab": {
          "base_uri": "https://localhost:8080/"
        },
        "id": "CHh9yB6Ym-k2",
        "outputId": "4d491ec7-394d-444e-d4fd-6267f6a35348"
      },
      "execution_count": 162,
      "outputs": [
        {
          "output_type": "execute_result",
          "data": {
            "text/plain": [
              "dtype('O')"
            ]
          },
          "metadata": {},
          "execution_count": 162
        }
      ]
    },
    {
      "cell_type": "code",
      "source": [
        "pjm_df_plant21_bio.PLNGENAN=pd.to_numeric(pjm_df_plant21_bio.PLNGENAN)"
      ],
      "metadata": {
        "id": "gGhPjxWJnFfk"
      },
      "execution_count": 163,
      "outputs": []
    },
    {
      "cell_type": "code",
      "source": [
        "pjm_df_plant21.PLNGENAN.dtype"
      ],
      "metadata": {
        "colab": {
          "base_uri": "https://localhost:8080/"
        },
        "id": "_4keh7zgnmor",
        "outputId": "4f1cd213-89c3-46cf-ed50-ec2a77afb4bc"
      },
      "execution_count": 167,
      "outputs": [
        {
          "output_type": "execute_result",
          "data": {
            "text/plain": [
              "dtype('float64')"
            ]
          },
          "metadata": {},
          "execution_count": 167
        }
      ]
    },
    {
      "cell_type": "code",
      "source": [
        "gen_bio=pjm_df_plant21_bio.PLNGENAN.sum()"
      ],
      "metadata": {
        "id": "4wt81BO7lslb"
      },
      "execution_count": 164,
      "outputs": []
    },
    {
      "cell_type": "code",
      "source": [
        "#Generation in 2021-Biomass (MWh)\n",
        "gen_bio"
      ],
      "metadata": {
        "colab": {
          "base_uri": "https://localhost:8080/"
        },
        "id": "AeKUbKEjnYoD",
        "outputId": "7be529d6-4b01-4537-8587-a86d4f4ac863"
      },
      "execution_count": 166,
      "outputs": [
        {
          "output_type": "execute_result",
          "data": {
            "text/plain": [
              "10638563.387000002"
            ]
          },
          "metadata": {},
          "execution_count": 166
        }
      ]
    },
    {
      "cell_type": "code",
      "source": [
        "pjm_df_plant21_Coal.PLNGENAN.dtype"
      ],
      "metadata": {
        "colab": {
          "base_uri": "https://localhost:8080/"
        },
        "id": "ttlfZ12snh0E",
        "outputId": "4a12fdff-355c-48ff-c0af-993ab59572f6"
      },
      "execution_count": 168,
      "outputs": [
        {
          "output_type": "execute_result",
          "data": {
            "text/plain": [
              "dtype('O')"
            ]
          },
          "metadata": {},
          "execution_count": 168
        }
      ]
    },
    {
      "cell_type": "code",
      "source": [
        "pjm_df_plant21_Coal.PLNGENAN=pd.to_numeric(pjm_df_plant21_Coal.PLNGENAN)"
      ],
      "metadata": {
        "id": "xA0Jurn5nh9k"
      },
      "execution_count": 169,
      "outputs": []
    },
    {
      "cell_type": "code",
      "source": [
        "gen_coal=pjm_df_plant21_Coal.PLNGENAN.sum()"
      ],
      "metadata": {
        "id": "6PmA1zEsniH0"
      },
      "execution_count": 171,
      "outputs": []
    },
    {
      "cell_type": "code",
      "source": [
        "#Generation in 2021-Coal\n",
        "gen_coal"
      ],
      "metadata": {
        "colab": {
          "base_uri": "https://localhost:8080/"
        },
        "id": "U95wpXOFn7mp",
        "outputId": "a0f5d79f-c7c6-48fc-dbd4-92c967fa5edc"
      },
      "execution_count": 172,
      "outputs": [
        {
          "output_type": "execute_result",
          "data": {
            "text/plain": [
              "177321744.297"
            ]
          },
          "metadata": {},
          "execution_count": 172
        }
      ]
    },
    {
      "cell_type": "code",
      "source": [
        "pjm_df_plant21_Gas.PLNGENAN=pd.to_numeric(pjm_df_plant21_Gas.PLNGENAN)"
      ],
      "metadata": {
        "id": "KENnvLHHn7kJ"
      },
      "execution_count": 173,
      "outputs": []
    },
    {
      "cell_type": "code",
      "source": [
        "gen_gas=pjm_df_plant21_Gas.PLNGENAN.sum()"
      ],
      "metadata": {
        "id": "3pLydfjAn7gs"
      },
      "execution_count": 174,
      "outputs": []
    },
    {
      "cell_type": "code",
      "source": [
        "#Generation in 2021-Gas\n",
        "gen_gas\n"
      ],
      "metadata": {
        "colab": {
          "base_uri": "https://localhost:8080/"
        },
        "id": "DcvR3q3Gn7dY",
        "outputId": "57665da2-9184-4015-9a5c-0220426b76c3"
      },
      "execution_count": 175,
      "outputs": [
        {
          "output_type": "execute_result",
          "data": {
            "text/plain": [
              "316863519.82199997"
            ]
          },
          "metadata": {},
          "execution_count": 175
        }
      ]
    },
    {
      "cell_type": "code",
      "source": [
        "pjm_df_plant21_Hydro.PLNGENAN=pd.to_numeric(pjm_df_plant21_Hydro.PLNGENAN)"
      ],
      "metadata": {
        "id": "8tfzTg5nn7ah"
      },
      "execution_count": 176,
      "outputs": []
    },
    {
      "cell_type": "code",
      "source": [
        "gen_hydro=pjm_df_plant21_Hydro.PLNGENAN.sum()"
      ],
      "metadata": {
        "id": "Y3PnozvWn7Xa"
      },
      "execution_count": 177,
      "outputs": []
    },
    {
      "cell_type": "code",
      "source": [
        "#Generation in 2021-Hydro\n",
        "gen_hydro"
      ],
      "metadata": {
        "colab": {
          "base_uri": "https://localhost:8080/"
        },
        "id": "4RuwnHJ-n66e",
        "outputId": "c18faf98-59c9-4fde-e58c-b16b3d10eb45"
      },
      "execution_count": 178,
      "outputs": [
        {
          "output_type": "execute_result",
          "data": {
            "text/plain": [
              "8440123.998999998"
            ]
          },
          "metadata": {},
          "execution_count": 178
        }
      ]
    },
    {
      "cell_type": "code",
      "source": [
        "pjm_df_plant21_Nuclear.PLNGENAN=pd.to_numeric(pjm_df_plant21_Nuclear.PLNGENAN)"
      ],
      "metadata": {
        "id": "efoDJG-IniRj"
      },
      "execution_count": 179,
      "outputs": []
    },
    {
      "cell_type": "code",
      "source": [
        "gen_Nuclear=pjm_df_plant21_Nuclear.PLNGENAN.sum()"
      ],
      "metadata": {
        "id": "5bHG84s8nibb"
      },
      "execution_count": 180,
      "outputs": []
    },
    {
      "cell_type": "code",
      "source": [
        "#Generation in 2021-Nuclear\n",
        "gen_Nuclear"
      ],
      "metadata": {
        "colab": {
          "base_uri": "https://localhost:8080/"
        },
        "id": "QG31JEYApCDJ",
        "outputId": "0ad6309f-0ffb-4d7b-d3b6-e3a2e8d5e640"
      },
      "execution_count": 181,
      "outputs": [
        {
          "output_type": "execute_result",
          "data": {
            "text/plain": [
              "271692585"
            ]
          },
          "metadata": {},
          "execution_count": 181
        }
      ]
    },
    {
      "cell_type": "code",
      "source": [
        "pjm_df_plant21_Solar.PLNGENAN=pd.to_numeric(pjm_df_plant21_Solar.PLNGENAN)"
      ],
      "metadata": {
        "id": "894GJZHspJj6"
      },
      "execution_count": 182,
      "outputs": []
    },
    {
      "cell_type": "code",
      "source": [
        "gen_Solar=pjm_df_plant21_Solar.PLNGENAN.sum()"
      ],
      "metadata": {
        "id": "g6lrfeakpJnw"
      },
      "execution_count": 183,
      "outputs": []
    },
    {
      "cell_type": "code",
      "source": [
        "#Generation in 2021 - Solar\n",
        "gen_Solar"
      ],
      "metadata": {
        "colab": {
          "base_uri": "https://localhost:8080/"
        },
        "id": "1v3__12lpJsb",
        "outputId": "3406fb76-afaf-44fb-fc68-58edd0a38cdc"
      },
      "execution_count": 184,
      "outputs": [
        {
          "output_type": "execute_result",
          "data": {
            "text/plain": [
              "9793671.457"
            ]
          },
          "metadata": {},
          "execution_count": 184
        }
      ]
    },
    {
      "cell_type": "code",
      "source": [
        "pjm_df_plant21_Wind.PLNGENAN=pd.to_numeric(pjm_df_plant21_Wind.PLNGENAN)"
      ],
      "metadata": {
        "id": "KRgswQNppJx_"
      },
      "execution_count": 185,
      "outputs": []
    },
    {
      "cell_type": "code",
      "source": [
        "gen_Wind=pjm_df_plant21_Wind.PLNGENAN.sum()"
      ],
      "metadata": {
        "id": "qrXVOT0RpJ1s"
      },
      "execution_count": 186,
      "outputs": []
    },
    {
      "cell_type": "code",
      "source": [
        "#Generation in 2021- Wind\n",
        "gen_Wind"
      ],
      "metadata": {
        "colab": {
          "base_uri": "https://localhost:8080/"
        },
        "id": "_nsvkzwcpJ5H",
        "outputId": "efd566ee-fb88-4ee9-a689-4e32df41e31b"
      },
      "execution_count": 187,
      "outputs": [
        {
          "output_type": "execute_result",
          "data": {
            "text/plain": [
              "27494042.0"
            ]
          },
          "metadata": {},
          "execution_count": 187
        }
      ]
    },
    {
      "cell_type": "code",
      "source": [
        "pjm_df_plant21_geothermal.PLNGENAN=pd.to_numeric(pjm_df_plant21_geothermal.PLNGENAN)"
      ],
      "metadata": {
        "id": "3aqht_NmpJ8k"
      },
      "execution_count": 189,
      "outputs": []
    },
    {
      "cell_type": "code",
      "source": [
        "gen_geothermal=pjm_df_plant21_geothermal.PLNGENAN.sum()"
      ],
      "metadata": {
        "id": "jKpAfy2xpJ__"
      },
      "execution_count": 190,
      "outputs": []
    },
    {
      "cell_type": "code",
      "source": [
        "#Generation in 2021 - Geothermal (others1)\n",
        "gen_geothermal"
      ],
      "metadata": {
        "colab": {
          "base_uri": "https://localhost:8080/"
        },
        "id": "OAZkzgi_pKDp",
        "outputId": "4426e782-2887-4872-d178-af9594c3b9d9"
      },
      "execution_count": 191,
      "outputs": [
        {
          "output_type": "execute_result",
          "data": {
            "text/plain": [
              "0"
            ]
          },
          "metadata": {},
          "execution_count": 191
        }
      ]
    },
    {
      "cell_type": "code",
      "source": [
        "pjm_df_plant21_OFSL.PLNGENAN=pd.to_numeric(pjm_df_plant21_OFSL.PLNGENAN)"
      ],
      "metadata": {
        "id": "lIQV7lFkpKHs"
      },
      "execution_count": 192,
      "outputs": []
    },
    {
      "cell_type": "code",
      "source": [
        "gen_ofsl=pjm_df_plant21_OFSL.PLNGENAN.sum()"
      ],
      "metadata": {
        "id": "UqKCfElSpKLE"
      },
      "execution_count": 193,
      "outputs": []
    },
    {
      "cell_type": "code",
      "source": [
        "#Genertation in 2021 - OFSL (others2)\n",
        "gen_ofsl"
      ],
      "metadata": {
        "colab": {
          "base_uri": "https://localhost:8080/"
        },
        "id": "eTa8RmQ5pKOk",
        "outputId": "194e0949-bce7-4ed1-b54b-9e1f2529c051"
      },
      "execution_count": 194,
      "outputs": [
        {
          "output_type": "execute_result",
          "data": {
            "text/plain": [
              "149946"
            ]
          },
          "metadata": {},
          "execution_count": 194
        }
      ]
    },
    {
      "cell_type": "code",
      "source": [
        "pjm_df_plant21_OTHF.PLNGENAN=pd.to_numeric(pjm_df_plant21_OTHF.PLNGENAN)"
      ],
      "metadata": {
        "id": "ESQ6gWt0qW7Q"
      },
      "execution_count": 195,
      "outputs": []
    },
    {
      "cell_type": "code",
      "source": [
        "gen_othf=pjm_df_plant21_OTHF.PLNGENAN.sum()"
      ],
      "metadata": {
        "id": "xs-lecCjqcoZ"
      },
      "execution_count": 196,
      "outputs": []
    },
    {
      "cell_type": "code",
      "source": [
        "#Generation in 2021 - OTHF (other 3)\n",
        "gen_othf"
      ],
      "metadata": {
        "colab": {
          "base_uri": "https://localhost:8080/"
        },
        "id": "ovUQcPBBqcsI",
        "outputId": "91bdccec-41d7-401f-80e6-905999fc6879"
      },
      "execution_count": 197,
      "outputs": [
        {
          "output_type": "execute_result",
          "data": {
            "text/plain": [
              "1499273.025"
            ]
          },
          "metadata": {},
          "execution_count": 197
        }
      ]
    },
    {
      "cell_type": "code",
      "source": [
        "pjm_df_plant21_Oil.PLNGENAN=pd.to_numeric(pjm_df_plant21_Oil.PLNGENAN)"
      ],
      "metadata": {
        "id": "fTk33Ds5qcw9"
      },
      "execution_count": 206,
      "outputs": []
    },
    {
      "cell_type": "code",
      "source": [
        "gen_oil=pjm_df_plant21_Oil.PLNGENAN.sum()"
      ],
      "metadata": {
        "id": "R1-Tncbuquz3"
      },
      "execution_count": 207,
      "outputs": []
    },
    {
      "cell_type": "code",
      "source": [
        "#Generation in 2021 -Oil (others 4)\n",
        "gen_oil"
      ],
      "metadata": {
        "colab": {
          "base_uri": "https://localhost:8080/"
        },
        "id": "nIsRwX5Oqu5O",
        "outputId": "12b33796-5b1b-4d8e-96b6-cc5fc1f597fc"
      },
      "execution_count": 208,
      "outputs": [
        {
          "output_type": "execute_result",
          "data": {
            "text/plain": [
              "0.0"
            ]
          },
          "metadata": {},
          "execution_count": 208
        }
      ]
    },
    {
      "cell_type": "code",
      "source": [
        "#Generation in 2021 others (combined)\n",
        "Gen_others_2021=gen_geothermal+gen_ofsl+gen_othf+gen_oil"
      ],
      "metadata": {
        "id": "zZy5tUi_qu-T"
      },
      "execution_count": 202,
      "outputs": []
    },
    {
      "cell_type": "code",
      "source": [
        "Gen_others_2021"
      ],
      "metadata": {
        "colab": {
          "base_uri": "https://localhost:8080/"
        },
        "id": "XR15MUrjrGvv",
        "outputId": "9ba0f142-661e-47cd-dae9-ec3e722ed9b1"
      },
      "execution_count": 203,
      "outputs": [
        {
          "output_type": "execute_result",
          "data": {
            "text/plain": [
              "1649219.025"
            ]
          },
          "metadata": {},
          "execution_count": 203
        }
      ]
    },
    {
      "cell_type": "code",
      "source": [
        "#Total generation in 2021\n",
        "Total_generation_2021_PJM=Gen_others_2021+gen_bio+gen_coal+gen_gas+gen_hydro+gen_Nuclear+gen_Solar+gen_Wind"
      ],
      "metadata": {
        "id": "Zd-94DVUrK-f"
      },
      "execution_count": 204,
      "outputs": []
    },
    {
      "cell_type": "code",
      "source": [
        "Total_generation_2021_PJM"
      ],
      "metadata": {
        "colab": {
          "base_uri": "https://localhost:8080/"
        },
        "id": "lYP7yjybrZze",
        "outputId": "52237159-504a-49bb-c2cd-3ae638da389f"
      },
      "execution_count": 205,
      "outputs": [
        {
          "output_type": "execute_result",
          "data": {
            "text/plain": [
              "823893468.987"
            ]
          },
          "metadata": {},
          "execution_count": 205
        }
      ]
    },
    {
      "cell_type": "markdown",
      "source": [
        "-------% of totla generation capacity in PJM"
      ],
      "metadata": {
        "id": "D3hJ5F55sy6L"
      }
    },
    {
      "cell_type": "code",
      "source": [
        "Per_Gen_bio=gen_bio/Total_generation_2021_PJM*100"
      ],
      "metadata": {
        "id": "ureqXngqsZok"
      },
      "execution_count": 209,
      "outputs": []
    },
    {
      "cell_type": "code",
      "source": [
        "#% of generation in PJM - Biomass\n",
        "Per_Gen_bio"
      ],
      "metadata": {
        "colab": {
          "base_uri": "https://localhost:8080/"
        },
        "id": "vq7C1qe5slLD",
        "outputId": "04496b3b-359b-431e-9cd9-584d4a3da190"
      },
      "execution_count": 210,
      "outputs": [
        {
          "output_type": "execute_result",
          "data": {
            "text/plain": [
              "1.2912547298233121"
            ]
          },
          "metadata": {},
          "execution_count": 210
        }
      ]
    },
    {
      "cell_type": "code",
      "source": [
        "Per_Gen_Coal=gen_coal/Total_generation_2021_PJM*100"
      ],
      "metadata": {
        "id": "uQSkziLuslRV"
      },
      "execution_count": 211,
      "outputs": []
    },
    {
      "cell_type": "code",
      "source": [
        "#% of generation in PJM - Coal\n",
        "Per_Gen_Coal"
      ],
      "metadata": {
        "colab": {
          "base_uri": "https://localhost:8080/"
        },
        "id": "29VOqYZVslVT",
        "outputId": "9e96beec-c00f-488b-e69e-c7bca8ff89a4"
      },
      "execution_count": 212,
      "outputs": [
        {
          "output_type": "execute_result",
          "data": {
            "text/plain": [
              "21.522411691771513"
            ]
          },
          "metadata": {},
          "execution_count": 212
        }
      ]
    },
    {
      "cell_type": "code",
      "source": [
        "Per_Gen_Gas=gen_gas/Total_generation_2021_PJM*100"
      ],
      "metadata": {
        "id": "IY45jxleslZu"
      },
      "execution_count": 213,
      "outputs": []
    },
    {
      "cell_type": "code",
      "source": [
        "#% of generation in PJM - Gas\n",
        "Per_Gen_Gas"
      ],
      "metadata": {
        "colab": {
          "base_uri": "https://localhost:8080/"
        },
        "id": "JBdP-rlFsldM",
        "outputId": "53f752e4-8707-44fa-d7a5-663b4532ad09"
      },
      "execution_count": 214,
      "outputs": [
        {
          "output_type": "execute_result",
          "data": {
            "text/plain": [
              "38.459282874470716"
            ]
          },
          "metadata": {},
          "execution_count": 214
        }
      ]
    },
    {
      "cell_type": "code",
      "source": [
        "Per_Gen_Hydro=gen_hydro/Total_generation_2021_PJM*100"
      ],
      "metadata": {
        "id": "HRsZAo14tON5"
      },
      "execution_count": 215,
      "outputs": []
    },
    {
      "cell_type": "code",
      "source": [
        "#% of generation in PJM - Hydro\n",
        "Per_Gen_Hydro"
      ],
      "metadata": {
        "colab": {
          "base_uri": "https://localhost:8080/"
        },
        "id": "YioByoBQtOYz",
        "outputId": "ea69171f-e45b-46cc-cd94-fc7dffad5c29"
      },
      "execution_count": 216,
      "outputs": [
        {
          "output_type": "execute_result",
          "data": {
            "text/plain": [
              "1.0244193353513733"
            ]
          },
          "metadata": {},
          "execution_count": 216
        }
      ]
    },
    {
      "cell_type": "code",
      "source": [
        "Per_Gen_Nuclear=gen_Nuclear/Total_generation_2021_PJM*100"
      ],
      "metadata": {
        "id": "ygEc5vxgtOmF"
      },
      "execution_count": 217,
      "outputs": []
    },
    {
      "cell_type": "code",
      "source": [
        "#% of generation in PJM - Nuclear\n",
        "Per_Gen_Nuclear"
      ],
      "metadata": {
        "colab": {
          "base_uri": "https://localhost:8080/"
        },
        "id": "IpTVhOz_tlN6",
        "outputId": "f06c7c88-c964-4cf7-fc3c-dc8f5f3afa2f"
      },
      "execution_count": 218,
      "outputs": [
        {
          "output_type": "execute_result",
          "data": {
            "text/plain": [
              "32.97666448722474"
            ]
          },
          "metadata": {},
          "execution_count": 218
        }
      ]
    },
    {
      "cell_type": "code",
      "source": [
        "Per_Gen_Solar=gen_Solar/Total_generation_2021_PJM*100"
      ],
      "metadata": {
        "id": "Cfv8MK_rtlTd"
      },
      "execution_count": 219,
      "outputs": []
    },
    {
      "cell_type": "code",
      "source": [
        "#% of generation in PJM - Solar\n",
        "Per_Gen_Solar"
      ],
      "metadata": {
        "colab": {
          "base_uri": "https://localhost:8080/"
        },
        "id": "ZYZyuZV5uB_m",
        "outputId": "259728e9-3ea3-4c6d-9306-d29e35373d8d"
      },
      "execution_count": 220,
      "outputs": [
        {
          "output_type": "execute_result",
          "data": {
            "text/plain": [
              "1.1887060433967989"
            ]
          },
          "metadata": {},
          "execution_count": 220
        }
      ]
    },
    {
      "cell_type": "code",
      "source": [
        "Per_Gen_Wind=gen_Wind/Total_generation_2021_PJM*100"
      ],
      "metadata": {
        "id": "e_fQeqUDuFFf"
      },
      "execution_count": 221,
      "outputs": []
    },
    {
      "cell_type": "code",
      "source": [
        "#% of generation in PJM - Wind\n",
        "Per_Gen_Wind"
      ],
      "metadata": {
        "colab": {
          "base_uri": "https://localhost:8080/"
        },
        "id": "6Pl07Hz3uR7Q",
        "outputId": "383ac5f1-1560-490b-9e45-5373a623be4b"
      },
      "execution_count": 222,
      "outputs": [
        {
          "output_type": "execute_result",
          "data": {
            "text/plain": [
              "3.337087018520087"
            ]
          },
          "metadata": {},
          "execution_count": 222
        }
      ]
    },
    {
      "cell_type": "code",
      "source": [
        "Per_Gen_Othes=Gen_others_2021/Total_generation_2021_PJM*100"
      ],
      "metadata": {
        "id": "I17zedEYuW8s"
      },
      "execution_count": 223,
      "outputs": []
    },
    {
      "cell_type": "code",
      "source": [
        "#% of generation in PJM - Others\n",
        "Per_Gen_Othes"
      ],
      "metadata": {
        "colab": {
          "base_uri": "https://localhost:8080/"
        },
        "id": "ESg1px4gufGg",
        "outputId": "810d5bf3-cc4c-440a-bb7b-e102d2fe76e0"
      },
      "execution_count": 224,
      "outputs": [
        {
          "output_type": "execute_result",
          "data": {
            "text/plain": [
              "0.2001738194414577"
            ]
          },
          "metadata": {},
          "execution_count": 224
        }
      ]
    },
    {
      "cell_type": "markdown",
      "source": [
        "Question 3"
      ],
      "metadata": {
        "id": "bXKVgw1OVJSd"
      }
    },
    {
      "cell_type": "code",
      "source": [
        "pjm_df_plant21.CAPFAC"
      ],
      "metadata": {
        "colab": {
          "base_uri": "https://localhost:8080/"
        },
        "id": "frh4bNuEcRN-",
        "outputId": "93aa8023-233c-40ff-a99f-34b0bbee1f31"
      },
      "execution_count": 101,
      "outputs": [
        {
          "output_type": "execute_result",
          "data": {
            "text/plain": [
              "2443            \n",
              "2444     0.83245\n",
              "2445            \n",
              "2446     0.45763\n",
              "2447     0.13584\n",
              "          ...   \n",
              "11321     0.1459\n",
              "11322    0.41563\n",
              "11323    0.63276\n",
              "11324      0.689\n",
              "11325     0.4864\n",
              "Name: CAPFAC, Length: 1560, dtype: object"
            ]
          },
          "metadata": {},
          "execution_count": 101
        }
      ]
    },
    {
      "cell_type": "code",
      "source": [
        "pjm_df_plant21.CAPFAC=pd.to_numeric(pjm_df_plant21.CAPFAC)"
      ],
      "metadata": {
        "colab": {
          "base_uri": "https://localhost:8080/"
        },
        "id": "9T8TLvRhc7Ft",
        "outputId": "cd543b10-4533-49b5-f9a6-0906fdf1cc6c"
      },
      "execution_count": 103,
      "outputs": [
        {
          "output_type": "stream",
          "name": "stderr",
          "text": [
            "<ipython-input-103-a6a849417986>:1: SettingWithCopyWarning: \n",
            "A value is trying to be set on a copy of a slice from a DataFrame.\n",
            "Try using .loc[row_indexer,col_indexer] = value instead\n",
            "\n",
            "See the caveats in the documentation: https://pandas.pydata.org/pandas-docs/stable/user_guide/indexing.html#returning-a-view-versus-a-copy\n",
            "  pjm_df_plant21.CAPFAC=pd.to_numeric(pjm_df_plant21.CAPFAC)\n"
          ]
        }
      ]
    },
    {
      "cell_type": "code",
      "source": [
        "#1 Balancing Authority Code\n",
        "npjm_df_plant21=df_plant21[df_plant21.BACODE==\"PJM\"]"
      ],
      "metadata": {
        "id": "SNws7SvHVL3J"
      },
      "execution_count": 109,
      "outputs": []
    },
    {
      "cell_type": "code",
      "source": [
        "#2 Primary fuel Coal, Gas\n",
        "npjm_df_plant21_coalgas=npjm_df_plant21[(npjm_df_plant21.PLFUELCT==\"COAL\")|(npjm_df_plant21.PLFUELCT==\"GAS\")]"
      ],
      "metadata": {
        "id": "dyprzlKXVpmD"
      },
      "execution_count": 110,
      "outputs": []
    },
    {
      "cell_type": "code",
      "source": [
        "#3Plant capacity factor is 0.05 or greater\n",
        "npjm_df_plant21_capfactor=npjm_df_plant21_coalgas[npjm_df_plant21_coalgas.CAPFAC>=.05]"
      ],
      "metadata": {
        "id": "jQCX6fzuVptl"
      },
      "execution_count": 112,
      "outputs": []
    },
    {
      "cell_type": "code",
      "source": [
        "#4 Plant nameplate capacity\n",
        "npjm_df_plant21_capacity=npjm_df_plant21_capfactor[npjm_df_plant21_capfactor.NAMEPCAP>=10]"
      ],
      "metadata": {
        "id": "HlYHMO5KbDiV"
      },
      "execution_count": 113,
      "outputs": []
    },
    {
      "cell_type": "code",
      "source": [
        "Installed_capacity=npjm_df_plant21_capacity.NAMEPCAP.sum()"
      ],
      "metadata": {
        "id": "cNBuX87XVp7f"
      },
      "execution_count": 115,
      "outputs": []
    },
    {
      "cell_type": "code",
      "source": [
        "Installed_capacity"
      ],
      "metadata": {
        "colab": {
          "base_uri": "https://localhost:8080/"
        },
        "id": "isfY5dLvVp-y",
        "outputId": "6fd516d8-5876-4405-80d8-f8a301143d4a"
      },
      "execution_count": 116,
      "outputs": [
        {
          "output_type": "execute_result",
          "data": {
            "text/plain": [
              "135778.8"
            ]
          },
          "metadata": {},
          "execution_count": 116
        }
      ]
    },
    {
      "cell_type": "code",
      "source": [
        "#Question a\n",
        "print(\"The total installed capacity from this subset of plants is\",Installed_capacity,\"MW\")"
      ],
      "metadata": {
        "colab": {
          "base_uri": "https://localhost:8080/"
        },
        "id": "kfnLjW3QfGu9",
        "outputId": "88f7d22d-75e3-4e35-a321-1eda7545cd2a"
      },
      "execution_count": 117,
      "outputs": [
        {
          "output_type": "stream",
          "name": "stdout",
          "text": [
            "The total installed capacity from this subset of plants is 135778.8 MW\n"
          ]
        }
      ]
    },
    {
      "cell_type": "code",
      "source": [
        "average_capacity_pjm=npjm_df_plant21_capfactor.NAMEPCAP.mean()"
      ],
      "metadata": {
        "id": "kIFm_ILafRoc"
      },
      "execution_count": 119,
      "outputs": []
    },
    {
      "cell_type": "code",
      "source": [
        "average_capacity_pjm"
      ],
      "metadata": {
        "colab": {
          "base_uri": "https://localhost:8080/"
        },
        "id": "8ZitvV7pfr5M",
        "outputId": "8433e873-e3e1-4f97-9969-63841ba6db66"
      },
      "execution_count": 120,
      "outputs": [
        {
          "output_type": "execute_result",
          "data": {
            "text/plain": [
              "541.6067729083665"
            ]
          },
          "metadata": {},
          "execution_count": 120
        }
      ]
    },
    {
      "cell_type": "code",
      "source": [
        "#Question b\n",
        "print(\"The average capacity factor is\",average_capacity_pjm)"
      ],
      "metadata": {
        "colab": {
          "base_uri": "https://localhost:8080/"
        },
        "id": "a1lijJS7fuJB",
        "outputId": "b06687bb-f102-4fde-c7f7-e6848b16da3b"
      },
      "execution_count": 123,
      "outputs": [
        {
          "output_type": "stream",
          "name": "stdout",
          "text": [
            "The average capacity factor is 541.6067729083665\n"
          ]
        }
      ]
    }
  ]
}